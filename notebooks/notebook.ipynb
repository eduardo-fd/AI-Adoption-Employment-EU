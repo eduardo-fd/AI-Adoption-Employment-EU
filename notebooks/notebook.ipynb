{
 "cells": [
  {
   "cell_type": "markdown",
   "id": "b8ceba71-ccf2-4de2-859e-eefa79c8cd04",
   "metadata": {},
   "source": [
    "# List of libraries:"
   ]
  },
  {
   "cell_type": "code",
   "execution_count": 1,
   "id": "1c1923bd-0e65-48e8-ab81-83e4299e3540",
   "metadata": {},
   "outputs": [],
   "source": [
    "import pandas as pd\n",
    "import numpy as np\n",
    "import subprocess\n",
    "from io import StringIO\n",
    "from linearmodels.panel import PanelOLS\n",
    "from scipy.stats import norm\n",
    "from scipy import stats\n",
    "import statsmodels.api as sm\n",
    "from statsmodels.stats.outliers_influence import variance_inflation_factor\n",
    "from statsmodels.stats.diagnostic import het_breuschpagan\n",
    "import matplotlib.pyplot as plt\n",
    "import seaborn as sns"
   ]
  },
  {
   "cell_type": "markdown",
   "id": "faebf621-db12-4f6c-ad7f-fa336a269bea",
   "metadata": {},
   "source": [
    "## DATA: ICT usage in enterprises"
   ]
  },
  {
   "cell_type": "code",
   "execution_count": 2,
   "id": "11a38133-3033-4e52-b5b2-062b4e349fac",
   "metadata": {},
   "outputs": [
    {
     "name": "stderr",
     "output_type": "stream",
     "text": [
      "/var/folders/jd/z2fjh1_11qq8pyp05ldmsvz00000gn/T/ipykernel_57948/249913561.py:9: DtypeWarning: Columns (9) have mixed types. Specify dtype option on import or set low_memory=False.\n",
      "  df = pd.read_csv(StringIO(csv_output))\n"
     ]
    }
   ],
   "source": [
    "path_file = \"../data/SDMXE_2017-2024 v250409.mdb\"\n",
    "tables = subprocess.check_output([\"mdb-tables\", \"-1\", path_file]).decode().splitlines()\n",
    "\n",
    "# Table - DataWithAggregates\n",
    "table_name = tables[4]\n",
    "csv_output = subprocess.check_output([\"mdb-export\", path_file, table_name]).decode()\n",
    "\n",
    "# Convert csv to DataFrame\n",
    "df = pd.read_csv(StringIO(csv_output))\n"
   ]
  },
  {
   "cell_type": "code",
   "execution_count": 3,
   "id": "774c93de-11b5-4bf7-b524-3558c91a9633",
   "metadata": {},
   "outputs": [
    {
     "data": {
      "text/html": [
       "<div>\n",
       "<style scoped>\n",
       "    .dataframe tbody tr th:only-of-type {\n",
       "        vertical-align: middle;\n",
       "    }\n",
       "\n",
       "    .dataframe tbody tr th {\n",
       "        vertical-align: top;\n",
       "    }\n",
       "\n",
       "    .dataframe thead th {\n",
       "        text-align: right;\n",
       "    }\n",
       "</style>\n",
       "<table border=\"1\" class=\"dataframe\">\n",
       "  <thead>\n",
       "    <tr style=\"text-align: right;\">\n",
       "      <th></th>\n",
       "      <th>IdYear</th>\n",
       "      <th>IdCountry</th>\n",
       "      <th>IdIndicator</th>\n",
       "      <th>IdEntSize</th>\n",
       "      <th>IdActivity</th>\n",
       "      <th>IdRegion</th>\n",
       "      <th>IdCustBrkdwn</th>\n",
       "      <th>IdUnit</th>\n",
       "      <th>Value</th>\n",
       "      <th>Flags</th>\n",
       "      <th>IdNote</th>\n",
       "    </tr>\n",
       "  </thead>\n",
       "  <tbody>\n",
       "    <tr>\n",
       "      <th>0</th>\n",
       "      <td>17</td>\n",
       "      <td>2</td>\n",
       "      <td>5</td>\n",
       "      <td>2574</td>\n",
       "      <td>2584</td>\n",
       "      <td>2631</td>\n",
       "      <td>2632</td>\n",
       "      <td>11</td>\n",
       "      <td>0.451982</td>\n",
       "      <td>NaN</td>\n",
       "      <td>0</td>\n",
       "    </tr>\n",
       "    <tr>\n",
       "      <th>1</th>\n",
       "      <td>17</td>\n",
       "      <td>2</td>\n",
       "      <td>5</td>\n",
       "      <td>2574</td>\n",
       "      <td>2585</td>\n",
       "      <td>2631</td>\n",
       "      <td>2632</td>\n",
       "      <td>11</td>\n",
       "      <td>0.526906</td>\n",
       "      <td>NaN</td>\n",
       "      <td>0</td>\n",
       "    </tr>\n",
       "    <tr>\n",
       "      <th>2</th>\n",
       "      <td>17</td>\n",
       "      <td>2</td>\n",
       "      <td>5</td>\n",
       "      <td>2574</td>\n",
       "      <td>2607</td>\n",
       "      <td>2631</td>\n",
       "      <td>2632</td>\n",
       "      <td>11</td>\n",
       "      <td>0.570223</td>\n",
       "      <td>NaN</td>\n",
       "      <td>0</td>\n",
       "    </tr>\n",
       "    <tr>\n",
       "      <th>3</th>\n",
       "      <td>17</td>\n",
       "      <td>2</td>\n",
       "      <td>5</td>\n",
       "      <td>2575</td>\n",
       "      <td>2584</td>\n",
       "      <td>2631</td>\n",
       "      <td>2632</td>\n",
       "      <td>11</td>\n",
       "      <td>0.391236</td>\n",
       "      <td>NaN</td>\n",
       "      <td>0</td>\n",
       "    </tr>\n",
       "    <tr>\n",
       "      <th>4</th>\n",
       "      <td>17</td>\n",
       "      <td>2</td>\n",
       "      <td>5</td>\n",
       "      <td>2575</td>\n",
       "      <td>2585</td>\n",
       "      <td>2631</td>\n",
       "      <td>2632</td>\n",
       "      <td>11</td>\n",
       "      <td>0.507099</td>\n",
       "      <td>NaN</td>\n",
       "      <td>0</td>\n",
       "    </tr>\n",
       "    <tr>\n",
       "      <th>5</th>\n",
       "      <td>17</td>\n",
       "      <td>2</td>\n",
       "      <td>5</td>\n",
       "      <td>2575</td>\n",
       "      <td>2607</td>\n",
       "      <td>2631</td>\n",
       "      <td>2632</td>\n",
       "      <td>11</td>\n",
       "      <td>0.563096</td>\n",
       "      <td>NaN</td>\n",
       "      <td>0</td>\n",
       "    </tr>\n",
       "    <tr>\n",
       "      <th>6</th>\n",
       "      <td>17</td>\n",
       "      <td>2</td>\n",
       "      <td>5</td>\n",
       "      <td>2577</td>\n",
       "      <td>2584</td>\n",
       "      <td>2631</td>\n",
       "      <td>2632</td>\n",
       "      <td>11</td>\n",
       "      <td>0.509925</td>\n",
       "      <td>NaN</td>\n",
       "      <td>0</td>\n",
       "    </tr>\n",
       "    <tr>\n",
       "      <th>7</th>\n",
       "      <td>17</td>\n",
       "      <td>2</td>\n",
       "      <td>5</td>\n",
       "      <td>2577</td>\n",
       "      <td>2585</td>\n",
       "      <td>2631</td>\n",
       "      <td>2632</td>\n",
       "      <td>11</td>\n",
       "      <td>0.551007</td>\n",
       "      <td>NaN</td>\n",
       "      <td>0</td>\n",
       "    </tr>\n",
       "    <tr>\n",
       "      <th>8</th>\n",
       "      <td>17</td>\n",
       "      <td>2</td>\n",
       "      <td>5</td>\n",
       "      <td>2577</td>\n",
       "      <td>2607</td>\n",
       "      <td>2631</td>\n",
       "      <td>2632</td>\n",
       "      <td>11</td>\n",
       "      <td>0.580228</td>\n",
       "      <td>NaN</td>\n",
       "      <td>0</td>\n",
       "    </tr>\n",
       "    <tr>\n",
       "      <th>9</th>\n",
       "      <td>17</td>\n",
       "      <td>2</td>\n",
       "      <td>5</td>\n",
       "      <td>2578</td>\n",
       "      <td>2580</td>\n",
       "      <td>2631</td>\n",
       "      <td>2632</td>\n",
       "      <td>11</td>\n",
       "      <td>0.330759</td>\n",
       "      <td>NaN</td>\n",
       "      <td>0</td>\n",
       "    </tr>\n",
       "  </tbody>\n",
       "</table>\n",
       "</div>"
      ],
      "text/plain": [
       "   IdYear  IdCountry  IdIndicator  IdEntSize  IdActivity  IdRegion  \\\n",
       "0      17          2            5       2574        2584      2631   \n",
       "1      17          2            5       2574        2585      2631   \n",
       "2      17          2            5       2574        2607      2631   \n",
       "3      17          2            5       2575        2584      2631   \n",
       "4      17          2            5       2575        2585      2631   \n",
       "5      17          2            5       2575        2607      2631   \n",
       "6      17          2            5       2577        2584      2631   \n",
       "7      17          2            5       2577        2585      2631   \n",
       "8      17          2            5       2577        2607      2631   \n",
       "9      17          2            5       2578        2580      2631   \n",
       "\n",
       "   IdCustBrkdwn  IdUnit     Value Flags  IdNote  \n",
       "0          2632      11  0.451982   NaN       0  \n",
       "1          2632      11  0.526906   NaN       0  \n",
       "2          2632      11  0.570223   NaN       0  \n",
       "3          2632      11  0.391236   NaN       0  \n",
       "4          2632      11  0.507099   NaN       0  \n",
       "5          2632      11  0.563096   NaN       0  \n",
       "6          2632      11  0.509925   NaN       0  \n",
       "7          2632      11  0.551007   NaN       0  \n",
       "8          2632      11  0.580228   NaN       0  \n",
       "9          2632      11  0.330759   NaN       0  "
      ]
     },
     "execution_count": 3,
     "metadata": {},
     "output_type": "execute_result"
    }
   ],
   "source": [
    "df.head(10)"
   ]
  },
  {
   "cell_type": "code",
   "execution_count": 4,
   "id": "bffc4297-0c25-4cce-8c53-3a2beaa7b1b4",
   "metadata": {},
   "outputs": [
    {
     "name": "stdout",
     "output_type": "stream",
     "text": [
      "There is 12892259 rows in this dataset\n"
     ]
    }
   ],
   "source": [
    "print( \"There is\", len(df), \"rows in this dataset\")"
   ]
  },
  {
   "cell_type": "code",
   "execution_count": 5,
   "id": "a8bb8b32-4e91-41b6-9be1-17aa599a162d",
   "metadata": {},
   "outputs": [
    {
     "data": {
      "text/html": [
       "<div>\n",
       "<style scoped>\n",
       "    .dataframe tbody tr th:only-of-type {\n",
       "        vertical-align: middle;\n",
       "    }\n",
       "\n",
       "    .dataframe tbody tr th {\n",
       "        vertical-align: top;\n",
       "    }\n",
       "\n",
       "    .dataframe thead th {\n",
       "        text-align: right;\n",
       "    }\n",
       "</style>\n",
       "<table border=\"1\" class=\"dataframe\">\n",
       "  <thead>\n",
       "    <tr style=\"text-align: right;\">\n",
       "      <th></th>\n",
       "      <th>IdCountry</th>\n",
       "      <th>ExpCountry</th>\n",
       "      <th>ExpCountryCaption</th>\n",
       "    </tr>\n",
       "  </thead>\n",
       "  <tbody>\n",
       "    <tr>\n",
       "      <th>0</th>\n",
       "      <td>2</td>\n",
       "      <td>AT</td>\n",
       "      <td>Austria</td>\n",
       "    </tr>\n",
       "    <tr>\n",
       "      <th>1</th>\n",
       "      <td>3</td>\n",
       "      <td>BE</td>\n",
       "      <td>Belgium</td>\n",
       "    </tr>\n",
       "    <tr>\n",
       "      <th>2</th>\n",
       "      <td>4</td>\n",
       "      <td>BG</td>\n",
       "      <td>Bulgaria</td>\n",
       "    </tr>\n",
       "    <tr>\n",
       "      <th>3</th>\n",
       "      <td>5</td>\n",
       "      <td>CY</td>\n",
       "      <td>Cyprus</td>\n",
       "    </tr>\n",
       "    <tr>\n",
       "      <th>4</th>\n",
       "      <td>6</td>\n",
       "      <td>CZ</td>\n",
       "      <td>Czechia</td>\n",
       "    </tr>\n",
       "  </tbody>\n",
       "</table>\n",
       "</div>"
      ],
      "text/plain": [
       "   IdCountry ExpCountry ExpCountryCaption\n",
       "0          2         AT           Austria\n",
       "1          3         BE           Belgium\n",
       "2          4         BG          Bulgaria\n",
       "3          5         CY            Cyprus\n",
       "4          6         CZ           Czechia"
      ]
     },
     "execution_count": 5,
     "metadata": {},
     "output_type": "execute_result"
    }
   ],
   "source": [
    "# Table - Countries\n",
    "table_name = tables[2]\n",
    "csv_output = subprocess.check_output([\"mdb-export\", path_file, table_name]).decode()\n",
    "df_country = pd.read_csv(StringIO(csv_output))\n",
    "df_country.head()"
   ]
  },
  {
   "cell_type": "code",
   "execution_count": 6,
   "id": "4cee248d-5b75-49de-b7e4-93234b074635",
   "metadata": {},
   "outputs": [],
   "source": [
    "# We only need to keep data from countries, so drop all aggregated data:\n",
    "\n",
    "# 32       EU15          European Union - 15 countries (1995-2004)\n",
    "# 33         EA          Euro area (EA11-1999, EA12-2001, EA13-..)\n",
    "# 35       EU25          European Union - 25 countries (2004-2006)\n",
    "# 37  EU27_2007          European Union - 27 countries (2007-2013)\n",
    "# 53       EU28          European Union - 28 countries (2013-2020)\n",
    "# 45  EU27_2020          European Union - 27 countries (from 2020)\n",
    "\n",
    "country_id = [32,33,35,37,53,45]\n",
    "df_filtered = df[~df['IdCountry'].isin(country_id)]"
   ]
  },
  {
   "cell_type": "code",
   "execution_count": 7,
   "id": "38e68ce6-6e8c-440a-abba-9993cd773d2d",
   "metadata": {},
   "outputs": [
    {
     "data": {
      "text/html": [
       "<div>\n",
       "<style scoped>\n",
       "    .dataframe tbody tr th:only-of-type {\n",
       "        vertical-align: middle;\n",
       "    }\n",
       "\n",
       "    .dataframe tbody tr th {\n",
       "        vertical-align: top;\n",
       "    }\n",
       "\n",
       "    .dataframe thead th {\n",
       "        text-align: right;\n",
       "    }\n",
       "</style>\n",
       "<table border=\"1\" class=\"dataframe\">\n",
       "  <thead>\n",
       "    <tr style=\"text-align: right;\">\n",
       "      <th></th>\n",
       "      <th>IdIndicator</th>\n",
       "      <th>ExpIndicator</th>\n",
       "      <th>IdIndicatorGroup</th>\n",
       "      <th>ExpIndicatorCaption</th>\n",
       "    </tr>\n",
       "  </thead>\n",
       "  <tbody>\n",
       "    <tr>\n",
       "      <th>0</th>\n",
       "      <td>4</td>\n",
       "      <td>P_CUSE</td>\n",
       "      <td>NaN</td>\n",
       "      <td>Persons employed using computers</td>\n",
       "    </tr>\n",
       "    <tr>\n",
       "      <th>1</th>\n",
       "      <td>5</td>\n",
       "      <td>P_IUSE</td>\n",
       "      <td>189.0</td>\n",
       "      <td>Persons employed have access to the internet f...</td>\n",
       "    </tr>\n",
       "    <tr>\n",
       "      <th>2</th>\n",
       "      <td>9</td>\n",
       "      <td>p_intra</td>\n",
       "      <td>NaN</td>\n",
       "      <td>Persons employed by enterprises which use inte...</td>\n",
       "    </tr>\n",
       "    <tr>\n",
       "      <th>3</th>\n",
       "      <td>12</td>\n",
       "      <td>p_extra</td>\n",
       "      <td>NaN</td>\n",
       "      <td>Persons employed by enterprises which use Extr...</td>\n",
       "    </tr>\n",
       "    <tr>\n",
       "      <th>4</th>\n",
       "      <td>15</td>\n",
       "      <td>p_iacc</td>\n",
       "      <td>NaN</td>\n",
       "      <td>Persons employed by enterprises which have acc...</td>\n",
       "    </tr>\n",
       "  </tbody>\n",
       "</table>\n",
       "</div>"
      ],
      "text/plain": [
       "   IdIndicator ExpIndicator  IdIndicatorGroup  \\\n",
       "0            4       P_CUSE               NaN   \n",
       "1            5       P_IUSE             189.0   \n",
       "2            9      p_intra               NaN   \n",
       "3           12      p_extra               NaN   \n",
       "4           15       p_iacc               NaN   \n",
       "\n",
       "                                 ExpIndicatorCaption  \n",
       "0                   Persons employed using computers  \n",
       "1  Persons employed have access to the internet f...  \n",
       "2  Persons employed by enterprises which use inte...  \n",
       "3  Persons employed by enterprises which use Extr...  \n",
       "4  Persons employed by enterprises which have acc...  "
      ]
     },
     "execution_count": 7,
     "metadata": {},
     "output_type": "execute_result"
    }
   ],
   "source": [
    "# Table - Indicators\n",
    "table_name = tables[8]\n",
    "csv_output = subprocess.check_output([\"mdb-export\", path_file, table_name]).decode()\n",
    "df_indicators = pd.read_csv(StringIO(csv_output))\n",
    "df_indicators.head()"
   ]
  },
  {
   "cell_type": "code",
   "execution_count": 8,
   "id": "80d18c34-f9d5-44ed-8d04-ccfcab3a5cb4",
   "metadata": {},
   "outputs": [
    {
     "data": {
      "text/plain": [
       "array([3160, 3165, 3170, 3175, 3375, 3383, 3391, 3399])"
      ]
     },
     "execution_count": 8,
     "metadata": {},
     "output_type": "execute_result"
    }
   ],
   "source": [
    "\n",
    "# Filter indicators, digital intensity index + use any AI technology:\n",
    "\n",
    "# IdIndicator  ExpIndicator  IdIndicatorGroup  ExpIndicatorCaption\n",
    "\n",
    "#3160  E_DI3_HI_AI_TANY    111.0  Enterprises with high digital intensity index, which use any artificial intelligence technology\n",
    "#3165  E_DI3_LO_AI_TANY    111.0  Enterprises with low digital intensity index, which use any artificial intelligence technology\n",
    "#3170  E_DI3_VHI_AI_TANY   111.0  Enterprises with very high digital intensity index, which use any artificial intelligence technology\n",
    "#3175  E_DI3_VLO_AI_TANY   111.0  Enterprises with very low digital intensity index, which use any artificial intelligence technology\n",
    "#3375  E_DI4_HI_AI_TANY    111.0  Enterprises with high digital intensity index (Version 4), which use any artificial intelligence technology\n",
    "#3383  E_DI4_LO_AI_TANY    111.0  Enterprises with low digital intensity index (Version 4), which use any artificial intelligence technology\n",
    "#3391  E_DI4_VHI_AI_TANY   111.0  Enterprises with very high digital intensity index (Version 4), which use any artificial intelligence technology\n",
    "#3399  E_DI4_VLO_AI_TANY   111.0  Enterprises with very low digital intensity index (Version 4), which use any artificial intelligence technology\n",
    "\n",
    "df_ia = df_indicators[df_indicators['ExpIndicatorCaption'].str.contains('use any Artificial Int', case=False, na=False)]\n",
    "df_ia['IdIndicator'].unique()"
   ]
  },
  {
   "cell_type": "code",
   "execution_count": 9,
   "id": "ece0beb9-0e47-4b4e-8c5f-21b3f6b09259",
   "metadata": {},
   "outputs": [
    {
     "data": {
      "text/html": [
       "<div>\n",
       "<style scoped>\n",
       "    .dataframe tbody tr th:only-of-type {\n",
       "        vertical-align: middle;\n",
       "    }\n",
       "\n",
       "    .dataframe tbody tr th {\n",
       "        vertical-align: top;\n",
       "    }\n",
       "\n",
       "    .dataframe thead th {\n",
       "        text-align: right;\n",
       "    }\n",
       "</style>\n",
       "<table border=\"1\" class=\"dataframe\">\n",
       "  <thead>\n",
       "    <tr style=\"text-align: right;\">\n",
       "      <th></th>\n",
       "      <th>IdYear</th>\n",
       "      <th>IdCountry</th>\n",
       "      <th>IdIndicator</th>\n",
       "      <th>IdEntSize</th>\n",
       "      <th>IdActivity</th>\n",
       "      <th>IdRegion</th>\n",
       "      <th>IdCustBrkdwn</th>\n",
       "      <th>IdUnit</th>\n",
       "      <th>Value</th>\n",
       "      <th>Flags</th>\n",
       "      <th>IdNote</th>\n",
       "    </tr>\n",
       "  </thead>\n",
       "  <tbody>\n",
       "    <tr>\n",
       "      <th>9168659</th>\n",
       "      <td>23</td>\n",
       "      <td>2</td>\n",
       "      <td>3160</td>\n",
       "      <td>2574</td>\n",
       "      <td>2584</td>\n",
       "      <td>2631</td>\n",
       "      <td>2632</td>\n",
       "      <td>16</td>\n",
       "      <td>0.034078</td>\n",
       "      <td>NaN</td>\n",
       "      <td>0</td>\n",
       "    </tr>\n",
       "    <tr>\n",
       "      <th>9168660</th>\n",
       "      <td>23</td>\n",
       "      <td>2</td>\n",
       "      <td>3160</td>\n",
       "      <td>2574</td>\n",
       "      <td>2585</td>\n",
       "      <td>2631</td>\n",
       "      <td>2632</td>\n",
       "      <td>16</td>\n",
       "      <td>0.045737</td>\n",
       "      <td>NaN</td>\n",
       "      <td>0</td>\n",
       "    </tr>\n",
       "    <tr>\n",
       "      <th>9168661</th>\n",
       "      <td>23</td>\n",
       "      <td>2</td>\n",
       "      <td>3160</td>\n",
       "      <td>2574</td>\n",
       "      <td>2607</td>\n",
       "      <td>2631</td>\n",
       "      <td>2632</td>\n",
       "      <td>16</td>\n",
       "      <td>0.051049</td>\n",
       "      <td>NaN</td>\n",
       "      <td>0</td>\n",
       "    </tr>\n",
       "    <tr>\n",
       "      <th>9168662</th>\n",
       "      <td>23</td>\n",
       "      <td>2</td>\n",
       "      <td>3160</td>\n",
       "      <td>2575</td>\n",
       "      <td>2584</td>\n",
       "      <td>2631</td>\n",
       "      <td>2632</td>\n",
       "      <td>16</td>\n",
       "      <td>0.026402</td>\n",
       "      <td>NaN</td>\n",
       "      <td>0</td>\n",
       "    </tr>\n",
       "    <tr>\n",
       "      <th>9168663</th>\n",
       "      <td>23</td>\n",
       "      <td>2</td>\n",
       "      <td>3160</td>\n",
       "      <td>2575</td>\n",
       "      <td>2585</td>\n",
       "      <td>2631</td>\n",
       "      <td>2632</td>\n",
       "      <td>16</td>\n",
       "      <td>0.041389</td>\n",
       "      <td>NaN</td>\n",
       "      <td>0</td>\n",
       "    </tr>\n",
       "  </tbody>\n",
       "</table>\n",
       "</div>"
      ],
      "text/plain": [
       "         IdYear  IdCountry  IdIndicator  IdEntSize  IdActivity  IdRegion  \\\n",
       "9168659      23          2         3160       2574        2584      2631   \n",
       "9168660      23          2         3160       2574        2585      2631   \n",
       "9168661      23          2         3160       2574        2607      2631   \n",
       "9168662      23          2         3160       2575        2584      2631   \n",
       "9168663      23          2         3160       2575        2585      2631   \n",
       "\n",
       "         IdCustBrkdwn  IdUnit     Value Flags  IdNote  \n",
       "9168659          2632      16  0.034078   NaN       0  \n",
       "9168660          2632      16  0.045737   NaN       0  \n",
       "9168661          2632      16  0.051049   NaN       0  \n",
       "9168662          2632      16  0.026402   NaN       0  \n",
       "9168663          2632      16  0.041389   NaN       0  "
      ]
     },
     "execution_count": 9,
     "metadata": {},
     "output_type": "execute_result"
    }
   ],
   "source": [
    "Any_AI_Tech=[3160, 3165, 3170, 3175, 3375, 3383, 3391, 3399]\n",
    "\n",
    "df_filtered = df_filtered[df_filtered['IdIndicator'].isin(Any_AI_Tech)]\n",
    "df_filtered['IdIndicator'].unique()\n",
    "df_filtered.head()"
   ]
  },
  {
   "cell_type": "code",
   "execution_count": 10,
   "id": "3863ae37-d611-4b14-b1d6-ae69e853bd88",
   "metadata": {},
   "outputs": [
    {
     "data": {
      "text/html": [
       "<div>\n",
       "<style scoped>\n",
       "    .dataframe tbody tr th:only-of-type {\n",
       "        vertical-align: middle;\n",
       "    }\n",
       "\n",
       "    .dataframe tbody tr th {\n",
       "        vertical-align: top;\n",
       "    }\n",
       "\n",
       "    .dataframe thead th {\n",
       "        text-align: right;\n",
       "    }\n",
       "</style>\n",
       "<table border=\"1\" class=\"dataframe\">\n",
       "  <thead>\n",
       "    <tr style=\"text-align: right;\">\n",
       "      <th></th>\n",
       "      <th>IdActivity</th>\n",
       "      <th>ExpActivity</th>\n",
       "      <th>IdActivityGroup</th>\n",
       "      <th>ExpActivityCaption</th>\n",
       "    </tr>\n",
       "  </thead>\n",
       "  <tbody>\n",
       "    <tr>\n",
       "      <th>0</th>\n",
       "      <td>2580</td>\n",
       "      <td>C10-C12</td>\n",
       "      <td>90.0</td>\n",
       "      <td>Manufacture of food products; beverages and to...</td>\n",
       "    </tr>\n",
       "    <tr>\n",
       "      <th>1</th>\n",
       "      <td>2581</td>\n",
       "      <td>C10-C18</td>\n",
       "      <td>91.0</td>\n",
       "      <td>Manufacture of products based on: food, bevera...</td>\n",
       "    </tr>\n",
       "    <tr>\n",
       "      <th>2</th>\n",
       "      <td>2582</td>\n",
       "      <td>C</td>\n",
       "      <td>91.0</td>\n",
       "      <td>Manufacturing</td>\n",
       "    </tr>\n",
       "    <tr>\n",
       "      <th>3</th>\n",
       "      <td>2583</td>\n",
       "      <td>C-E</td>\n",
       "      <td>91.0</td>\n",
       "      <td>Manufacturing, electricity, gas, steam and air...</td>\n",
       "    </tr>\n",
       "    <tr>\n",
       "      <th>4</th>\n",
       "      <td>2584</td>\n",
       "      <td>C-F</td>\n",
       "      <td>89.0</td>\n",
       "      <td>Manufacturing, electricity, gas, steam and air...</td>\n",
       "    </tr>\n",
       "  </tbody>\n",
       "</table>\n",
       "</div>"
      ],
      "text/plain": [
       "   IdActivity ExpActivity  IdActivityGroup  \\\n",
       "0        2580     C10-C12             90.0   \n",
       "1        2581     C10-C18             91.0   \n",
       "2        2582           C             91.0   \n",
       "3        2583         C-E             91.0   \n",
       "4        2584         C-F             89.0   \n",
       "\n",
       "                                  ExpActivityCaption  \n",
       "0  Manufacture of food products; beverages and to...  \n",
       "1  Manufacture of products based on: food, bevera...  \n",
       "2                                      Manufacturing  \n",
       "3  Manufacturing, electricity, gas, steam and air...  \n",
       "4  Manufacturing, electricity, gas, steam and air...  "
      ]
     },
     "execution_count": 10,
     "metadata": {},
     "output_type": "execute_result"
    }
   ],
   "source": [
    "# Table - Activities\n",
    "table_name = tables[0]\n",
    "csv_output = subprocess.check_output([\"mdb-export\", path_file, table_name]).decode()\n",
    "df_Activity = pd.read_csv(StringIO(csv_output))\n",
    "df_Activity['IdActivity'].unique()\n",
    "df_Activity.head()"
   ]
  },
  {
   "cell_type": "code",
   "execution_count": 11,
   "id": "582bff23-11a8-47b5-9b94-c545df90fc7a",
   "metadata": {},
   "outputs": [
    {
     "data": {
      "text/html": [
       "<div>\n",
       "<style scoped>\n",
       "    .dataframe tbody tr th:only-of-type {\n",
       "        vertical-align: middle;\n",
       "    }\n",
       "\n",
       "    .dataframe tbody tr th {\n",
       "        vertical-align: top;\n",
       "    }\n",
       "\n",
       "    .dataframe thead th {\n",
       "        text-align: right;\n",
       "    }\n",
       "</style>\n",
       "<table border=\"1\" class=\"dataframe\">\n",
       "  <thead>\n",
       "    <tr style=\"text-align: right;\">\n",
       "      <th></th>\n",
       "      <th>IdUnit</th>\n",
       "      <th>ExpUnit</th>\n",
       "      <th>ExpUnitCaption</th>\n",
       "    </tr>\n",
       "  </thead>\n",
       "  <tbody>\n",
       "    <tr>\n",
       "      <th>0</th>\n",
       "      <td>1</td>\n",
       "      <td>PC_ENT_CUSE</td>\n",
       "      <td>Percentage of the enterprises which use a comp...</td>\n",
       "    </tr>\n",
       "    <tr>\n",
       "      <th>1</th>\n",
       "      <td>2</td>\n",
       "      <td>PC_EMP_CUSE</td>\n",
       "      <td>Percentage of persons employed using a computer</td>\n",
       "    </tr>\n",
       "    <tr>\n",
       "      <th>2</th>\n",
       "      <td>3</td>\n",
       "      <td>PC_ENT_IACC</td>\n",
       "      <td>Percentage of the enterprises with internet ac...</td>\n",
       "    </tr>\n",
       "    <tr>\n",
       "      <th>3</th>\n",
       "      <td>11</td>\n",
       "      <td>PC_EMP</td>\n",
       "      <td>Percentage of total employment</td>\n",
       "    </tr>\n",
       "    <tr>\n",
       "      <th>4</th>\n",
       "      <td>14</td>\n",
       "      <td>MIO_EUR</td>\n",
       "      <td>Million euro</td>\n",
       "    </tr>\n",
       "  </tbody>\n",
       "</table>\n",
       "</div>"
      ],
      "text/plain": [
       "   IdUnit      ExpUnit                                     ExpUnitCaption\n",
       "0       1  PC_ENT_CUSE  Percentage of the enterprises which use a comp...\n",
       "1       2  PC_EMP_CUSE    Percentage of persons employed using a computer\n",
       "2       3  PC_ENT_IACC  Percentage of the enterprises with internet ac...\n",
       "3      11       PC_EMP                     Percentage of total employment\n",
       "4      14      MIO_EUR                                       Million euro"
      ]
     },
     "execution_count": 11,
     "metadata": {},
     "output_type": "execute_result"
    }
   ],
   "source": [
    "# Table - Units\n",
    "table_name = tables[14]\n",
    "csv_output = subprocess.check_output([\"mdb-export\", path_file, table_name]).decode()\n",
    "df_Units = pd.read_csv(StringIO(csv_output))\n",
    "df_Units.head()"
   ]
  },
  {
   "cell_type": "code",
   "execution_count": 12,
   "id": "0c18b317-356f-483a-a484-b1c1c3d8937b",
   "metadata": {},
   "outputs": [],
   "source": [
    "# Drop columns, perform an inner join (merge), and rename some columns/countries:\n",
    "df_filtered = df_filtered.merge(df_country, on=\"IdCountry\",how='inner').drop(columns=['IdCustBrkdwn','IdNote','Flags','IdCountry','IdUnit','IdRegion'])\n",
    "df_filtered = df_filtered.merge(df_Activity, on=\"IdActivity\",how='inner').drop(columns=['IdActivityGroup','ExpActivityCaption','IdActivity'])\n",
    "df_filtered = df_filtered.rename(columns={'ExpCountryCaption':'Country', 'ExpCountry':'IdCountry'}).replace('Bosnia and Herzegovina',value='Bosnia')\n",
    "df_filtered = df_filtered.dropna(subset=['Value'])"
   ]
  },
  {
   "cell_type": "code",
   "execution_count": 13,
   "id": "ac8211c8-4556-4f29-bd4e-db2bcbc9218a",
   "metadata": {},
   "outputs": [
    {
     "data": {
      "text/html": [
       "<div>\n",
       "<style scoped>\n",
       "    .dataframe tbody tr th:only-of-type {\n",
       "        vertical-align: middle;\n",
       "    }\n",
       "\n",
       "    .dataframe tbody tr th {\n",
       "        vertical-align: top;\n",
       "    }\n",
       "\n",
       "    .dataframe thead th {\n",
       "        text-align: right;\n",
       "    }\n",
       "</style>\n",
       "<table border=\"1\" class=\"dataframe\">\n",
       "  <thead>\n",
       "    <tr style=\"text-align: right;\">\n",
       "      <th></th>\n",
       "      <th>IdYear</th>\n",
       "      <th>IdIndicator</th>\n",
       "      <th>IdEntSize</th>\n",
       "      <th>Value</th>\n",
       "      <th>IdCountry</th>\n",
       "      <th>Country</th>\n",
       "      <th>ExpActivity</th>\n",
       "    </tr>\n",
       "  </thead>\n",
       "  <tbody>\n",
       "    <tr>\n",
       "      <th>0</th>\n",
       "      <td>23</td>\n",
       "      <td>3160</td>\n",
       "      <td>2574</td>\n",
       "      <td>0.034078</td>\n",
       "      <td>AT</td>\n",
       "      <td>Austria</td>\n",
       "      <td>C-F</td>\n",
       "    </tr>\n",
       "    <tr>\n",
       "      <th>1</th>\n",
       "      <td>23</td>\n",
       "      <td>3160</td>\n",
       "      <td>2574</td>\n",
       "      <td>0.045737</td>\n",
       "      <td>AT</td>\n",
       "      <td>Austria</td>\n",
       "      <td>C10-S951_X_K</td>\n",
       "    </tr>\n",
       "    <tr>\n",
       "      <th>2</th>\n",
       "      <td>23</td>\n",
       "      <td>3160</td>\n",
       "      <td>2574</td>\n",
       "      <td>0.051049</td>\n",
       "      <td>AT</td>\n",
       "      <td>Austria</td>\n",
       "      <td>G45-S951_X_K</td>\n",
       "    </tr>\n",
       "    <tr>\n",
       "      <th>3</th>\n",
       "      <td>23</td>\n",
       "      <td>3160</td>\n",
       "      <td>2575</td>\n",
       "      <td>0.026402</td>\n",
       "      <td>AT</td>\n",
       "      <td>Austria</td>\n",
       "      <td>C-F</td>\n",
       "    </tr>\n",
       "    <tr>\n",
       "      <th>4</th>\n",
       "      <td>23</td>\n",
       "      <td>3160</td>\n",
       "      <td>2575</td>\n",
       "      <td>0.041389</td>\n",
       "      <td>AT</td>\n",
       "      <td>Austria</td>\n",
       "      <td>C10-S951_X_K</td>\n",
       "    </tr>\n",
       "  </tbody>\n",
       "</table>\n",
       "</div>"
      ],
      "text/plain": [
       "   IdYear  IdIndicator  IdEntSize     Value IdCountry  Country   ExpActivity\n",
       "0      23         3160       2574  0.034078        AT  Austria           C-F\n",
       "1      23         3160       2574  0.045737        AT  Austria  C10-S951_X_K\n",
       "2      23         3160       2574  0.051049        AT  Austria  G45-S951_X_K\n",
       "3      23         3160       2575  0.026402        AT  Austria           C-F\n",
       "4      23         3160       2575  0.041389        AT  Austria  C10-S951_X_K"
      ]
     },
     "execution_count": 13,
     "metadata": {},
     "output_type": "execute_result"
    }
   ],
   "source": [
    "df_filtered.head()"
   ]
  },
  {
   "cell_type": "code",
   "execution_count": 14,
   "id": "45ca2083-1a7a-4eb2-bba3-25acb5f3844c",
   "metadata": {},
   "outputs": [],
   "source": [
    "# Dataset original (enterprise)\n",
    "df_filtered = df_filtered.rename(columns={'ExpActivity':'NACE'})"
   ]
  },
  {
   "cell_type": "code",
   "execution_count": 15,
   "id": "6f21eed2-b243-490e-93af-2ef69445d497",
   "metadata": {},
   "outputs": [
    {
     "data": {
      "text/html": [
       "<div>\n",
       "<style scoped>\n",
       "    .dataframe tbody tr th:only-of-type {\n",
       "        vertical-align: middle;\n",
       "    }\n",
       "\n",
       "    .dataframe tbody tr th {\n",
       "        vertical-align: top;\n",
       "    }\n",
       "\n",
       "    .dataframe thead th {\n",
       "        text-align: right;\n",
       "    }\n",
       "</style>\n",
       "<table border=\"1\" class=\"dataframe\">\n",
       "  <thead>\n",
       "    <tr style=\"text-align: right;\">\n",
       "      <th></th>\n",
       "      <th>IdYear</th>\n",
       "      <th>IdIndicator</th>\n",
       "      <th>IdEntSize</th>\n",
       "      <th>Value</th>\n",
       "      <th>IdCountry</th>\n",
       "      <th>Country</th>\n",
       "      <th>NACE</th>\n",
       "    </tr>\n",
       "  </thead>\n",
       "  <tbody>\n",
       "    <tr>\n",
       "      <th>0</th>\n",
       "      <td>23</td>\n",
       "      <td>3160</td>\n",
       "      <td>2574</td>\n",
       "      <td>0.034078</td>\n",
       "      <td>AT</td>\n",
       "      <td>Austria</td>\n",
       "      <td>C-F</td>\n",
       "    </tr>\n",
       "    <tr>\n",
       "      <th>1</th>\n",
       "      <td>23</td>\n",
       "      <td>3160</td>\n",
       "      <td>2574</td>\n",
       "      <td>0.045737</td>\n",
       "      <td>AT</td>\n",
       "      <td>Austria</td>\n",
       "      <td>C10-S951_X_K</td>\n",
       "    </tr>\n",
       "    <tr>\n",
       "      <th>2</th>\n",
       "      <td>23</td>\n",
       "      <td>3160</td>\n",
       "      <td>2574</td>\n",
       "      <td>0.051049</td>\n",
       "      <td>AT</td>\n",
       "      <td>Austria</td>\n",
       "      <td>G45-S951_X_K</td>\n",
       "    </tr>\n",
       "    <tr>\n",
       "      <th>3</th>\n",
       "      <td>23</td>\n",
       "      <td>3160</td>\n",
       "      <td>2575</td>\n",
       "      <td>0.026402</td>\n",
       "      <td>AT</td>\n",
       "      <td>Austria</td>\n",
       "      <td>C-F</td>\n",
       "    </tr>\n",
       "    <tr>\n",
       "      <th>4</th>\n",
       "      <td>23</td>\n",
       "      <td>3160</td>\n",
       "      <td>2575</td>\n",
       "      <td>0.041389</td>\n",
       "      <td>AT</td>\n",
       "      <td>Austria</td>\n",
       "      <td>C10-S951_X_K</td>\n",
       "    </tr>\n",
       "    <tr>\n",
       "      <th>...</th>\n",
       "      <td>...</td>\n",
       "      <td>...</td>\n",
       "      <td>...</td>\n",
       "      <td>...</td>\n",
       "      <td>...</td>\n",
       "      <td>...</td>\n",
       "      <td>...</td>\n",
       "    </tr>\n",
       "    <tr>\n",
       "      <th>15990</th>\n",
       "      <td>24</td>\n",
       "      <td>3399</td>\n",
       "      <td>2578</td>\n",
       "      <td>0.000000</td>\n",
       "      <td>BA</td>\n",
       "      <td>Bosnia</td>\n",
       "      <td>S951</td>\n",
       "    </tr>\n",
       "    <tr>\n",
       "      <th>15991</th>\n",
       "      <td>24</td>\n",
       "      <td>3399</td>\n",
       "      <td>2578</td>\n",
       "      <td>0.000000</td>\n",
       "      <td>BA</td>\n",
       "      <td>Bosnia</td>\n",
       "      <td>L_M</td>\n",
       "    </tr>\n",
       "    <tr>\n",
       "      <th>15992</th>\n",
       "      <td>24</td>\n",
       "      <td>3399</td>\n",
       "      <td>2579</td>\n",
       "      <td>0.000000</td>\n",
       "      <td>BA</td>\n",
       "      <td>Bosnia</td>\n",
       "      <td>C-F</td>\n",
       "    </tr>\n",
       "    <tr>\n",
       "      <th>15993</th>\n",
       "      <td>24</td>\n",
       "      <td>3399</td>\n",
       "      <td>2579</td>\n",
       "      <td>0.000000</td>\n",
       "      <td>BA</td>\n",
       "      <td>Bosnia</td>\n",
       "      <td>C10-S951_X_K</td>\n",
       "    </tr>\n",
       "    <tr>\n",
       "      <th>15994</th>\n",
       "      <td>24</td>\n",
       "      <td>3399</td>\n",
       "      <td>2579</td>\n",
       "      <td>0.000000</td>\n",
       "      <td>BA</td>\n",
       "      <td>Bosnia</td>\n",
       "      <td>G45-S951_X_K</td>\n",
       "    </tr>\n",
       "  </tbody>\n",
       "</table>\n",
       "<p>13649 rows × 7 columns</p>\n",
       "</div>"
      ],
      "text/plain": [
       "       IdYear  IdIndicator  IdEntSize     Value IdCountry  Country  \\\n",
       "0          23         3160       2574  0.034078        AT  Austria   \n",
       "1          23         3160       2574  0.045737        AT  Austria   \n",
       "2          23         3160       2574  0.051049        AT  Austria   \n",
       "3          23         3160       2575  0.026402        AT  Austria   \n",
       "4          23         3160       2575  0.041389        AT  Austria   \n",
       "...       ...          ...        ...       ...       ...      ...   \n",
       "15990      24         3399       2578  0.000000        BA   Bosnia   \n",
       "15991      24         3399       2578  0.000000        BA   Bosnia   \n",
       "15992      24         3399       2579  0.000000        BA   Bosnia   \n",
       "15993      24         3399       2579  0.000000        BA   Bosnia   \n",
       "15994      24         3399       2579  0.000000        BA   Bosnia   \n",
       "\n",
       "               NACE  \n",
       "0               C-F  \n",
       "1      C10-S951_X_K  \n",
       "2      G45-S951_X_K  \n",
       "3               C-F  \n",
       "4      C10-S951_X_K  \n",
       "...             ...  \n",
       "15990          S951  \n",
       "15991           L_M  \n",
       "15992           C-F  \n",
       "15993  C10-S951_X_K  \n",
       "15994  G45-S951_X_K  \n",
       "\n",
       "[13649 rows x 7 columns]"
      ]
     },
     "execution_count": 15,
     "metadata": {},
     "output_type": "execute_result"
    }
   ],
   "source": [
    "df_filtered #dataset original IA adoption - 13649 rows"
   ]
  },
  {
   "cell_type": "code",
   "execution_count": 16,
   "id": "a72bdf67-68bf-4ead-941d-a23921f241a9",
   "metadata": {},
   "outputs": [],
   "source": [
    "# Group by economic activity at level 1 (A–U):\n",
    "data_sector = df_filtered.copy()\n",
    "data_sector['NACE'] = data_sector['NACE'].replace({\n",
    "    'C10-C12': 'C',\n",
    "    'C10-C18': 'C',\n",
    "    'C16-C18': 'C',\n",
    "    'C19-C23': 'C',\n",
    "    'C20': 'C',\n",
    "    'C21': 'C',\n",
    "    'C22_C23': 'C',\n",
    "    'C24_C25': 'C',\n",
    "    'C26': 'C',\n",
    "    'C26-C33': 'C',\n",
    "    'C27': 'C',\n",
    "    'C27_C28': 'C',\n",
    "    'C28': 'C',\n",
    "    'C29_C30': 'C',\n",
    "    'C31-C33': 'C',\n",
    "    'C13-C15': 'C', \n",
    "    'C19':'C'  \n",
    "})\n",
    "data_sector['NACE'] = data_sector['NACE'].replace({'D35': 'D'})\n",
    "data_sector['NACE'] = data_sector['NACE'].replace({'G45': 'G','G46': 'G','G47': 'G'})\n",
    "data_sector['NACE'] = data_sector['NACE'].replace({'I55': 'I',})\n",
    "data_sector['NACE'] = data_sector['NACE'].replace({'J58-J60': 'J','J62_J63': 'J','J61': 'J'})\n",
    "data_sector['NACE'] = data_sector['NACE'].replace({'L68': 'L'})\n",
    "data_sector['NACE'] = data_sector['NACE'].replace({'M69-M71': 'M','M72': 'M','M73-M75': 'M'})\n",
    "data_sector['NACE'] = data_sector['NACE'].replace({'N77-N82_X_N79': 'N','N79': 'N'})\n",
    "data_sector['NACE'] = data_sector['NACE'].replace({'S951': 'S'})"
   ]
  },
  {
   "cell_type": "code",
   "execution_count": 17,
   "id": "2718b689-e0d5-4087-a12b-3a89ce3cc6f1",
   "metadata": {},
   "outputs": [],
   "source": [
    "# Remove different economic activities at level 1 (indeterminable classification):\"\n",
    "categorias_a_eliminar = ['L_M', 'C-F', 'C10-S951_X_K', 'G45-S951_X_K','C-E','D_E','ICT']\n",
    "data_sector = data_sector[~data_sector['NACE'].isin(categorias_a_eliminar)]"
   ]
  },
  {
   "cell_type": "code",
   "execution_count": 18,
   "id": "e3bc3039-a162-47cc-89a7-abbb4d88965c",
   "metadata": {},
   "outputs": [
    {
     "data": {
      "text/plain": [
       "array(['C', 'D', 'F', 'G', 'H', 'I', 'J', 'L', 'M', 'N', 'E', 'S'],\n",
       "      dtype=object)"
      ]
     },
     "execution_count": 18,
     "metadata": {},
     "output_type": "execute_result"
    }
   ],
   "source": [
    "data_sector['NACE'].unique()"
   ]
  },
  {
   "cell_type": "code",
   "execution_count": 19,
   "id": "100078bc-3650-4cd8-83be-086072931eca",
   "metadata": {},
   "outputs": [
    {
     "data": {
      "text/plain": [
       "False"
      ]
     },
     "execution_count": 19,
     "metadata": {},
     "output_type": "execute_result"
    }
   ],
   "source": [
    "# Look for duplicates\n",
    "cols_clave = ['IdYear','IdIndicator', 'IdEntSize', 'Value', 'Country', 'NACE']\n",
    "duplicados = data_sector[data_sector.duplicated(subset=cols_clave, keep=False)]\n",
    "duplicados_exactos = data_sector[data_sector.duplicated(keep=False)]\n",
    "len(duplicados_exactos)==0 #there is duplicates"
   ]
  },
  {
   "cell_type": "code",
   "execution_count": 20,
   "id": "45c1b552-80be-4ede-ad0d-441bddd8a230",
   "metadata": {},
   "outputs": [
    {
     "data": {
      "text/html": [
       "<div>\n",
       "<style scoped>\n",
       "    .dataframe tbody tr th:only-of-type {\n",
       "        vertical-align: middle;\n",
       "    }\n",
       "\n",
       "    .dataframe tbody tr th {\n",
       "        vertical-align: top;\n",
       "    }\n",
       "\n",
       "    .dataframe thead th {\n",
       "        text-align: right;\n",
       "    }\n",
       "</style>\n",
       "<table border=\"1\" class=\"dataframe\">\n",
       "  <thead>\n",
       "    <tr style=\"text-align: right;\">\n",
       "      <th></th>\n",
       "      <th>IdYear</th>\n",
       "      <th>IdIndicator</th>\n",
       "      <th>IdEntSize</th>\n",
       "      <th>Value</th>\n",
       "      <th>IdCountry</th>\n",
       "      <th>Country</th>\n",
       "      <th>NACE</th>\n",
       "    </tr>\n",
       "  </thead>\n",
       "  <tbody>\n",
       "    <tr>\n",
       "      <th>9</th>\n",
       "      <td>23</td>\n",
       "      <td>3160</td>\n",
       "      <td>2578</td>\n",
       "      <td>0.037189</td>\n",
       "      <td>AT</td>\n",
       "      <td>Austria</td>\n",
       "      <td>C</td>\n",
       "    </tr>\n",
       "    <tr>\n",
       "      <th>10</th>\n",
       "      <td>23</td>\n",
       "      <td>3160</td>\n",
       "      <td>2578</td>\n",
       "      <td>0.042209</td>\n",
       "      <td>AT</td>\n",
       "      <td>Austria</td>\n",
       "      <td>C</td>\n",
       "    </tr>\n",
       "    <tr>\n",
       "      <th>11</th>\n",
       "      <td>23</td>\n",
       "      <td>3160</td>\n",
       "      <td>2578</td>\n",
       "      <td>0.061024</td>\n",
       "      <td>AT</td>\n",
       "      <td>Austria</td>\n",
       "      <td>C</td>\n",
       "    </tr>\n",
       "    <tr>\n",
       "      <th>16</th>\n",
       "      <td>23</td>\n",
       "      <td>3160</td>\n",
       "      <td>2578</td>\n",
       "      <td>0.053235</td>\n",
       "      <td>AT</td>\n",
       "      <td>Austria</td>\n",
       "      <td>C</td>\n",
       "    </tr>\n",
       "    <tr>\n",
       "      <th>18</th>\n",
       "      <td>23</td>\n",
       "      <td>3160</td>\n",
       "      <td>2578</td>\n",
       "      <td>0.062569</td>\n",
       "      <td>AT</td>\n",
       "      <td>Austria</td>\n",
       "      <td>C</td>\n",
       "    </tr>\n",
       "    <tr>\n",
       "      <th>...</th>\n",
       "      <td>...</td>\n",
       "      <td>...</td>\n",
       "      <td>...</td>\n",
       "      <td>...</td>\n",
       "      <td>...</td>\n",
       "      <td>...</td>\n",
       "      <td>...</td>\n",
       "    </tr>\n",
       "    <tr>\n",
       "      <th>15978</th>\n",
       "      <td>24</td>\n",
       "      <td>3399</td>\n",
       "      <td>2578</td>\n",
       "      <td>0.000000</td>\n",
       "      <td>BA</td>\n",
       "      <td>Bosnia</td>\n",
       "      <td>J</td>\n",
       "    </tr>\n",
       "    <tr>\n",
       "      <th>15982</th>\n",
       "      <td>24</td>\n",
       "      <td>3399</td>\n",
       "      <td>2578</td>\n",
       "      <td>0.000000</td>\n",
       "      <td>BA</td>\n",
       "      <td>Bosnia</td>\n",
       "      <td>L</td>\n",
       "    </tr>\n",
       "    <tr>\n",
       "      <th>15983</th>\n",
       "      <td>24</td>\n",
       "      <td>3399</td>\n",
       "      <td>2578</td>\n",
       "      <td>0.000000</td>\n",
       "      <td>BA</td>\n",
       "      <td>Bosnia</td>\n",
       "      <td>M</td>\n",
       "    </tr>\n",
       "    <tr>\n",
       "      <th>15987</th>\n",
       "      <td>24</td>\n",
       "      <td>3399</td>\n",
       "      <td>2578</td>\n",
       "      <td>0.000000</td>\n",
       "      <td>BA</td>\n",
       "      <td>Bosnia</td>\n",
       "      <td>N</td>\n",
       "    </tr>\n",
       "    <tr>\n",
       "      <th>15990</th>\n",
       "      <td>24</td>\n",
       "      <td>3399</td>\n",
       "      <td>2578</td>\n",
       "      <td>0.000000</td>\n",
       "      <td>BA</td>\n",
       "      <td>Bosnia</td>\n",
       "      <td>S</td>\n",
       "    </tr>\n",
       "  </tbody>\n",
       "</table>\n",
       "<p>7388 rows × 7 columns</p>\n",
       "</div>"
      ],
      "text/plain": [
       "       IdYear  IdIndicator  IdEntSize     Value IdCountry  Country NACE\n",
       "9          23         3160       2578  0.037189        AT  Austria    C\n",
       "10         23         3160       2578  0.042209        AT  Austria    C\n",
       "11         23         3160       2578  0.061024        AT  Austria    C\n",
       "16         23         3160       2578  0.053235        AT  Austria    C\n",
       "18         23         3160       2578  0.062569        AT  Austria    C\n",
       "...       ...          ...        ...       ...       ...      ...  ...\n",
       "15978      24         3399       2578  0.000000        BA   Bosnia    J\n",
       "15982      24         3399       2578  0.000000        BA   Bosnia    L\n",
       "15983      24         3399       2578  0.000000        BA   Bosnia    M\n",
       "15987      24         3399       2578  0.000000        BA   Bosnia    N\n",
       "15990      24         3399       2578  0.000000        BA   Bosnia    S\n",
       "\n",
       "[7388 rows x 7 columns]"
      ]
     },
     "execution_count": 20,
     "metadata": {},
     "output_type": "execute_result"
    }
   ],
   "source": [
    "# Delete duplicates\n",
    "data_sector = data_sector.drop_duplicates(subset=cols_clave)\n",
    "data_IA = data_sector.copy()\n",
    "data_IA #7388 obs"
   ]
  },
  {
   "cell_type": "code",
   "execution_count": 21,
   "id": "f662013d-ad9e-4273-9847-6d852ac6d130",
   "metadata": {},
   "outputs": [
    {
     "data": {
      "text/html": [
       "<div>\n",
       "<style scoped>\n",
       "    .dataframe tbody tr th:only-of-type {\n",
       "        vertical-align: middle;\n",
       "    }\n",
       "\n",
       "    .dataframe tbody tr th {\n",
       "        vertical-align: top;\n",
       "    }\n",
       "\n",
       "    .dataframe thead th {\n",
       "        text-align: right;\n",
       "    }\n",
       "</style>\n",
       "<table border=\"1\" class=\"dataframe\">\n",
       "  <thead>\n",
       "    <tr style=\"text-align: right;\">\n",
       "      <th></th>\n",
       "      <th>Country</th>\n",
       "      <th>IdYear</th>\n",
       "      <th>NACE</th>\n",
       "      <th>Value</th>\n",
       "    </tr>\n",
       "  </thead>\n",
       "  <tbody>\n",
       "    <tr>\n",
       "      <th>0</th>\n",
       "      <td>Austria</td>\n",
       "      <td>23</td>\n",
       "      <td>C</td>\n",
       "      <td>0.055203</td>\n",
       "    </tr>\n",
       "    <tr>\n",
       "      <th>1</th>\n",
       "      <td>Austria</td>\n",
       "      <td>23</td>\n",
       "      <td>D</td>\n",
       "      <td>0.126754</td>\n",
       "    </tr>\n",
       "    <tr>\n",
       "      <th>2</th>\n",
       "      <td>Austria</td>\n",
       "      <td>23</td>\n",
       "      <td>E</td>\n",
       "      <td>0.014525</td>\n",
       "    </tr>\n",
       "    <tr>\n",
       "      <th>3</th>\n",
       "      <td>Austria</td>\n",
       "      <td>23</td>\n",
       "      <td>F</td>\n",
       "      <td>0.010688</td>\n",
       "    </tr>\n",
       "    <tr>\n",
       "      <th>4</th>\n",
       "      <td>Austria</td>\n",
       "      <td>23</td>\n",
       "      <td>G</td>\n",
       "      <td>0.030139</td>\n",
       "    </tr>\n",
       "    <tr>\n",
       "      <th>...</th>\n",
       "      <td>...</td>\n",
       "      <td>...</td>\n",
       "      <td>...</td>\n",
       "      <td>...</td>\n",
       "    </tr>\n",
       "    <tr>\n",
       "      <th>682</th>\n",
       "      <td>Sweden</td>\n",
       "      <td>24</td>\n",
       "      <td>J</td>\n",
       "      <td>0.139043</td>\n",
       "    </tr>\n",
       "    <tr>\n",
       "      <th>683</th>\n",
       "      <td>Sweden</td>\n",
       "      <td>24</td>\n",
       "      <td>L</td>\n",
       "      <td>0.038415</td>\n",
       "    </tr>\n",
       "    <tr>\n",
       "      <th>684</th>\n",
       "      <td>Sweden</td>\n",
       "      <td>24</td>\n",
       "      <td>M</td>\n",
       "      <td>0.117257</td>\n",
       "    </tr>\n",
       "    <tr>\n",
       "      <th>685</th>\n",
       "      <td>Sweden</td>\n",
       "      <td>24</td>\n",
       "      <td>N</td>\n",
       "      <td>0.049761</td>\n",
       "    </tr>\n",
       "    <tr>\n",
       "      <th>686</th>\n",
       "      <td>Sweden</td>\n",
       "      <td>24</td>\n",
       "      <td>S</td>\n",
       "      <td>0.000000</td>\n",
       "    </tr>\n",
       "  </tbody>\n",
       "</table>\n",
       "<p>687 rows × 4 columns</p>\n",
       "</div>"
      ],
      "text/plain": [
       "     Country  IdYear NACE     Value\n",
       "0    Austria      23    C  0.055203\n",
       "1    Austria      23    D  0.126754\n",
       "2    Austria      23    E  0.014525\n",
       "3    Austria      23    F  0.010688\n",
       "4    Austria      23    G  0.030139\n",
       "..       ...     ...  ...       ...\n",
       "682   Sweden      24    J  0.139043\n",
       "683   Sweden      24    L  0.038415\n",
       "684   Sweden      24    M  0.117257\n",
       "685   Sweden      24    N  0.049761\n",
       "686   Sweden      24    S  0.000000\n",
       "\n",
       "[687 rows x 4 columns]"
      ]
     },
     "execution_count": 21,
     "metadata": {},
     "output_type": "execute_result"
    }
   ],
   "source": [
    "# Finally group by economic activity:\n",
    "data_sector = data_sector.groupby(['Country','IdYear','NACE'])['Value'].mean().reset_index()\n",
    "data_sector[data_sector['Country']=='Spain']\n",
    "data_sector #dataset aggregated by NACE\n",
    "#687 obs\n"
   ]
  },
  {
   "cell_type": "markdown",
   "id": "f9bcac21-de9b-4058-ae34-69ebb19c7ab7",
   "metadata": {},
   "source": [
    "## DATA: Employment data"
   ]
  },
  {
   "cell_type": "code",
   "execution_count": 22,
   "id": "ff479d2e-9017-4a28-8a4b-f2ccd1deecf5",
   "metadata": {},
   "outputs": [],
   "source": [
    "path = \"../data/lfsa_eisn2.xlsx\""
   ]
  },
  {
   "cell_type": "markdown",
   "id": "f4b9e6ae-e937-429f-a01e-f82789f6e8be",
   "metadata": {},
   "source": [
    "There are a lot of sheets, so we need to automate this task and retrive the data for each NACE and ISCO id."
   ]
  },
  {
   "cell_type": "code",
   "execution_count": 23,
   "id": "d49f66c3-55db-42a9-84f8-4a76b6576be4",
   "metadata": {},
   "outputs": [],
   "source": [
    "# Mapping different sectors and occupations:\n",
    "\n",
    "NACE_Id = {\"Agriculture, forestry and fishing\":\"A\",\n",
    "\"Mining and quarrying\":\"B\",\n",
    "\"Manufacturing\":\"C\",\n",
    "\"Electricity, gas, steam and air conditioning supply\":\"D\",\n",
    "\"Water supply; sewerage, waste management and remediation activities\":\"E\",\n",
    "\"Construction\":\"F\",\n",
    "\"Wholesale and retail trade; repair of motor vehicles and motorcycles\":\"G\",\n",
    "\"Transportation and storage\":\"H\",\n",
    "\"Accommodation and food service activities\":\"I\",\n",
    "\"Information and communication\":\"J\",\n",
    "\"Financial and insurance activities\":\"K\",\n",
    "\"Real estate activities\":\"L\",\n",
    "\"Professional, scientific and technical activities\":\"M\",\n",
    "\"Administrative and support service activities\":\"N\",\n",
    "\"Public administration and defence; compulsory social security\":\"O\",\n",
    "\"Education\":\"P\",\n",
    "\"Human health and social work activities\":\"Q\",\n",
    "\"Arts, entertainment and recreation\":\"R\",\n",
    "\"Other service activities\":\"S\",\n",
    "\"Activities of households as employers; undifferentiated goods- and services-producing activities of households for own use\":\"T\",\n",
    "\"Activities of extraterritorial organisations and bodies\":\"U\"}\n",
    "\n",
    "ISCO_Id = {\"Managers\":\"OC1\",\n",
    "\"Professionals\":\"OC2\",\n",
    "\"Technicians\": \"OC3\",\n",
    "\"Clerical support workers\":\"OC4\",\n",
    "\"Service and sales workers\":\"OC5\",\n",
    "\"Skilled agricultural, forestry and fishery workers\":\"OC6\",\n",
    "\"Craft and related trades workers\":\"OC7\",\n",
    "\"Plant and machine operators and assemblers\":\"OC8\",\n",
    "\"Elementary occupations\":\"OC9\",\n",
    "\"Armed forces occupations\":\"OC0\"}"
   ]
  },
  {
   "cell_type": "code",
   "execution_count": 24,
   "id": "ed230cd2-0e7b-4823-b098-35b9046e613f",
   "metadata": {
    "scrolled": true
   },
   "outputs": [
    {
     "name": "stderr",
     "output_type": "stream",
     "text": [
      "/Users/edu/Desktop/Github/Efectos-IA-Empleo/.venv/lib/python3.12/site-packages/openpyxl/styles/stylesheet.py:237: UserWarning: Workbook contains no default style, apply openpyxl's default\n",
      "  warn(\"Workbook contains no default style, apply openpyxl's default\")\n"
     ]
    },
    {
     "name": "stdout",
     "output_type": "stream",
     "text": [
      "Hoja 2\n"
     ]
    },
    {
     "name": "stderr",
     "output_type": "stream",
     "text": [
      "/Users/edu/Desktop/Github/Efectos-IA-Empleo/.venv/lib/python3.12/site-packages/openpyxl/styles/stylesheet.py:237: UserWarning: Workbook contains no default style, apply openpyxl's default\n",
      "  warn(\"Workbook contains no default style, apply openpyxl's default\")\n"
     ]
    },
    {
     "name": "stdout",
     "output_type": "stream",
     "text": [
      "Hoja 3\n"
     ]
    },
    {
     "name": "stderr",
     "output_type": "stream",
     "text": [
      "/Users/edu/Desktop/Github/Efectos-IA-Empleo/.venv/lib/python3.12/site-packages/openpyxl/styles/stylesheet.py:237: UserWarning: Workbook contains no default style, apply openpyxl's default\n",
      "  warn(\"Workbook contains no default style, apply openpyxl's default\")\n"
     ]
    },
    {
     "name": "stdout",
     "output_type": "stream",
     "text": [
      "Hoja 4\n",
      "Hoja 5\n"
     ]
    },
    {
     "name": "stderr",
     "output_type": "stream",
     "text": [
      "/Users/edu/Desktop/Github/Efectos-IA-Empleo/.venv/lib/python3.12/site-packages/openpyxl/styles/stylesheet.py:237: UserWarning: Workbook contains no default style, apply openpyxl's default\n",
      "  warn(\"Workbook contains no default style, apply openpyxl's default\")\n",
      "/Users/edu/Desktop/Github/Efectos-IA-Empleo/.venv/lib/python3.12/site-packages/openpyxl/styles/stylesheet.py:237: UserWarning: Workbook contains no default style, apply openpyxl's default\n",
      "  warn(\"Workbook contains no default style, apply openpyxl's default\")\n"
     ]
    },
    {
     "name": "stdout",
     "output_type": "stream",
     "text": [
      "Hoja 6\n"
     ]
    },
    {
     "name": "stderr",
     "output_type": "stream",
     "text": [
      "/Users/edu/Desktop/Github/Efectos-IA-Empleo/.venv/lib/python3.12/site-packages/openpyxl/styles/stylesheet.py:237: UserWarning: Workbook contains no default style, apply openpyxl's default\n",
      "  warn(\"Workbook contains no default style, apply openpyxl's default\")\n"
     ]
    },
    {
     "name": "stdout",
     "output_type": "stream",
     "text": [
      "Hoja 7\n"
     ]
    },
    {
     "name": "stderr",
     "output_type": "stream",
     "text": [
      "/Users/edu/Desktop/Github/Efectos-IA-Empleo/.venv/lib/python3.12/site-packages/openpyxl/styles/stylesheet.py:237: UserWarning: Workbook contains no default style, apply openpyxl's default\n",
      "  warn(\"Workbook contains no default style, apply openpyxl's default\")\n"
     ]
    },
    {
     "name": "stdout",
     "output_type": "stream",
     "text": [
      "Hoja 8\n"
     ]
    },
    {
     "name": "stderr",
     "output_type": "stream",
     "text": [
      "/Users/edu/Desktop/Github/Efectos-IA-Empleo/.venv/lib/python3.12/site-packages/openpyxl/styles/stylesheet.py:237: UserWarning: Workbook contains no default style, apply openpyxl's default\n",
      "  warn(\"Workbook contains no default style, apply openpyxl's default\")\n"
     ]
    },
    {
     "name": "stdout",
     "output_type": "stream",
     "text": [
      "Hoja 9\n"
     ]
    },
    {
     "name": "stderr",
     "output_type": "stream",
     "text": [
      "/Users/edu/Desktop/Github/Efectos-IA-Empleo/.venv/lib/python3.12/site-packages/openpyxl/styles/stylesheet.py:237: UserWarning: Workbook contains no default style, apply openpyxl's default\n",
      "  warn(\"Workbook contains no default style, apply openpyxl's default\")\n"
     ]
    },
    {
     "name": "stdout",
     "output_type": "stream",
     "text": [
      "Hoja 10\n"
     ]
    },
    {
     "name": "stderr",
     "output_type": "stream",
     "text": [
      "/Users/edu/Desktop/Github/Efectos-IA-Empleo/.venv/lib/python3.12/site-packages/openpyxl/styles/stylesheet.py:237: UserWarning: Workbook contains no default style, apply openpyxl's default\n",
      "  warn(\"Workbook contains no default style, apply openpyxl's default\")\n"
     ]
    },
    {
     "name": "stdout",
     "output_type": "stream",
     "text": [
      "Hoja 11\n"
     ]
    },
    {
     "name": "stderr",
     "output_type": "stream",
     "text": [
      "/Users/edu/Desktop/Github/Efectos-IA-Empleo/.venv/lib/python3.12/site-packages/openpyxl/styles/stylesheet.py:237: UserWarning: Workbook contains no default style, apply openpyxl's default\n",
      "  warn(\"Workbook contains no default style, apply openpyxl's default\")\n"
     ]
    },
    {
     "name": "stdout",
     "output_type": "stream",
     "text": [
      "Hoja 12\n"
     ]
    },
    {
     "name": "stderr",
     "output_type": "stream",
     "text": [
      "/Users/edu/Desktop/Github/Efectos-IA-Empleo/.venv/lib/python3.12/site-packages/openpyxl/styles/stylesheet.py:237: UserWarning: Workbook contains no default style, apply openpyxl's default\n",
      "  warn(\"Workbook contains no default style, apply openpyxl's default\")\n"
     ]
    },
    {
     "name": "stdout",
     "output_type": "stream",
     "text": [
      "Hoja 13\n"
     ]
    },
    {
     "name": "stderr",
     "output_type": "stream",
     "text": [
      "/Users/edu/Desktop/Github/Efectos-IA-Empleo/.venv/lib/python3.12/site-packages/openpyxl/styles/stylesheet.py:237: UserWarning: Workbook contains no default style, apply openpyxl's default\n",
      "  warn(\"Workbook contains no default style, apply openpyxl's default\")\n"
     ]
    },
    {
     "name": "stdout",
     "output_type": "stream",
     "text": [
      "Hoja 14\n",
      "Hoja 15\n"
     ]
    },
    {
     "name": "stderr",
     "output_type": "stream",
     "text": [
      "/Users/edu/Desktop/Github/Efectos-IA-Empleo/.venv/lib/python3.12/site-packages/openpyxl/styles/stylesheet.py:237: UserWarning: Workbook contains no default style, apply openpyxl's default\n",
      "  warn(\"Workbook contains no default style, apply openpyxl's default\")\n",
      "/Users/edu/Desktop/Github/Efectos-IA-Empleo/.venv/lib/python3.12/site-packages/openpyxl/styles/stylesheet.py:237: UserWarning: Workbook contains no default style, apply openpyxl's default\n",
      "  warn(\"Workbook contains no default style, apply openpyxl's default\")\n"
     ]
    },
    {
     "name": "stdout",
     "output_type": "stream",
     "text": [
      "Hoja 16\n"
     ]
    },
    {
     "name": "stderr",
     "output_type": "stream",
     "text": [
      "/Users/edu/Desktop/Github/Efectos-IA-Empleo/.venv/lib/python3.12/site-packages/openpyxl/styles/stylesheet.py:237: UserWarning: Workbook contains no default style, apply openpyxl's default\n",
      "  warn(\"Workbook contains no default style, apply openpyxl's default\")\n"
     ]
    },
    {
     "name": "stdout",
     "output_type": "stream",
     "text": [
      "Hoja 17\n"
     ]
    },
    {
     "name": "stderr",
     "output_type": "stream",
     "text": [
      "/Users/edu/Desktop/Github/Efectos-IA-Empleo/.venv/lib/python3.12/site-packages/openpyxl/styles/stylesheet.py:237: UserWarning: Workbook contains no default style, apply openpyxl's default\n",
      "  warn(\"Workbook contains no default style, apply openpyxl's default\")\n"
     ]
    },
    {
     "name": "stdout",
     "output_type": "stream",
     "text": [
      "Hoja 18\n"
     ]
    },
    {
     "name": "stderr",
     "output_type": "stream",
     "text": [
      "/Users/edu/Desktop/Github/Efectos-IA-Empleo/.venv/lib/python3.12/site-packages/openpyxl/styles/stylesheet.py:237: UserWarning: Workbook contains no default style, apply openpyxl's default\n",
      "  warn(\"Workbook contains no default style, apply openpyxl's default\")\n"
     ]
    },
    {
     "name": "stdout",
     "output_type": "stream",
     "text": [
      "Hoja 19\n"
     ]
    },
    {
     "name": "stderr",
     "output_type": "stream",
     "text": [
      "/Users/edu/Desktop/Github/Efectos-IA-Empleo/.venv/lib/python3.12/site-packages/openpyxl/styles/stylesheet.py:237: UserWarning: Workbook contains no default style, apply openpyxl's default\n",
      "  warn(\"Workbook contains no default style, apply openpyxl's default\")\n"
     ]
    },
    {
     "name": "stdout",
     "output_type": "stream",
     "text": [
      "Hoja 20\n"
     ]
    },
    {
     "name": "stderr",
     "output_type": "stream",
     "text": [
      "/Users/edu/Desktop/Github/Efectos-IA-Empleo/.venv/lib/python3.12/site-packages/openpyxl/styles/stylesheet.py:237: UserWarning: Workbook contains no default style, apply openpyxl's default\n",
      "  warn(\"Workbook contains no default style, apply openpyxl's default\")\n"
     ]
    },
    {
     "name": "stdout",
     "output_type": "stream",
     "text": [
      "Hoja 21\n"
     ]
    },
    {
     "name": "stderr",
     "output_type": "stream",
     "text": [
      "/Users/edu/Desktop/Github/Efectos-IA-Empleo/.venv/lib/python3.12/site-packages/openpyxl/styles/stylesheet.py:237: UserWarning: Workbook contains no default style, apply openpyxl's default\n",
      "  warn(\"Workbook contains no default style, apply openpyxl's default\")\n"
     ]
    },
    {
     "name": "stdout",
     "output_type": "stream",
     "text": [
      "Hoja 22\n"
     ]
    },
    {
     "name": "stderr",
     "output_type": "stream",
     "text": [
      "/Users/edu/Desktop/Github/Efectos-IA-Empleo/.venv/lib/python3.12/site-packages/openpyxl/styles/stylesheet.py:237: UserWarning: Workbook contains no default style, apply openpyxl's default\n",
      "  warn(\"Workbook contains no default style, apply openpyxl's default\")\n"
     ]
    },
    {
     "name": "stdout",
     "output_type": "stream",
     "text": [
      "Hoja 23\n"
     ]
    },
    {
     "name": "stderr",
     "output_type": "stream",
     "text": [
      "/Users/edu/Desktop/Github/Efectos-IA-Empleo/.venv/lib/python3.12/site-packages/openpyxl/styles/stylesheet.py:237: UserWarning: Workbook contains no default style, apply openpyxl's default\n",
      "  warn(\"Workbook contains no default style, apply openpyxl's default\")\n"
     ]
    },
    {
     "name": "stdout",
     "output_type": "stream",
     "text": [
      "Hoja 24\n",
      "Hoja 25\n"
     ]
    },
    {
     "name": "stderr",
     "output_type": "stream",
     "text": [
      "/Users/edu/Desktop/Github/Efectos-IA-Empleo/.venv/lib/python3.12/site-packages/openpyxl/styles/stylesheet.py:237: UserWarning: Workbook contains no default style, apply openpyxl's default\n",
      "  warn(\"Workbook contains no default style, apply openpyxl's default\")\n",
      "/Users/edu/Desktop/Github/Efectos-IA-Empleo/.venv/lib/python3.12/site-packages/openpyxl/styles/stylesheet.py:237: UserWarning: Workbook contains no default style, apply openpyxl's default\n",
      "  warn(\"Workbook contains no default style, apply openpyxl's default\")\n"
     ]
    },
    {
     "name": "stdout",
     "output_type": "stream",
     "text": [
      "Hoja 26\n"
     ]
    },
    {
     "name": "stderr",
     "output_type": "stream",
     "text": [
      "/Users/edu/Desktop/Github/Efectos-IA-Empleo/.venv/lib/python3.12/site-packages/openpyxl/styles/stylesheet.py:237: UserWarning: Workbook contains no default style, apply openpyxl's default\n",
      "  warn(\"Workbook contains no default style, apply openpyxl's default\")\n"
     ]
    },
    {
     "name": "stdout",
     "output_type": "stream",
     "text": [
      "Hoja 27\n"
     ]
    },
    {
     "name": "stderr",
     "output_type": "stream",
     "text": [
      "/Users/edu/Desktop/Github/Efectos-IA-Empleo/.venv/lib/python3.12/site-packages/openpyxl/styles/stylesheet.py:237: UserWarning: Workbook contains no default style, apply openpyxl's default\n",
      "  warn(\"Workbook contains no default style, apply openpyxl's default\")\n"
     ]
    },
    {
     "name": "stdout",
     "output_type": "stream",
     "text": [
      "Hoja 28\n"
     ]
    },
    {
     "name": "stderr",
     "output_type": "stream",
     "text": [
      "/Users/edu/Desktop/Github/Efectos-IA-Empleo/.venv/lib/python3.12/site-packages/openpyxl/styles/stylesheet.py:237: UserWarning: Workbook contains no default style, apply openpyxl's default\n",
      "  warn(\"Workbook contains no default style, apply openpyxl's default\")\n"
     ]
    },
    {
     "name": "stdout",
     "output_type": "stream",
     "text": [
      "Hoja 29\n"
     ]
    },
    {
     "name": "stderr",
     "output_type": "stream",
     "text": [
      "/Users/edu/Desktop/Github/Efectos-IA-Empleo/.venv/lib/python3.12/site-packages/openpyxl/styles/stylesheet.py:237: UserWarning: Workbook contains no default style, apply openpyxl's default\n",
      "  warn(\"Workbook contains no default style, apply openpyxl's default\")\n"
     ]
    },
    {
     "name": "stdout",
     "output_type": "stream",
     "text": [
      "Hoja 30\n"
     ]
    },
    {
     "name": "stderr",
     "output_type": "stream",
     "text": [
      "/Users/edu/Desktop/Github/Efectos-IA-Empleo/.venv/lib/python3.12/site-packages/openpyxl/styles/stylesheet.py:237: UserWarning: Workbook contains no default style, apply openpyxl's default\n",
      "  warn(\"Workbook contains no default style, apply openpyxl's default\")\n"
     ]
    },
    {
     "name": "stdout",
     "output_type": "stream",
     "text": [
      "Hoja 31\n"
     ]
    },
    {
     "name": "stderr",
     "output_type": "stream",
     "text": [
      "/Users/edu/Desktop/Github/Efectos-IA-Empleo/.venv/lib/python3.12/site-packages/openpyxl/styles/stylesheet.py:237: UserWarning: Workbook contains no default style, apply openpyxl's default\n",
      "  warn(\"Workbook contains no default style, apply openpyxl's default\")\n"
     ]
    },
    {
     "name": "stdout",
     "output_type": "stream",
     "text": [
      "Hoja 32\n"
     ]
    },
    {
     "name": "stderr",
     "output_type": "stream",
     "text": [
      "/Users/edu/Desktop/Github/Efectos-IA-Empleo/.venv/lib/python3.12/site-packages/openpyxl/styles/stylesheet.py:237: UserWarning: Workbook contains no default style, apply openpyxl's default\n",
      "  warn(\"Workbook contains no default style, apply openpyxl's default\")\n"
     ]
    },
    {
     "name": "stdout",
     "output_type": "stream",
     "text": [
      "Hoja 33\n"
     ]
    },
    {
     "name": "stderr",
     "output_type": "stream",
     "text": [
      "/Users/edu/Desktop/Github/Efectos-IA-Empleo/.venv/lib/python3.12/site-packages/openpyxl/styles/stylesheet.py:237: UserWarning: Workbook contains no default style, apply openpyxl's default\n",
      "  warn(\"Workbook contains no default style, apply openpyxl's default\")\n"
     ]
    },
    {
     "name": "stdout",
     "output_type": "stream",
     "text": [
      "Hoja 34\n",
      "Hoja 35\n"
     ]
    },
    {
     "name": "stderr",
     "output_type": "stream",
     "text": [
      "/Users/edu/Desktop/Github/Efectos-IA-Empleo/.venv/lib/python3.12/site-packages/openpyxl/styles/stylesheet.py:237: UserWarning: Workbook contains no default style, apply openpyxl's default\n",
      "  warn(\"Workbook contains no default style, apply openpyxl's default\")\n",
      "/Users/edu/Desktop/Github/Efectos-IA-Empleo/.venv/lib/python3.12/site-packages/openpyxl/styles/stylesheet.py:237: UserWarning: Workbook contains no default style, apply openpyxl's default\n",
      "  warn(\"Workbook contains no default style, apply openpyxl's default\")\n"
     ]
    },
    {
     "name": "stdout",
     "output_type": "stream",
     "text": [
      "Hoja 36\n"
     ]
    },
    {
     "name": "stderr",
     "output_type": "stream",
     "text": [
      "/Users/edu/Desktop/Github/Efectos-IA-Empleo/.venv/lib/python3.12/site-packages/openpyxl/styles/stylesheet.py:237: UserWarning: Workbook contains no default style, apply openpyxl's default\n",
      "  warn(\"Workbook contains no default style, apply openpyxl's default\")\n"
     ]
    },
    {
     "name": "stdout",
     "output_type": "stream",
     "text": [
      "Hoja 37\n"
     ]
    },
    {
     "name": "stderr",
     "output_type": "stream",
     "text": [
      "/Users/edu/Desktop/Github/Efectos-IA-Empleo/.venv/lib/python3.12/site-packages/openpyxl/styles/stylesheet.py:237: UserWarning: Workbook contains no default style, apply openpyxl's default\n",
      "  warn(\"Workbook contains no default style, apply openpyxl's default\")\n"
     ]
    },
    {
     "name": "stdout",
     "output_type": "stream",
     "text": [
      "Hoja 38\n"
     ]
    },
    {
     "name": "stderr",
     "output_type": "stream",
     "text": [
      "/Users/edu/Desktop/Github/Efectos-IA-Empleo/.venv/lib/python3.12/site-packages/openpyxl/styles/stylesheet.py:237: UserWarning: Workbook contains no default style, apply openpyxl's default\n",
      "  warn(\"Workbook contains no default style, apply openpyxl's default\")\n"
     ]
    },
    {
     "name": "stdout",
     "output_type": "stream",
     "text": [
      "Hoja 39\n"
     ]
    },
    {
     "name": "stderr",
     "output_type": "stream",
     "text": [
      "/Users/edu/Desktop/Github/Efectos-IA-Empleo/.venv/lib/python3.12/site-packages/openpyxl/styles/stylesheet.py:237: UserWarning: Workbook contains no default style, apply openpyxl's default\n",
      "  warn(\"Workbook contains no default style, apply openpyxl's default\")\n"
     ]
    },
    {
     "name": "stdout",
     "output_type": "stream",
     "text": [
      "Hoja 40\n"
     ]
    },
    {
     "name": "stderr",
     "output_type": "stream",
     "text": [
      "/Users/edu/Desktop/Github/Efectos-IA-Empleo/.venv/lib/python3.12/site-packages/openpyxl/styles/stylesheet.py:237: UserWarning: Workbook contains no default style, apply openpyxl's default\n",
      "  warn(\"Workbook contains no default style, apply openpyxl's default\")\n"
     ]
    },
    {
     "name": "stdout",
     "output_type": "stream",
     "text": [
      "Hoja 41\n"
     ]
    },
    {
     "name": "stderr",
     "output_type": "stream",
     "text": [
      "/Users/edu/Desktop/Github/Efectos-IA-Empleo/.venv/lib/python3.12/site-packages/openpyxl/styles/stylesheet.py:237: UserWarning: Workbook contains no default style, apply openpyxl's default\n",
      "  warn(\"Workbook contains no default style, apply openpyxl's default\")\n"
     ]
    },
    {
     "name": "stdout",
     "output_type": "stream",
     "text": [
      "Hoja 42\n"
     ]
    },
    {
     "name": "stderr",
     "output_type": "stream",
     "text": [
      "/Users/edu/Desktop/Github/Efectos-IA-Empleo/.venv/lib/python3.12/site-packages/openpyxl/styles/stylesheet.py:237: UserWarning: Workbook contains no default style, apply openpyxl's default\n",
      "  warn(\"Workbook contains no default style, apply openpyxl's default\")\n"
     ]
    },
    {
     "name": "stdout",
     "output_type": "stream",
     "text": [
      "Hoja 43\n",
      "Hoja 44\n"
     ]
    },
    {
     "name": "stderr",
     "output_type": "stream",
     "text": [
      "/Users/edu/Desktop/Github/Efectos-IA-Empleo/.venv/lib/python3.12/site-packages/openpyxl/styles/stylesheet.py:237: UserWarning: Workbook contains no default style, apply openpyxl's default\n",
      "  warn(\"Workbook contains no default style, apply openpyxl's default\")\n",
      "/Users/edu/Desktop/Github/Efectos-IA-Empleo/.venv/lib/python3.12/site-packages/openpyxl/styles/stylesheet.py:237: UserWarning: Workbook contains no default style, apply openpyxl's default\n",
      "  warn(\"Workbook contains no default style, apply openpyxl's default\")\n"
     ]
    },
    {
     "name": "stdout",
     "output_type": "stream",
     "text": [
      "Hoja 45\n"
     ]
    },
    {
     "name": "stderr",
     "output_type": "stream",
     "text": [
      "/Users/edu/Desktop/Github/Efectos-IA-Empleo/.venv/lib/python3.12/site-packages/openpyxl/styles/stylesheet.py:237: UserWarning: Workbook contains no default style, apply openpyxl's default\n",
      "  warn(\"Workbook contains no default style, apply openpyxl's default\")\n"
     ]
    },
    {
     "name": "stdout",
     "output_type": "stream",
     "text": [
      "Hoja 46\n"
     ]
    },
    {
     "name": "stderr",
     "output_type": "stream",
     "text": [
      "/Users/edu/Desktop/Github/Efectos-IA-Empleo/.venv/lib/python3.12/site-packages/openpyxl/styles/stylesheet.py:237: UserWarning: Workbook contains no default style, apply openpyxl's default\n",
      "  warn(\"Workbook contains no default style, apply openpyxl's default\")\n"
     ]
    },
    {
     "name": "stdout",
     "output_type": "stream",
     "text": [
      "Hoja 47\n"
     ]
    },
    {
     "name": "stderr",
     "output_type": "stream",
     "text": [
      "/Users/edu/Desktop/Github/Efectos-IA-Empleo/.venv/lib/python3.12/site-packages/openpyxl/styles/stylesheet.py:237: UserWarning: Workbook contains no default style, apply openpyxl's default\n",
      "  warn(\"Workbook contains no default style, apply openpyxl's default\")\n"
     ]
    },
    {
     "name": "stdout",
     "output_type": "stream",
     "text": [
      "Hoja 48\n"
     ]
    },
    {
     "name": "stderr",
     "output_type": "stream",
     "text": [
      "/Users/edu/Desktop/Github/Efectos-IA-Empleo/.venv/lib/python3.12/site-packages/openpyxl/styles/stylesheet.py:237: UserWarning: Workbook contains no default style, apply openpyxl's default\n",
      "  warn(\"Workbook contains no default style, apply openpyxl's default\")\n"
     ]
    },
    {
     "name": "stdout",
     "output_type": "stream",
     "text": [
      "Hoja 49\n"
     ]
    },
    {
     "name": "stderr",
     "output_type": "stream",
     "text": [
      "/Users/edu/Desktop/Github/Efectos-IA-Empleo/.venv/lib/python3.12/site-packages/openpyxl/styles/stylesheet.py:237: UserWarning: Workbook contains no default style, apply openpyxl's default\n",
      "  warn(\"Workbook contains no default style, apply openpyxl's default\")\n"
     ]
    },
    {
     "name": "stdout",
     "output_type": "stream",
     "text": [
      "Hoja 50\n"
     ]
    },
    {
     "name": "stderr",
     "output_type": "stream",
     "text": [
      "/Users/edu/Desktop/Github/Efectos-IA-Empleo/.venv/lib/python3.12/site-packages/openpyxl/styles/stylesheet.py:237: UserWarning: Workbook contains no default style, apply openpyxl's default\n",
      "  warn(\"Workbook contains no default style, apply openpyxl's default\")\n"
     ]
    },
    {
     "name": "stdout",
     "output_type": "stream",
     "text": [
      "Hoja 51\n"
     ]
    },
    {
     "name": "stderr",
     "output_type": "stream",
     "text": [
      "/Users/edu/Desktop/Github/Efectos-IA-Empleo/.venv/lib/python3.12/site-packages/openpyxl/styles/stylesheet.py:237: UserWarning: Workbook contains no default style, apply openpyxl's default\n",
      "  warn(\"Workbook contains no default style, apply openpyxl's default\")\n"
     ]
    },
    {
     "name": "stdout",
     "output_type": "stream",
     "text": [
      "Hoja 52\n",
      "Hoja 53\n"
     ]
    },
    {
     "name": "stderr",
     "output_type": "stream",
     "text": [
      "/Users/edu/Desktop/Github/Efectos-IA-Empleo/.venv/lib/python3.12/site-packages/openpyxl/styles/stylesheet.py:237: UserWarning: Workbook contains no default style, apply openpyxl's default\n",
      "  warn(\"Workbook contains no default style, apply openpyxl's default\")\n",
      "/Users/edu/Desktop/Github/Efectos-IA-Empleo/.venv/lib/python3.12/site-packages/openpyxl/styles/stylesheet.py:237: UserWarning: Workbook contains no default style, apply openpyxl's default\n",
      "  warn(\"Workbook contains no default style, apply openpyxl's default\")\n"
     ]
    },
    {
     "name": "stdout",
     "output_type": "stream",
     "text": [
      "Hoja 54\n"
     ]
    },
    {
     "name": "stderr",
     "output_type": "stream",
     "text": [
      "/Users/edu/Desktop/Github/Efectos-IA-Empleo/.venv/lib/python3.12/site-packages/openpyxl/styles/stylesheet.py:237: UserWarning: Workbook contains no default style, apply openpyxl's default\n",
      "  warn(\"Workbook contains no default style, apply openpyxl's default\")\n"
     ]
    },
    {
     "name": "stdout",
     "output_type": "stream",
     "text": [
      "Hoja 55\n"
     ]
    },
    {
     "name": "stderr",
     "output_type": "stream",
     "text": [
      "/Users/edu/Desktop/Github/Efectos-IA-Empleo/.venv/lib/python3.12/site-packages/openpyxl/styles/stylesheet.py:237: UserWarning: Workbook contains no default style, apply openpyxl's default\n",
      "  warn(\"Workbook contains no default style, apply openpyxl's default\")\n"
     ]
    },
    {
     "name": "stdout",
     "output_type": "stream",
     "text": [
      "Hoja 56\n"
     ]
    },
    {
     "name": "stderr",
     "output_type": "stream",
     "text": [
      "/Users/edu/Desktop/Github/Efectos-IA-Empleo/.venv/lib/python3.12/site-packages/openpyxl/styles/stylesheet.py:237: UserWarning: Workbook contains no default style, apply openpyxl's default\n",
      "  warn(\"Workbook contains no default style, apply openpyxl's default\")\n"
     ]
    },
    {
     "name": "stdout",
     "output_type": "stream",
     "text": [
      "Hoja 57\n"
     ]
    },
    {
     "name": "stderr",
     "output_type": "stream",
     "text": [
      "/Users/edu/Desktop/Github/Efectos-IA-Empleo/.venv/lib/python3.12/site-packages/openpyxl/styles/stylesheet.py:237: UserWarning: Workbook contains no default style, apply openpyxl's default\n",
      "  warn(\"Workbook contains no default style, apply openpyxl's default\")\n"
     ]
    },
    {
     "name": "stdout",
     "output_type": "stream",
     "text": [
      "Hoja 58\n"
     ]
    },
    {
     "name": "stderr",
     "output_type": "stream",
     "text": [
      "/Users/edu/Desktop/Github/Efectos-IA-Empleo/.venv/lib/python3.12/site-packages/openpyxl/styles/stylesheet.py:237: UserWarning: Workbook contains no default style, apply openpyxl's default\n",
      "  warn(\"Workbook contains no default style, apply openpyxl's default\")\n"
     ]
    },
    {
     "name": "stdout",
     "output_type": "stream",
     "text": [
      "Hoja 59\n"
     ]
    },
    {
     "name": "stderr",
     "output_type": "stream",
     "text": [
      "/Users/edu/Desktop/Github/Efectos-IA-Empleo/.venv/lib/python3.12/site-packages/openpyxl/styles/stylesheet.py:237: UserWarning: Workbook contains no default style, apply openpyxl's default\n",
      "  warn(\"Workbook contains no default style, apply openpyxl's default\")\n"
     ]
    },
    {
     "name": "stdout",
     "output_type": "stream",
     "text": [
      "Hoja 60\n"
     ]
    },
    {
     "name": "stderr",
     "output_type": "stream",
     "text": [
      "/Users/edu/Desktop/Github/Efectos-IA-Empleo/.venv/lib/python3.12/site-packages/openpyxl/styles/stylesheet.py:237: UserWarning: Workbook contains no default style, apply openpyxl's default\n",
      "  warn(\"Workbook contains no default style, apply openpyxl's default\")\n"
     ]
    },
    {
     "name": "stdout",
     "output_type": "stream",
     "text": [
      "Hoja 61\n",
      "Hoja 62\n"
     ]
    },
    {
     "name": "stderr",
     "output_type": "stream",
     "text": [
      "/Users/edu/Desktop/Github/Efectos-IA-Empleo/.venv/lib/python3.12/site-packages/openpyxl/styles/stylesheet.py:237: UserWarning: Workbook contains no default style, apply openpyxl's default\n",
      "  warn(\"Workbook contains no default style, apply openpyxl's default\")\n",
      "/Users/edu/Desktop/Github/Efectos-IA-Empleo/.venv/lib/python3.12/site-packages/openpyxl/styles/stylesheet.py:237: UserWarning: Workbook contains no default style, apply openpyxl's default\n",
      "  warn(\"Workbook contains no default style, apply openpyxl's default\")\n"
     ]
    },
    {
     "name": "stdout",
     "output_type": "stream",
     "text": [
      "Hoja 63\n"
     ]
    },
    {
     "name": "stderr",
     "output_type": "stream",
     "text": [
      "/Users/edu/Desktop/Github/Efectos-IA-Empleo/.venv/lib/python3.12/site-packages/openpyxl/styles/stylesheet.py:237: UserWarning: Workbook contains no default style, apply openpyxl's default\n",
      "  warn(\"Workbook contains no default style, apply openpyxl's default\")\n"
     ]
    },
    {
     "name": "stdout",
     "output_type": "stream",
     "text": [
      "Hoja 64\n"
     ]
    },
    {
     "name": "stderr",
     "output_type": "stream",
     "text": [
      "/Users/edu/Desktop/Github/Efectos-IA-Empleo/.venv/lib/python3.12/site-packages/openpyxl/styles/stylesheet.py:237: UserWarning: Workbook contains no default style, apply openpyxl's default\n",
      "  warn(\"Workbook contains no default style, apply openpyxl's default\")\n"
     ]
    },
    {
     "name": "stdout",
     "output_type": "stream",
     "text": [
      "Hoja 65\n"
     ]
    },
    {
     "name": "stderr",
     "output_type": "stream",
     "text": [
      "/Users/edu/Desktop/Github/Efectos-IA-Empleo/.venv/lib/python3.12/site-packages/openpyxl/styles/stylesheet.py:237: UserWarning: Workbook contains no default style, apply openpyxl's default\n",
      "  warn(\"Workbook contains no default style, apply openpyxl's default\")\n"
     ]
    },
    {
     "name": "stdout",
     "output_type": "stream",
     "text": [
      "Hoja 66\n"
     ]
    },
    {
     "name": "stderr",
     "output_type": "stream",
     "text": [
      "/Users/edu/Desktop/Github/Efectos-IA-Empleo/.venv/lib/python3.12/site-packages/openpyxl/styles/stylesheet.py:237: UserWarning: Workbook contains no default style, apply openpyxl's default\n",
      "  warn(\"Workbook contains no default style, apply openpyxl's default\")\n"
     ]
    },
    {
     "name": "stdout",
     "output_type": "stream",
     "text": [
      "Hoja 67\n"
     ]
    },
    {
     "name": "stderr",
     "output_type": "stream",
     "text": [
      "/Users/edu/Desktop/Github/Efectos-IA-Empleo/.venv/lib/python3.12/site-packages/openpyxl/styles/stylesheet.py:237: UserWarning: Workbook contains no default style, apply openpyxl's default\n",
      "  warn(\"Workbook contains no default style, apply openpyxl's default\")\n"
     ]
    },
    {
     "name": "stdout",
     "output_type": "stream",
     "text": [
      "Hoja 68\n"
     ]
    },
    {
     "name": "stderr",
     "output_type": "stream",
     "text": [
      "/Users/edu/Desktop/Github/Efectos-IA-Empleo/.venv/lib/python3.12/site-packages/openpyxl/styles/stylesheet.py:237: UserWarning: Workbook contains no default style, apply openpyxl's default\n",
      "  warn(\"Workbook contains no default style, apply openpyxl's default\")\n"
     ]
    },
    {
     "name": "stdout",
     "output_type": "stream",
     "text": [
      "Hoja 69\n"
     ]
    },
    {
     "name": "stderr",
     "output_type": "stream",
     "text": [
      "/Users/edu/Desktop/Github/Efectos-IA-Empleo/.venv/lib/python3.12/site-packages/openpyxl/styles/stylesheet.py:237: UserWarning: Workbook contains no default style, apply openpyxl's default\n",
      "  warn(\"Workbook contains no default style, apply openpyxl's default\")\n"
     ]
    },
    {
     "name": "stdout",
     "output_type": "stream",
     "text": [
      "Hoja 70\n"
     ]
    },
    {
     "name": "stderr",
     "output_type": "stream",
     "text": [
      "/Users/edu/Desktop/Github/Efectos-IA-Empleo/.venv/lib/python3.12/site-packages/openpyxl/styles/stylesheet.py:237: UserWarning: Workbook contains no default style, apply openpyxl's default\n",
      "  warn(\"Workbook contains no default style, apply openpyxl's default\")\n"
     ]
    },
    {
     "name": "stdout",
     "output_type": "stream",
     "text": [
      "Hoja 71\n",
      "Hoja 72\n"
     ]
    },
    {
     "name": "stderr",
     "output_type": "stream",
     "text": [
      "/Users/edu/Desktop/Github/Efectos-IA-Empleo/.venv/lib/python3.12/site-packages/openpyxl/styles/stylesheet.py:237: UserWarning: Workbook contains no default style, apply openpyxl's default\n",
      "  warn(\"Workbook contains no default style, apply openpyxl's default\")\n",
      "/Users/edu/Desktop/Github/Efectos-IA-Empleo/.venv/lib/python3.12/site-packages/openpyxl/styles/stylesheet.py:237: UserWarning: Workbook contains no default style, apply openpyxl's default\n",
      "  warn(\"Workbook contains no default style, apply openpyxl's default\")\n"
     ]
    },
    {
     "name": "stdout",
     "output_type": "stream",
     "text": [
      "Hoja 73\n"
     ]
    },
    {
     "name": "stderr",
     "output_type": "stream",
     "text": [
      "/Users/edu/Desktop/Github/Efectos-IA-Empleo/.venv/lib/python3.12/site-packages/openpyxl/styles/stylesheet.py:237: UserWarning: Workbook contains no default style, apply openpyxl's default\n",
      "  warn(\"Workbook contains no default style, apply openpyxl's default\")\n"
     ]
    },
    {
     "name": "stdout",
     "output_type": "stream",
     "text": [
      "Hoja 74\n"
     ]
    },
    {
     "name": "stderr",
     "output_type": "stream",
     "text": [
      "/Users/edu/Desktop/Github/Efectos-IA-Empleo/.venv/lib/python3.12/site-packages/openpyxl/styles/stylesheet.py:237: UserWarning: Workbook contains no default style, apply openpyxl's default\n",
      "  warn(\"Workbook contains no default style, apply openpyxl's default\")\n"
     ]
    },
    {
     "name": "stdout",
     "output_type": "stream",
     "text": [
      "Hoja 75\n"
     ]
    },
    {
     "name": "stderr",
     "output_type": "stream",
     "text": [
      "/Users/edu/Desktop/Github/Efectos-IA-Empleo/.venv/lib/python3.12/site-packages/openpyxl/styles/stylesheet.py:237: UserWarning: Workbook contains no default style, apply openpyxl's default\n",
      "  warn(\"Workbook contains no default style, apply openpyxl's default\")\n"
     ]
    },
    {
     "name": "stdout",
     "output_type": "stream",
     "text": [
      "Hoja 76\n"
     ]
    },
    {
     "name": "stderr",
     "output_type": "stream",
     "text": [
      "/Users/edu/Desktop/Github/Efectos-IA-Empleo/.venv/lib/python3.12/site-packages/openpyxl/styles/stylesheet.py:237: UserWarning: Workbook contains no default style, apply openpyxl's default\n",
      "  warn(\"Workbook contains no default style, apply openpyxl's default\")\n"
     ]
    },
    {
     "name": "stdout",
     "output_type": "stream",
     "text": [
      "Hoja 77\n"
     ]
    },
    {
     "name": "stderr",
     "output_type": "stream",
     "text": [
      "/Users/edu/Desktop/Github/Efectos-IA-Empleo/.venv/lib/python3.12/site-packages/openpyxl/styles/stylesheet.py:237: UserWarning: Workbook contains no default style, apply openpyxl's default\n",
      "  warn(\"Workbook contains no default style, apply openpyxl's default\")\n"
     ]
    },
    {
     "name": "stdout",
     "output_type": "stream",
     "text": [
      "Hoja 78\n"
     ]
    },
    {
     "name": "stderr",
     "output_type": "stream",
     "text": [
      "/Users/edu/Desktop/Github/Efectos-IA-Empleo/.venv/lib/python3.12/site-packages/openpyxl/styles/stylesheet.py:237: UserWarning: Workbook contains no default style, apply openpyxl's default\n",
      "  warn(\"Workbook contains no default style, apply openpyxl's default\")\n"
     ]
    },
    {
     "name": "stdout",
     "output_type": "stream",
     "text": [
      "Hoja 79\n"
     ]
    },
    {
     "name": "stderr",
     "output_type": "stream",
     "text": [
      "/Users/edu/Desktop/Github/Efectos-IA-Empleo/.venv/lib/python3.12/site-packages/openpyxl/styles/stylesheet.py:237: UserWarning: Workbook contains no default style, apply openpyxl's default\n",
      "  warn(\"Workbook contains no default style, apply openpyxl's default\")\n"
     ]
    },
    {
     "name": "stdout",
     "output_type": "stream",
     "text": [
      "Hoja 80\n"
     ]
    },
    {
     "name": "stderr",
     "output_type": "stream",
     "text": [
      "/Users/edu/Desktop/Github/Efectos-IA-Empleo/.venv/lib/python3.12/site-packages/openpyxl/styles/stylesheet.py:237: UserWarning: Workbook contains no default style, apply openpyxl's default\n",
      "  warn(\"Workbook contains no default style, apply openpyxl's default\")\n"
     ]
    },
    {
     "name": "stdout",
     "output_type": "stream",
     "text": [
      "Hoja 81\n",
      "Hoja 82\n"
     ]
    },
    {
     "name": "stderr",
     "output_type": "stream",
     "text": [
      "/Users/edu/Desktop/Github/Efectos-IA-Empleo/.venv/lib/python3.12/site-packages/openpyxl/styles/stylesheet.py:237: UserWarning: Workbook contains no default style, apply openpyxl's default\n",
      "  warn(\"Workbook contains no default style, apply openpyxl's default\")\n",
      "/Users/edu/Desktop/Github/Efectos-IA-Empleo/.venv/lib/python3.12/site-packages/openpyxl/styles/stylesheet.py:237: UserWarning: Workbook contains no default style, apply openpyxl's default\n",
      "  warn(\"Workbook contains no default style, apply openpyxl's default\")\n"
     ]
    },
    {
     "name": "stdout",
     "output_type": "stream",
     "text": [
      "Hoja 83\n"
     ]
    },
    {
     "name": "stderr",
     "output_type": "stream",
     "text": [
      "/Users/edu/Desktop/Github/Efectos-IA-Empleo/.venv/lib/python3.12/site-packages/openpyxl/styles/stylesheet.py:237: UserWarning: Workbook contains no default style, apply openpyxl's default\n",
      "  warn(\"Workbook contains no default style, apply openpyxl's default\")\n"
     ]
    },
    {
     "name": "stdout",
     "output_type": "stream",
     "text": [
      "Hoja 84\n"
     ]
    },
    {
     "name": "stderr",
     "output_type": "stream",
     "text": [
      "/Users/edu/Desktop/Github/Efectos-IA-Empleo/.venv/lib/python3.12/site-packages/openpyxl/styles/stylesheet.py:237: UserWarning: Workbook contains no default style, apply openpyxl's default\n",
      "  warn(\"Workbook contains no default style, apply openpyxl's default\")\n"
     ]
    },
    {
     "name": "stdout",
     "output_type": "stream",
     "text": [
      "Hoja 85\n"
     ]
    },
    {
     "name": "stderr",
     "output_type": "stream",
     "text": [
      "/Users/edu/Desktop/Github/Efectos-IA-Empleo/.venv/lib/python3.12/site-packages/openpyxl/styles/stylesheet.py:237: UserWarning: Workbook contains no default style, apply openpyxl's default\n",
      "  warn(\"Workbook contains no default style, apply openpyxl's default\")\n"
     ]
    },
    {
     "name": "stdout",
     "output_type": "stream",
     "text": [
      "Hoja 86\n"
     ]
    },
    {
     "name": "stderr",
     "output_type": "stream",
     "text": [
      "/Users/edu/Desktop/Github/Efectos-IA-Empleo/.venv/lib/python3.12/site-packages/openpyxl/styles/stylesheet.py:237: UserWarning: Workbook contains no default style, apply openpyxl's default\n",
      "  warn(\"Workbook contains no default style, apply openpyxl's default\")\n"
     ]
    },
    {
     "name": "stdout",
     "output_type": "stream",
     "text": [
      "Hoja 87\n"
     ]
    },
    {
     "name": "stderr",
     "output_type": "stream",
     "text": [
      "/Users/edu/Desktop/Github/Efectos-IA-Empleo/.venv/lib/python3.12/site-packages/openpyxl/styles/stylesheet.py:237: UserWarning: Workbook contains no default style, apply openpyxl's default\n",
      "  warn(\"Workbook contains no default style, apply openpyxl's default\")\n"
     ]
    },
    {
     "name": "stdout",
     "output_type": "stream",
     "text": [
      "Hoja 88\n"
     ]
    },
    {
     "name": "stderr",
     "output_type": "stream",
     "text": [
      "/Users/edu/Desktop/Github/Efectos-IA-Empleo/.venv/lib/python3.12/site-packages/openpyxl/styles/stylesheet.py:237: UserWarning: Workbook contains no default style, apply openpyxl's default\n",
      "  warn(\"Workbook contains no default style, apply openpyxl's default\")\n"
     ]
    },
    {
     "name": "stdout",
     "output_type": "stream",
     "text": [
      "Hoja 89\n"
     ]
    },
    {
     "name": "stderr",
     "output_type": "stream",
     "text": [
      "/Users/edu/Desktop/Github/Efectos-IA-Empleo/.venv/lib/python3.12/site-packages/openpyxl/styles/stylesheet.py:237: UserWarning: Workbook contains no default style, apply openpyxl's default\n",
      "  warn(\"Workbook contains no default style, apply openpyxl's default\")\n"
     ]
    },
    {
     "name": "stdout",
     "output_type": "stream",
     "text": [
      "Hoja 90\n",
      "Hoja 91\n"
     ]
    },
    {
     "name": "stderr",
     "output_type": "stream",
     "text": [
      "/Users/edu/Desktop/Github/Efectos-IA-Empleo/.venv/lib/python3.12/site-packages/openpyxl/styles/stylesheet.py:237: UserWarning: Workbook contains no default style, apply openpyxl's default\n",
      "  warn(\"Workbook contains no default style, apply openpyxl's default\")\n",
      "/Users/edu/Desktop/Github/Efectos-IA-Empleo/.venv/lib/python3.12/site-packages/openpyxl/styles/stylesheet.py:237: UserWarning: Workbook contains no default style, apply openpyxl's default\n",
      "  warn(\"Workbook contains no default style, apply openpyxl's default\")\n"
     ]
    },
    {
     "name": "stdout",
     "output_type": "stream",
     "text": [
      "Hoja 92\n"
     ]
    },
    {
     "name": "stderr",
     "output_type": "stream",
     "text": [
      "/Users/edu/Desktop/Github/Efectos-IA-Empleo/.venv/lib/python3.12/site-packages/openpyxl/styles/stylesheet.py:237: UserWarning: Workbook contains no default style, apply openpyxl's default\n",
      "  warn(\"Workbook contains no default style, apply openpyxl's default\")\n"
     ]
    },
    {
     "name": "stdout",
     "output_type": "stream",
     "text": [
      "Hoja 93\n"
     ]
    },
    {
     "name": "stderr",
     "output_type": "stream",
     "text": [
      "/Users/edu/Desktop/Github/Efectos-IA-Empleo/.venv/lib/python3.12/site-packages/openpyxl/styles/stylesheet.py:237: UserWarning: Workbook contains no default style, apply openpyxl's default\n",
      "  warn(\"Workbook contains no default style, apply openpyxl's default\")\n"
     ]
    },
    {
     "name": "stdout",
     "output_type": "stream",
     "text": [
      "Hoja 94\n"
     ]
    },
    {
     "name": "stderr",
     "output_type": "stream",
     "text": [
      "/Users/edu/Desktop/Github/Efectos-IA-Empleo/.venv/lib/python3.12/site-packages/openpyxl/styles/stylesheet.py:237: UserWarning: Workbook contains no default style, apply openpyxl's default\n",
      "  warn(\"Workbook contains no default style, apply openpyxl's default\")\n"
     ]
    },
    {
     "name": "stdout",
     "output_type": "stream",
     "text": [
      "Hoja 95\n"
     ]
    },
    {
     "name": "stderr",
     "output_type": "stream",
     "text": [
      "/Users/edu/Desktop/Github/Efectos-IA-Empleo/.venv/lib/python3.12/site-packages/openpyxl/styles/stylesheet.py:237: UserWarning: Workbook contains no default style, apply openpyxl's default\n",
      "  warn(\"Workbook contains no default style, apply openpyxl's default\")\n"
     ]
    },
    {
     "name": "stdout",
     "output_type": "stream",
     "text": [
      "Hoja 96\n"
     ]
    },
    {
     "name": "stderr",
     "output_type": "stream",
     "text": [
      "/Users/edu/Desktop/Github/Efectos-IA-Empleo/.venv/lib/python3.12/site-packages/openpyxl/styles/stylesheet.py:237: UserWarning: Workbook contains no default style, apply openpyxl's default\n",
      "  warn(\"Workbook contains no default style, apply openpyxl's default\")\n"
     ]
    },
    {
     "name": "stdout",
     "output_type": "stream",
     "text": [
      "Hoja 97\n"
     ]
    },
    {
     "name": "stderr",
     "output_type": "stream",
     "text": [
      "/Users/edu/Desktop/Github/Efectos-IA-Empleo/.venv/lib/python3.12/site-packages/openpyxl/styles/stylesheet.py:237: UserWarning: Workbook contains no default style, apply openpyxl's default\n",
      "  warn(\"Workbook contains no default style, apply openpyxl's default\")\n"
     ]
    },
    {
     "name": "stdout",
     "output_type": "stream",
     "text": [
      "Hoja 98\n"
     ]
    },
    {
     "name": "stderr",
     "output_type": "stream",
     "text": [
      "/Users/edu/Desktop/Github/Efectos-IA-Empleo/.venv/lib/python3.12/site-packages/openpyxl/styles/stylesheet.py:237: UserWarning: Workbook contains no default style, apply openpyxl's default\n",
      "  warn(\"Workbook contains no default style, apply openpyxl's default\")\n"
     ]
    },
    {
     "name": "stdout",
     "output_type": "stream",
     "text": [
      "Hoja 99\n"
     ]
    },
    {
     "name": "stderr",
     "output_type": "stream",
     "text": [
      "/Users/edu/Desktop/Github/Efectos-IA-Empleo/.venv/lib/python3.12/site-packages/openpyxl/styles/stylesheet.py:237: UserWarning: Workbook contains no default style, apply openpyxl's default\n",
      "  warn(\"Workbook contains no default style, apply openpyxl's default\")\n"
     ]
    },
    {
     "name": "stdout",
     "output_type": "stream",
     "text": [
      "Hoja 100\n",
      "Hoja 101\n"
     ]
    },
    {
     "name": "stderr",
     "output_type": "stream",
     "text": [
      "/Users/edu/Desktop/Github/Efectos-IA-Empleo/.venv/lib/python3.12/site-packages/openpyxl/styles/stylesheet.py:237: UserWarning: Workbook contains no default style, apply openpyxl's default\n",
      "  warn(\"Workbook contains no default style, apply openpyxl's default\")\n",
      "/Users/edu/Desktop/Github/Efectos-IA-Empleo/.venv/lib/python3.12/site-packages/openpyxl/styles/stylesheet.py:237: UserWarning: Workbook contains no default style, apply openpyxl's default\n",
      "  warn(\"Workbook contains no default style, apply openpyxl's default\")\n"
     ]
    },
    {
     "name": "stdout",
     "output_type": "stream",
     "text": [
      "Hoja 102\n"
     ]
    },
    {
     "name": "stderr",
     "output_type": "stream",
     "text": [
      "/Users/edu/Desktop/Github/Efectos-IA-Empleo/.venv/lib/python3.12/site-packages/openpyxl/styles/stylesheet.py:237: UserWarning: Workbook contains no default style, apply openpyxl's default\n",
      "  warn(\"Workbook contains no default style, apply openpyxl's default\")\n"
     ]
    },
    {
     "name": "stdout",
     "output_type": "stream",
     "text": [
      "Hoja 103\n"
     ]
    },
    {
     "name": "stderr",
     "output_type": "stream",
     "text": [
      "/Users/edu/Desktop/Github/Efectos-IA-Empleo/.venv/lib/python3.12/site-packages/openpyxl/styles/stylesheet.py:237: UserWarning: Workbook contains no default style, apply openpyxl's default\n",
      "  warn(\"Workbook contains no default style, apply openpyxl's default\")\n"
     ]
    },
    {
     "name": "stdout",
     "output_type": "stream",
     "text": [
      "Hoja 104\n"
     ]
    },
    {
     "name": "stderr",
     "output_type": "stream",
     "text": [
      "/Users/edu/Desktop/Github/Efectos-IA-Empleo/.venv/lib/python3.12/site-packages/openpyxl/styles/stylesheet.py:237: UserWarning: Workbook contains no default style, apply openpyxl's default\n",
      "  warn(\"Workbook contains no default style, apply openpyxl's default\")\n"
     ]
    },
    {
     "name": "stdout",
     "output_type": "stream",
     "text": [
      "Hoja 105\n"
     ]
    },
    {
     "name": "stderr",
     "output_type": "stream",
     "text": [
      "/Users/edu/Desktop/Github/Efectos-IA-Empleo/.venv/lib/python3.12/site-packages/openpyxl/styles/stylesheet.py:237: UserWarning: Workbook contains no default style, apply openpyxl's default\n",
      "  warn(\"Workbook contains no default style, apply openpyxl's default\")\n"
     ]
    },
    {
     "name": "stdout",
     "output_type": "stream",
     "text": [
      "Hoja 106\n"
     ]
    },
    {
     "name": "stderr",
     "output_type": "stream",
     "text": [
      "/Users/edu/Desktop/Github/Efectos-IA-Empleo/.venv/lib/python3.12/site-packages/openpyxl/styles/stylesheet.py:237: UserWarning: Workbook contains no default style, apply openpyxl's default\n",
      "  warn(\"Workbook contains no default style, apply openpyxl's default\")\n"
     ]
    },
    {
     "name": "stdout",
     "output_type": "stream",
     "text": [
      "Hoja 107\n"
     ]
    },
    {
     "name": "stderr",
     "output_type": "stream",
     "text": [
      "/Users/edu/Desktop/Github/Efectos-IA-Empleo/.venv/lib/python3.12/site-packages/openpyxl/styles/stylesheet.py:237: UserWarning: Workbook contains no default style, apply openpyxl's default\n",
      "  warn(\"Workbook contains no default style, apply openpyxl's default\")\n"
     ]
    },
    {
     "name": "stdout",
     "output_type": "stream",
     "text": [
      "Hoja 108\n"
     ]
    },
    {
     "name": "stderr",
     "output_type": "stream",
     "text": [
      "/Users/edu/Desktop/Github/Efectos-IA-Empleo/.venv/lib/python3.12/site-packages/openpyxl/styles/stylesheet.py:237: UserWarning: Workbook contains no default style, apply openpyxl's default\n",
      "  warn(\"Workbook contains no default style, apply openpyxl's default\")\n"
     ]
    },
    {
     "name": "stdout",
     "output_type": "stream",
     "text": [
      "Hoja 109\n",
      "Hoja 110\n"
     ]
    },
    {
     "name": "stderr",
     "output_type": "stream",
     "text": [
      "/Users/edu/Desktop/Github/Efectos-IA-Empleo/.venv/lib/python3.12/site-packages/openpyxl/styles/stylesheet.py:237: UserWarning: Workbook contains no default style, apply openpyxl's default\n",
      "  warn(\"Workbook contains no default style, apply openpyxl's default\")\n",
      "/Users/edu/Desktop/Github/Efectos-IA-Empleo/.venv/lib/python3.12/site-packages/openpyxl/styles/stylesheet.py:237: UserWarning: Workbook contains no default style, apply openpyxl's default\n",
      "  warn(\"Workbook contains no default style, apply openpyxl's default\")\n"
     ]
    },
    {
     "name": "stdout",
     "output_type": "stream",
     "text": [
      "Hoja 111\n"
     ]
    },
    {
     "name": "stderr",
     "output_type": "stream",
     "text": [
      "/Users/edu/Desktop/Github/Efectos-IA-Empleo/.venv/lib/python3.12/site-packages/openpyxl/styles/stylesheet.py:237: UserWarning: Workbook contains no default style, apply openpyxl's default\n",
      "  warn(\"Workbook contains no default style, apply openpyxl's default\")\n"
     ]
    },
    {
     "name": "stdout",
     "output_type": "stream",
     "text": [
      "Hoja 112\n"
     ]
    },
    {
     "name": "stderr",
     "output_type": "stream",
     "text": [
      "/Users/edu/Desktop/Github/Efectos-IA-Empleo/.venv/lib/python3.12/site-packages/openpyxl/styles/stylesheet.py:237: UserWarning: Workbook contains no default style, apply openpyxl's default\n",
      "  warn(\"Workbook contains no default style, apply openpyxl's default\")\n"
     ]
    },
    {
     "name": "stdout",
     "output_type": "stream",
     "text": [
      "Hoja 113\n"
     ]
    },
    {
     "name": "stderr",
     "output_type": "stream",
     "text": [
      "/Users/edu/Desktop/Github/Efectos-IA-Empleo/.venv/lib/python3.12/site-packages/openpyxl/styles/stylesheet.py:237: UserWarning: Workbook contains no default style, apply openpyxl's default\n",
      "  warn(\"Workbook contains no default style, apply openpyxl's default\")\n"
     ]
    },
    {
     "name": "stdout",
     "output_type": "stream",
     "text": [
      "Hoja 114\n"
     ]
    },
    {
     "name": "stderr",
     "output_type": "stream",
     "text": [
      "/Users/edu/Desktop/Github/Efectos-IA-Empleo/.venv/lib/python3.12/site-packages/openpyxl/styles/stylesheet.py:237: UserWarning: Workbook contains no default style, apply openpyxl's default\n",
      "  warn(\"Workbook contains no default style, apply openpyxl's default\")\n"
     ]
    },
    {
     "name": "stdout",
     "output_type": "stream",
     "text": [
      "Hoja 115\n"
     ]
    },
    {
     "name": "stderr",
     "output_type": "stream",
     "text": [
      "/Users/edu/Desktop/Github/Efectos-IA-Empleo/.venv/lib/python3.12/site-packages/openpyxl/styles/stylesheet.py:237: UserWarning: Workbook contains no default style, apply openpyxl's default\n",
      "  warn(\"Workbook contains no default style, apply openpyxl's default\")\n"
     ]
    },
    {
     "name": "stdout",
     "output_type": "stream",
     "text": [
      "Hoja 116\n"
     ]
    },
    {
     "name": "stderr",
     "output_type": "stream",
     "text": [
      "/Users/edu/Desktop/Github/Efectos-IA-Empleo/.venv/lib/python3.12/site-packages/openpyxl/styles/stylesheet.py:237: UserWarning: Workbook contains no default style, apply openpyxl's default\n",
      "  warn(\"Workbook contains no default style, apply openpyxl's default\")\n"
     ]
    },
    {
     "name": "stdout",
     "output_type": "stream",
     "text": [
      "Hoja 117\n"
     ]
    },
    {
     "name": "stderr",
     "output_type": "stream",
     "text": [
      "/Users/edu/Desktop/Github/Efectos-IA-Empleo/.venv/lib/python3.12/site-packages/openpyxl/styles/stylesheet.py:237: UserWarning: Workbook contains no default style, apply openpyxl's default\n",
      "  warn(\"Workbook contains no default style, apply openpyxl's default\")\n"
     ]
    },
    {
     "name": "stdout",
     "output_type": "stream",
     "text": [
      "Hoja 118\n"
     ]
    },
    {
     "name": "stderr",
     "output_type": "stream",
     "text": [
      "/Users/edu/Desktop/Github/Efectos-IA-Empleo/.venv/lib/python3.12/site-packages/openpyxl/styles/stylesheet.py:237: UserWarning: Workbook contains no default style, apply openpyxl's default\n",
      "  warn(\"Workbook contains no default style, apply openpyxl's default\")\n"
     ]
    },
    {
     "name": "stdout",
     "output_type": "stream",
     "text": [
      "Hoja 119\n",
      "Hoja 120\n"
     ]
    },
    {
     "name": "stderr",
     "output_type": "stream",
     "text": [
      "/Users/edu/Desktop/Github/Efectos-IA-Empleo/.venv/lib/python3.12/site-packages/openpyxl/styles/stylesheet.py:237: UserWarning: Workbook contains no default style, apply openpyxl's default\n",
      "  warn(\"Workbook contains no default style, apply openpyxl's default\")\n",
      "/Users/edu/Desktop/Github/Efectos-IA-Empleo/.venv/lib/python3.12/site-packages/openpyxl/styles/stylesheet.py:237: UserWarning: Workbook contains no default style, apply openpyxl's default\n",
      "  warn(\"Workbook contains no default style, apply openpyxl's default\")\n"
     ]
    },
    {
     "name": "stdout",
     "output_type": "stream",
     "text": [
      "Hoja 121\n"
     ]
    },
    {
     "name": "stderr",
     "output_type": "stream",
     "text": [
      "/Users/edu/Desktop/Github/Efectos-IA-Empleo/.venv/lib/python3.12/site-packages/openpyxl/styles/stylesheet.py:237: UserWarning: Workbook contains no default style, apply openpyxl's default\n",
      "  warn(\"Workbook contains no default style, apply openpyxl's default\")\n"
     ]
    },
    {
     "name": "stdout",
     "output_type": "stream",
     "text": [
      "Hoja 122\n"
     ]
    },
    {
     "name": "stderr",
     "output_type": "stream",
     "text": [
      "/Users/edu/Desktop/Github/Efectos-IA-Empleo/.venv/lib/python3.12/site-packages/openpyxl/styles/stylesheet.py:237: UserWarning: Workbook contains no default style, apply openpyxl's default\n",
      "  warn(\"Workbook contains no default style, apply openpyxl's default\")\n"
     ]
    },
    {
     "name": "stdout",
     "output_type": "stream",
     "text": [
      "Hoja 123\n"
     ]
    },
    {
     "name": "stderr",
     "output_type": "stream",
     "text": [
      "/Users/edu/Desktop/Github/Efectos-IA-Empleo/.venv/lib/python3.12/site-packages/openpyxl/styles/stylesheet.py:237: UserWarning: Workbook contains no default style, apply openpyxl's default\n",
      "  warn(\"Workbook contains no default style, apply openpyxl's default\")\n"
     ]
    },
    {
     "name": "stdout",
     "output_type": "stream",
     "text": [
      "Hoja 124\n"
     ]
    },
    {
     "name": "stderr",
     "output_type": "stream",
     "text": [
      "/Users/edu/Desktop/Github/Efectos-IA-Empleo/.venv/lib/python3.12/site-packages/openpyxl/styles/stylesheet.py:237: UserWarning: Workbook contains no default style, apply openpyxl's default\n",
      "  warn(\"Workbook contains no default style, apply openpyxl's default\")\n"
     ]
    },
    {
     "name": "stdout",
     "output_type": "stream",
     "text": [
      "Hoja 125\n"
     ]
    },
    {
     "name": "stderr",
     "output_type": "stream",
     "text": [
      "/Users/edu/Desktop/Github/Efectos-IA-Empleo/.venv/lib/python3.12/site-packages/openpyxl/styles/stylesheet.py:237: UserWarning: Workbook contains no default style, apply openpyxl's default\n",
      "  warn(\"Workbook contains no default style, apply openpyxl's default\")\n"
     ]
    },
    {
     "name": "stdout",
     "output_type": "stream",
     "text": [
      "Hoja 126\n"
     ]
    },
    {
     "name": "stderr",
     "output_type": "stream",
     "text": [
      "/Users/edu/Desktop/Github/Efectos-IA-Empleo/.venv/lib/python3.12/site-packages/openpyxl/styles/stylesheet.py:237: UserWarning: Workbook contains no default style, apply openpyxl's default\n",
      "  warn(\"Workbook contains no default style, apply openpyxl's default\")\n"
     ]
    },
    {
     "name": "stdout",
     "output_type": "stream",
     "text": [
      "Hoja 127\n"
     ]
    },
    {
     "name": "stderr",
     "output_type": "stream",
     "text": [
      "/Users/edu/Desktop/Github/Efectos-IA-Empleo/.venv/lib/python3.12/site-packages/openpyxl/styles/stylesheet.py:237: UserWarning: Workbook contains no default style, apply openpyxl's default\n",
      "  warn(\"Workbook contains no default style, apply openpyxl's default\")\n"
     ]
    },
    {
     "name": "stdout",
     "output_type": "stream",
     "text": [
      "Hoja 128\n",
      "Hoja 129\n"
     ]
    },
    {
     "name": "stderr",
     "output_type": "stream",
     "text": [
      "/Users/edu/Desktop/Github/Efectos-IA-Empleo/.venv/lib/python3.12/site-packages/openpyxl/styles/stylesheet.py:237: UserWarning: Workbook contains no default style, apply openpyxl's default\n",
      "  warn(\"Workbook contains no default style, apply openpyxl's default\")\n",
      "/Users/edu/Desktop/Github/Efectos-IA-Empleo/.venv/lib/python3.12/site-packages/openpyxl/styles/stylesheet.py:237: UserWarning: Workbook contains no default style, apply openpyxl's default\n",
      "  warn(\"Workbook contains no default style, apply openpyxl's default\")\n"
     ]
    },
    {
     "name": "stdout",
     "output_type": "stream",
     "text": [
      "Hoja 130\n"
     ]
    },
    {
     "name": "stderr",
     "output_type": "stream",
     "text": [
      "/Users/edu/Desktop/Github/Efectos-IA-Empleo/.venv/lib/python3.12/site-packages/openpyxl/styles/stylesheet.py:237: UserWarning: Workbook contains no default style, apply openpyxl's default\n",
      "  warn(\"Workbook contains no default style, apply openpyxl's default\")\n"
     ]
    },
    {
     "name": "stdout",
     "output_type": "stream",
     "text": [
      "Hoja 131\n"
     ]
    },
    {
     "name": "stderr",
     "output_type": "stream",
     "text": [
      "/Users/edu/Desktop/Github/Efectos-IA-Empleo/.venv/lib/python3.12/site-packages/openpyxl/styles/stylesheet.py:237: UserWarning: Workbook contains no default style, apply openpyxl's default\n",
      "  warn(\"Workbook contains no default style, apply openpyxl's default\")\n"
     ]
    },
    {
     "name": "stdout",
     "output_type": "stream",
     "text": [
      "Hoja 132\n"
     ]
    },
    {
     "name": "stderr",
     "output_type": "stream",
     "text": [
      "/Users/edu/Desktop/Github/Efectos-IA-Empleo/.venv/lib/python3.12/site-packages/openpyxl/styles/stylesheet.py:237: UserWarning: Workbook contains no default style, apply openpyxl's default\n",
      "  warn(\"Workbook contains no default style, apply openpyxl's default\")\n"
     ]
    },
    {
     "name": "stdout",
     "output_type": "stream",
     "text": [
      "Hoja 133\n"
     ]
    },
    {
     "name": "stderr",
     "output_type": "stream",
     "text": [
      "/Users/edu/Desktop/Github/Efectos-IA-Empleo/.venv/lib/python3.12/site-packages/openpyxl/styles/stylesheet.py:237: UserWarning: Workbook contains no default style, apply openpyxl's default\n",
      "  warn(\"Workbook contains no default style, apply openpyxl's default\")\n"
     ]
    },
    {
     "name": "stdout",
     "output_type": "stream",
     "text": [
      "Hoja 134\n"
     ]
    },
    {
     "name": "stderr",
     "output_type": "stream",
     "text": [
      "/Users/edu/Desktop/Github/Efectos-IA-Empleo/.venv/lib/python3.12/site-packages/openpyxl/styles/stylesheet.py:237: UserWarning: Workbook contains no default style, apply openpyxl's default\n",
      "  warn(\"Workbook contains no default style, apply openpyxl's default\")\n"
     ]
    },
    {
     "name": "stdout",
     "output_type": "stream",
     "text": [
      "Hoja 135\n"
     ]
    },
    {
     "name": "stderr",
     "output_type": "stream",
     "text": [
      "/Users/edu/Desktop/Github/Efectos-IA-Empleo/.venv/lib/python3.12/site-packages/openpyxl/styles/stylesheet.py:237: UserWarning: Workbook contains no default style, apply openpyxl's default\n",
      "  warn(\"Workbook contains no default style, apply openpyxl's default\")\n"
     ]
    },
    {
     "name": "stdout",
     "output_type": "stream",
     "text": [
      "Hoja 136\n"
     ]
    },
    {
     "name": "stderr",
     "output_type": "stream",
     "text": [
      "/Users/edu/Desktop/Github/Efectos-IA-Empleo/.venv/lib/python3.12/site-packages/openpyxl/styles/stylesheet.py:237: UserWarning: Workbook contains no default style, apply openpyxl's default\n",
      "  warn(\"Workbook contains no default style, apply openpyxl's default\")\n"
     ]
    },
    {
     "name": "stdout",
     "output_type": "stream",
     "text": [
      "Hoja 137\n"
     ]
    },
    {
     "name": "stderr",
     "output_type": "stream",
     "text": [
      "/Users/edu/Desktop/Github/Efectos-IA-Empleo/.venv/lib/python3.12/site-packages/openpyxl/styles/stylesheet.py:237: UserWarning: Workbook contains no default style, apply openpyxl's default\n",
      "  warn(\"Workbook contains no default style, apply openpyxl's default\")\n"
     ]
    },
    {
     "name": "stdout",
     "output_type": "stream",
     "text": [
      "Hoja 138\n",
      "Hoja 139\n"
     ]
    },
    {
     "name": "stderr",
     "output_type": "stream",
     "text": [
      "/Users/edu/Desktop/Github/Efectos-IA-Empleo/.venv/lib/python3.12/site-packages/openpyxl/styles/stylesheet.py:237: UserWarning: Workbook contains no default style, apply openpyxl's default\n",
      "  warn(\"Workbook contains no default style, apply openpyxl's default\")\n",
      "/Users/edu/Desktop/Github/Efectos-IA-Empleo/.venv/lib/python3.12/site-packages/openpyxl/styles/stylesheet.py:237: UserWarning: Workbook contains no default style, apply openpyxl's default\n",
      "  warn(\"Workbook contains no default style, apply openpyxl's default\")\n"
     ]
    },
    {
     "name": "stdout",
     "output_type": "stream",
     "text": [
      "Hoja 140\n"
     ]
    },
    {
     "name": "stderr",
     "output_type": "stream",
     "text": [
      "/Users/edu/Desktop/Github/Efectos-IA-Empleo/.venv/lib/python3.12/site-packages/openpyxl/styles/stylesheet.py:237: UserWarning: Workbook contains no default style, apply openpyxl's default\n",
      "  warn(\"Workbook contains no default style, apply openpyxl's default\")\n"
     ]
    },
    {
     "name": "stdout",
     "output_type": "stream",
     "text": [
      "Hoja 141\n"
     ]
    },
    {
     "name": "stderr",
     "output_type": "stream",
     "text": [
      "/Users/edu/Desktop/Github/Efectos-IA-Empleo/.venv/lib/python3.12/site-packages/openpyxl/styles/stylesheet.py:237: UserWarning: Workbook contains no default style, apply openpyxl's default\n",
      "  warn(\"Workbook contains no default style, apply openpyxl's default\")\n"
     ]
    },
    {
     "name": "stdout",
     "output_type": "stream",
     "text": [
      "Hoja 142\n"
     ]
    },
    {
     "name": "stderr",
     "output_type": "stream",
     "text": [
      "/Users/edu/Desktop/Github/Efectos-IA-Empleo/.venv/lib/python3.12/site-packages/openpyxl/styles/stylesheet.py:237: UserWarning: Workbook contains no default style, apply openpyxl's default\n",
      "  warn(\"Workbook contains no default style, apply openpyxl's default\")\n"
     ]
    },
    {
     "name": "stdout",
     "output_type": "stream",
     "text": [
      "Hoja 143\n"
     ]
    },
    {
     "name": "stderr",
     "output_type": "stream",
     "text": [
      "/Users/edu/Desktop/Github/Efectos-IA-Empleo/.venv/lib/python3.12/site-packages/openpyxl/styles/stylesheet.py:237: UserWarning: Workbook contains no default style, apply openpyxl's default\n",
      "  warn(\"Workbook contains no default style, apply openpyxl's default\")\n"
     ]
    },
    {
     "name": "stdout",
     "output_type": "stream",
     "text": [
      "Hoja 144\n"
     ]
    },
    {
     "name": "stderr",
     "output_type": "stream",
     "text": [
      "/Users/edu/Desktop/Github/Efectos-IA-Empleo/.venv/lib/python3.12/site-packages/openpyxl/styles/stylesheet.py:237: UserWarning: Workbook contains no default style, apply openpyxl's default\n",
      "  warn(\"Workbook contains no default style, apply openpyxl's default\")\n"
     ]
    },
    {
     "name": "stdout",
     "output_type": "stream",
     "text": [
      "Hoja 145\n"
     ]
    },
    {
     "name": "stderr",
     "output_type": "stream",
     "text": [
      "/Users/edu/Desktop/Github/Efectos-IA-Empleo/.venv/lib/python3.12/site-packages/openpyxl/styles/stylesheet.py:237: UserWarning: Workbook contains no default style, apply openpyxl's default\n",
      "  warn(\"Workbook contains no default style, apply openpyxl's default\")\n"
     ]
    },
    {
     "name": "stdout",
     "output_type": "stream",
     "text": [
      "Hoja 146\n"
     ]
    },
    {
     "name": "stderr",
     "output_type": "stream",
     "text": [
      "/Users/edu/Desktop/Github/Efectos-IA-Empleo/.venv/lib/python3.12/site-packages/openpyxl/styles/stylesheet.py:237: UserWarning: Workbook contains no default style, apply openpyxl's default\n",
      "  warn(\"Workbook contains no default style, apply openpyxl's default\")\n"
     ]
    },
    {
     "name": "stdout",
     "output_type": "stream",
     "text": [
      "Hoja 147\n"
     ]
    },
    {
     "name": "stderr",
     "output_type": "stream",
     "text": [
      "/Users/edu/Desktop/Github/Efectos-IA-Empleo/.venv/lib/python3.12/site-packages/openpyxl/styles/stylesheet.py:237: UserWarning: Workbook contains no default style, apply openpyxl's default\n",
      "  warn(\"Workbook contains no default style, apply openpyxl's default\")\n"
     ]
    },
    {
     "name": "stdout",
     "output_type": "stream",
     "text": [
      "Hoja 148\n",
      "Hoja 149\n"
     ]
    },
    {
     "name": "stderr",
     "output_type": "stream",
     "text": [
      "/Users/edu/Desktop/Github/Efectos-IA-Empleo/.venv/lib/python3.12/site-packages/openpyxl/styles/stylesheet.py:237: UserWarning: Workbook contains no default style, apply openpyxl's default\n",
      "  warn(\"Workbook contains no default style, apply openpyxl's default\")\n",
      "/Users/edu/Desktop/Github/Efectos-IA-Empleo/.venv/lib/python3.12/site-packages/openpyxl/styles/stylesheet.py:237: UserWarning: Workbook contains no default style, apply openpyxl's default\n",
      "  warn(\"Workbook contains no default style, apply openpyxl's default\")\n"
     ]
    },
    {
     "name": "stdout",
     "output_type": "stream",
     "text": [
      "Hoja 150\n"
     ]
    },
    {
     "name": "stderr",
     "output_type": "stream",
     "text": [
      "/Users/edu/Desktop/Github/Efectos-IA-Empleo/.venv/lib/python3.12/site-packages/openpyxl/styles/stylesheet.py:237: UserWarning: Workbook contains no default style, apply openpyxl's default\n",
      "  warn(\"Workbook contains no default style, apply openpyxl's default\")\n"
     ]
    },
    {
     "name": "stdout",
     "output_type": "stream",
     "text": [
      "Hoja 151\n"
     ]
    },
    {
     "name": "stderr",
     "output_type": "stream",
     "text": [
      "/Users/edu/Desktop/Github/Efectos-IA-Empleo/.venv/lib/python3.12/site-packages/openpyxl/styles/stylesheet.py:237: UserWarning: Workbook contains no default style, apply openpyxl's default\n",
      "  warn(\"Workbook contains no default style, apply openpyxl's default\")\n"
     ]
    },
    {
     "name": "stdout",
     "output_type": "stream",
     "text": [
      "Hoja 152\n"
     ]
    },
    {
     "name": "stderr",
     "output_type": "stream",
     "text": [
      "/Users/edu/Desktop/Github/Efectos-IA-Empleo/.venv/lib/python3.12/site-packages/openpyxl/styles/stylesheet.py:237: UserWarning: Workbook contains no default style, apply openpyxl's default\n",
      "  warn(\"Workbook contains no default style, apply openpyxl's default\")\n"
     ]
    },
    {
     "name": "stdout",
     "output_type": "stream",
     "text": [
      "Hoja 153\n"
     ]
    },
    {
     "name": "stderr",
     "output_type": "stream",
     "text": [
      "/Users/edu/Desktop/Github/Efectos-IA-Empleo/.venv/lib/python3.12/site-packages/openpyxl/styles/stylesheet.py:237: UserWarning: Workbook contains no default style, apply openpyxl's default\n",
      "  warn(\"Workbook contains no default style, apply openpyxl's default\")\n"
     ]
    },
    {
     "name": "stdout",
     "output_type": "stream",
     "text": [
      "Hoja 154\n"
     ]
    },
    {
     "name": "stderr",
     "output_type": "stream",
     "text": [
      "/Users/edu/Desktop/Github/Efectos-IA-Empleo/.venv/lib/python3.12/site-packages/openpyxl/styles/stylesheet.py:237: UserWarning: Workbook contains no default style, apply openpyxl's default\n",
      "  warn(\"Workbook contains no default style, apply openpyxl's default\")\n"
     ]
    },
    {
     "name": "stdout",
     "output_type": "stream",
     "text": [
      "Hoja 155\n"
     ]
    },
    {
     "name": "stderr",
     "output_type": "stream",
     "text": [
      "/Users/edu/Desktop/Github/Efectos-IA-Empleo/.venv/lib/python3.12/site-packages/openpyxl/styles/stylesheet.py:237: UserWarning: Workbook contains no default style, apply openpyxl's default\n",
      "  warn(\"Workbook contains no default style, apply openpyxl's default\")\n"
     ]
    },
    {
     "name": "stdout",
     "output_type": "stream",
     "text": [
      "Hoja 156\n"
     ]
    },
    {
     "name": "stderr",
     "output_type": "stream",
     "text": [
      "/Users/edu/Desktop/Github/Efectos-IA-Empleo/.venv/lib/python3.12/site-packages/openpyxl/styles/stylesheet.py:237: UserWarning: Workbook contains no default style, apply openpyxl's default\n",
      "  warn(\"Workbook contains no default style, apply openpyxl's default\")\n"
     ]
    },
    {
     "name": "stdout",
     "output_type": "stream",
     "text": [
      "Hoja 157\n",
      "Hoja 158\n"
     ]
    },
    {
     "name": "stderr",
     "output_type": "stream",
     "text": [
      "/Users/edu/Desktop/Github/Efectos-IA-Empleo/.venv/lib/python3.12/site-packages/openpyxl/styles/stylesheet.py:237: UserWarning: Workbook contains no default style, apply openpyxl's default\n",
      "  warn(\"Workbook contains no default style, apply openpyxl's default\")\n",
      "/Users/edu/Desktop/Github/Efectos-IA-Empleo/.venv/lib/python3.12/site-packages/openpyxl/styles/stylesheet.py:237: UserWarning: Workbook contains no default style, apply openpyxl's default\n",
      "  warn(\"Workbook contains no default style, apply openpyxl's default\")\n"
     ]
    },
    {
     "name": "stdout",
     "output_type": "stream",
     "text": [
      "Hoja 159\n"
     ]
    },
    {
     "name": "stderr",
     "output_type": "stream",
     "text": [
      "/Users/edu/Desktop/Github/Efectos-IA-Empleo/.venv/lib/python3.12/site-packages/openpyxl/styles/stylesheet.py:237: UserWarning: Workbook contains no default style, apply openpyxl's default\n",
      "  warn(\"Workbook contains no default style, apply openpyxl's default\")\n"
     ]
    },
    {
     "name": "stdout",
     "output_type": "stream",
     "text": [
      "Hoja 160\n"
     ]
    },
    {
     "name": "stderr",
     "output_type": "stream",
     "text": [
      "/Users/edu/Desktop/Github/Efectos-IA-Empleo/.venv/lib/python3.12/site-packages/openpyxl/styles/stylesheet.py:237: UserWarning: Workbook contains no default style, apply openpyxl's default\n",
      "  warn(\"Workbook contains no default style, apply openpyxl's default\")\n"
     ]
    },
    {
     "name": "stdout",
     "output_type": "stream",
     "text": [
      "Hoja 161\n"
     ]
    },
    {
     "name": "stderr",
     "output_type": "stream",
     "text": [
      "/Users/edu/Desktop/Github/Efectos-IA-Empleo/.venv/lib/python3.12/site-packages/openpyxl/styles/stylesheet.py:237: UserWarning: Workbook contains no default style, apply openpyxl's default\n",
      "  warn(\"Workbook contains no default style, apply openpyxl's default\")\n"
     ]
    },
    {
     "name": "stdout",
     "output_type": "stream",
     "text": [
      "Hoja 162\n"
     ]
    },
    {
     "name": "stderr",
     "output_type": "stream",
     "text": [
      "/Users/edu/Desktop/Github/Efectos-IA-Empleo/.venv/lib/python3.12/site-packages/openpyxl/styles/stylesheet.py:237: UserWarning: Workbook contains no default style, apply openpyxl's default\n",
      "  warn(\"Workbook contains no default style, apply openpyxl's default\")\n"
     ]
    },
    {
     "name": "stdout",
     "output_type": "stream",
     "text": [
      "Hoja 163\n"
     ]
    },
    {
     "name": "stderr",
     "output_type": "stream",
     "text": [
      "/Users/edu/Desktop/Github/Efectos-IA-Empleo/.venv/lib/python3.12/site-packages/openpyxl/styles/stylesheet.py:237: UserWarning: Workbook contains no default style, apply openpyxl's default\n",
      "  warn(\"Workbook contains no default style, apply openpyxl's default\")\n"
     ]
    },
    {
     "name": "stdout",
     "output_type": "stream",
     "text": [
      "Hoja 164\n"
     ]
    },
    {
     "name": "stderr",
     "output_type": "stream",
     "text": [
      "/Users/edu/Desktop/Github/Efectos-IA-Empleo/.venv/lib/python3.12/site-packages/openpyxl/styles/stylesheet.py:237: UserWarning: Workbook contains no default style, apply openpyxl's default\n",
      "  warn(\"Workbook contains no default style, apply openpyxl's default\")\n"
     ]
    },
    {
     "name": "stdout",
     "output_type": "stream",
     "text": [
      "Hoja 165\n"
     ]
    },
    {
     "name": "stderr",
     "output_type": "stream",
     "text": [
      "/Users/edu/Desktop/Github/Efectos-IA-Empleo/.venv/lib/python3.12/site-packages/openpyxl/styles/stylesheet.py:237: UserWarning: Workbook contains no default style, apply openpyxl's default\n",
      "  warn(\"Workbook contains no default style, apply openpyxl's default\")\n"
     ]
    },
    {
     "name": "stdout",
     "output_type": "stream",
     "text": [
      "Hoja 166\n"
     ]
    },
    {
     "name": "stderr",
     "output_type": "stream",
     "text": [
      "/Users/edu/Desktop/Github/Efectos-IA-Empleo/.venv/lib/python3.12/site-packages/openpyxl/styles/stylesheet.py:237: UserWarning: Workbook contains no default style, apply openpyxl's default\n",
      "  warn(\"Workbook contains no default style, apply openpyxl's default\")\n"
     ]
    },
    {
     "name": "stdout",
     "output_type": "stream",
     "text": [
      "Hoja 167\n",
      "Hoja 168\n"
     ]
    },
    {
     "name": "stderr",
     "output_type": "stream",
     "text": [
      "/Users/edu/Desktop/Github/Efectos-IA-Empleo/.venv/lib/python3.12/site-packages/openpyxl/styles/stylesheet.py:237: UserWarning: Workbook contains no default style, apply openpyxl's default\n",
      "  warn(\"Workbook contains no default style, apply openpyxl's default\")\n",
      "/Users/edu/Desktop/Github/Efectos-IA-Empleo/.venv/lib/python3.12/site-packages/openpyxl/styles/stylesheet.py:237: UserWarning: Workbook contains no default style, apply openpyxl's default\n",
      "  warn(\"Workbook contains no default style, apply openpyxl's default\")\n"
     ]
    },
    {
     "name": "stdout",
     "output_type": "stream",
     "text": [
      "Hoja 169\n"
     ]
    },
    {
     "name": "stderr",
     "output_type": "stream",
     "text": [
      "/Users/edu/Desktop/Github/Efectos-IA-Empleo/.venv/lib/python3.12/site-packages/openpyxl/styles/stylesheet.py:237: UserWarning: Workbook contains no default style, apply openpyxl's default\n",
      "  warn(\"Workbook contains no default style, apply openpyxl's default\")\n"
     ]
    },
    {
     "name": "stdout",
     "output_type": "stream",
     "text": [
      "Hoja 170\n"
     ]
    },
    {
     "name": "stderr",
     "output_type": "stream",
     "text": [
      "/Users/edu/Desktop/Github/Efectos-IA-Empleo/.venv/lib/python3.12/site-packages/openpyxl/styles/stylesheet.py:237: UserWarning: Workbook contains no default style, apply openpyxl's default\n",
      "  warn(\"Workbook contains no default style, apply openpyxl's default\")\n"
     ]
    },
    {
     "name": "stdout",
     "output_type": "stream",
     "text": [
      "Hoja 171\n"
     ]
    },
    {
     "name": "stderr",
     "output_type": "stream",
     "text": [
      "/Users/edu/Desktop/Github/Efectos-IA-Empleo/.venv/lib/python3.12/site-packages/openpyxl/styles/stylesheet.py:237: UserWarning: Workbook contains no default style, apply openpyxl's default\n",
      "  warn(\"Workbook contains no default style, apply openpyxl's default\")\n"
     ]
    },
    {
     "name": "stdout",
     "output_type": "stream",
     "text": [
      "Hoja 172\n"
     ]
    },
    {
     "name": "stderr",
     "output_type": "stream",
     "text": [
      "/Users/edu/Desktop/Github/Efectos-IA-Empleo/.venv/lib/python3.12/site-packages/openpyxl/styles/stylesheet.py:237: UserWarning: Workbook contains no default style, apply openpyxl's default\n",
      "  warn(\"Workbook contains no default style, apply openpyxl's default\")\n"
     ]
    },
    {
     "name": "stdout",
     "output_type": "stream",
     "text": [
      "Hoja 173\n"
     ]
    },
    {
     "name": "stderr",
     "output_type": "stream",
     "text": [
      "/Users/edu/Desktop/Github/Efectos-IA-Empleo/.venv/lib/python3.12/site-packages/openpyxl/styles/stylesheet.py:237: UserWarning: Workbook contains no default style, apply openpyxl's default\n",
      "  warn(\"Workbook contains no default style, apply openpyxl's default\")\n"
     ]
    },
    {
     "name": "stdout",
     "output_type": "stream",
     "text": [
      "Hoja 174\n"
     ]
    },
    {
     "name": "stderr",
     "output_type": "stream",
     "text": [
      "/Users/edu/Desktop/Github/Efectos-IA-Empleo/.venv/lib/python3.12/site-packages/openpyxl/styles/stylesheet.py:237: UserWarning: Workbook contains no default style, apply openpyxl's default\n",
      "  warn(\"Workbook contains no default style, apply openpyxl's default\")\n"
     ]
    },
    {
     "name": "stdout",
     "output_type": "stream",
     "text": [
      "Hoja 175\n"
     ]
    },
    {
     "name": "stderr",
     "output_type": "stream",
     "text": [
      "/Users/edu/Desktop/Github/Efectos-IA-Empleo/.venv/lib/python3.12/site-packages/openpyxl/styles/stylesheet.py:237: UserWarning: Workbook contains no default style, apply openpyxl's default\n",
      "  warn(\"Workbook contains no default style, apply openpyxl's default\")\n"
     ]
    },
    {
     "name": "stdout",
     "output_type": "stream",
     "text": [
      "Hoja 176\n",
      "Hoja 177\n"
     ]
    },
    {
     "name": "stderr",
     "output_type": "stream",
     "text": [
      "/Users/edu/Desktop/Github/Efectos-IA-Empleo/.venv/lib/python3.12/site-packages/openpyxl/styles/stylesheet.py:237: UserWarning: Workbook contains no default style, apply openpyxl's default\n",
      "  warn(\"Workbook contains no default style, apply openpyxl's default\")\n",
      "/Users/edu/Desktop/Github/Efectos-IA-Empleo/.venv/lib/python3.12/site-packages/openpyxl/styles/stylesheet.py:237: UserWarning: Workbook contains no default style, apply openpyxl's default\n",
      "  warn(\"Workbook contains no default style, apply openpyxl's default\")\n"
     ]
    },
    {
     "name": "stdout",
     "output_type": "stream",
     "text": [
      "Hoja 178\n"
     ]
    },
    {
     "name": "stderr",
     "output_type": "stream",
     "text": [
      "/Users/edu/Desktop/Github/Efectos-IA-Empleo/.venv/lib/python3.12/site-packages/openpyxl/styles/stylesheet.py:237: UserWarning: Workbook contains no default style, apply openpyxl's default\n",
      "  warn(\"Workbook contains no default style, apply openpyxl's default\")\n"
     ]
    },
    {
     "name": "stdout",
     "output_type": "stream",
     "text": [
      "Hoja 179\n"
     ]
    },
    {
     "name": "stderr",
     "output_type": "stream",
     "text": [
      "/Users/edu/Desktop/Github/Efectos-IA-Empleo/.venv/lib/python3.12/site-packages/openpyxl/styles/stylesheet.py:237: UserWarning: Workbook contains no default style, apply openpyxl's default\n",
      "  warn(\"Workbook contains no default style, apply openpyxl's default\")\n"
     ]
    },
    {
     "name": "stdout",
     "output_type": "stream",
     "text": [
      "Hoja 180\n"
     ]
    },
    {
     "name": "stderr",
     "output_type": "stream",
     "text": [
      "/Users/edu/Desktop/Github/Efectos-IA-Empleo/.venv/lib/python3.12/site-packages/openpyxl/styles/stylesheet.py:237: UserWarning: Workbook contains no default style, apply openpyxl's default\n",
      "  warn(\"Workbook contains no default style, apply openpyxl's default\")\n"
     ]
    },
    {
     "name": "stdout",
     "output_type": "stream",
     "text": [
      "Hoja 181\n"
     ]
    },
    {
     "name": "stderr",
     "output_type": "stream",
     "text": [
      "/Users/edu/Desktop/Github/Efectos-IA-Empleo/.venv/lib/python3.12/site-packages/openpyxl/styles/stylesheet.py:237: UserWarning: Workbook contains no default style, apply openpyxl's default\n",
      "  warn(\"Workbook contains no default style, apply openpyxl's default\")\n"
     ]
    },
    {
     "name": "stdout",
     "output_type": "stream",
     "text": [
      "Hoja 182\n"
     ]
    },
    {
     "name": "stderr",
     "output_type": "stream",
     "text": [
      "/Users/edu/Desktop/Github/Efectos-IA-Empleo/.venv/lib/python3.12/site-packages/openpyxl/styles/stylesheet.py:237: UserWarning: Workbook contains no default style, apply openpyxl's default\n",
      "  warn(\"Workbook contains no default style, apply openpyxl's default\")\n"
     ]
    },
    {
     "name": "stdout",
     "output_type": "stream",
     "text": [
      "Hoja 183\n"
     ]
    },
    {
     "name": "stderr",
     "output_type": "stream",
     "text": [
      "/Users/edu/Desktop/Github/Efectos-IA-Empleo/.venv/lib/python3.12/site-packages/openpyxl/styles/stylesheet.py:237: UserWarning: Workbook contains no default style, apply openpyxl's default\n",
      "  warn(\"Workbook contains no default style, apply openpyxl's default\")\n"
     ]
    },
    {
     "name": "stdout",
     "output_type": "stream",
     "text": [
      "Hoja 184\n"
     ]
    },
    {
     "name": "stderr",
     "output_type": "stream",
     "text": [
      "/Users/edu/Desktop/Github/Efectos-IA-Empleo/.venv/lib/python3.12/site-packages/openpyxl/styles/stylesheet.py:237: UserWarning: Workbook contains no default style, apply openpyxl's default\n",
      "  warn(\"Workbook contains no default style, apply openpyxl's default\")\n"
     ]
    },
    {
     "name": "stdout",
     "output_type": "stream",
     "text": [
      "Hoja 185\n"
     ]
    },
    {
     "name": "stderr",
     "output_type": "stream",
     "text": [
      "/Users/edu/Desktop/Github/Efectos-IA-Empleo/.venv/lib/python3.12/site-packages/openpyxl/styles/stylesheet.py:237: UserWarning: Workbook contains no default style, apply openpyxl's default\n",
      "  warn(\"Workbook contains no default style, apply openpyxl's default\")\n"
     ]
    },
    {
     "name": "stdout",
     "output_type": "stream",
     "text": [
      "Hoja 186\n",
      "Hoja 187\n"
     ]
    },
    {
     "name": "stderr",
     "output_type": "stream",
     "text": [
      "/Users/edu/Desktop/Github/Efectos-IA-Empleo/.venv/lib/python3.12/site-packages/openpyxl/styles/stylesheet.py:237: UserWarning: Workbook contains no default style, apply openpyxl's default\n",
      "  warn(\"Workbook contains no default style, apply openpyxl's default\")\n",
      "/Users/edu/Desktop/Github/Efectos-IA-Empleo/.venv/lib/python3.12/site-packages/openpyxl/styles/stylesheet.py:237: UserWarning: Workbook contains no default style, apply openpyxl's default\n",
      "  warn(\"Workbook contains no default style, apply openpyxl's default\")\n"
     ]
    },
    {
     "name": "stdout",
     "output_type": "stream",
     "text": [
      "Hoja 188\n"
     ]
    },
    {
     "name": "stderr",
     "output_type": "stream",
     "text": [
      "/Users/edu/Desktop/Github/Efectos-IA-Empleo/.venv/lib/python3.12/site-packages/openpyxl/styles/stylesheet.py:237: UserWarning: Workbook contains no default style, apply openpyxl's default\n",
      "  warn(\"Workbook contains no default style, apply openpyxl's default\")\n"
     ]
    },
    {
     "name": "stdout",
     "output_type": "stream",
     "text": [
      "Hoja 189\n"
     ]
    },
    {
     "name": "stderr",
     "output_type": "stream",
     "text": [
      "/Users/edu/Desktop/Github/Efectos-IA-Empleo/.venv/lib/python3.12/site-packages/openpyxl/styles/stylesheet.py:237: UserWarning: Workbook contains no default style, apply openpyxl's default\n",
      "  warn(\"Workbook contains no default style, apply openpyxl's default\")\n"
     ]
    },
    {
     "name": "stdout",
     "output_type": "stream",
     "text": [
      "Hoja 190\n"
     ]
    },
    {
     "name": "stderr",
     "output_type": "stream",
     "text": [
      "/Users/edu/Desktop/Github/Efectos-IA-Empleo/.venv/lib/python3.12/site-packages/openpyxl/styles/stylesheet.py:237: UserWarning: Workbook contains no default style, apply openpyxl's default\n",
      "  warn(\"Workbook contains no default style, apply openpyxl's default\")\n"
     ]
    },
    {
     "name": "stdout",
     "output_type": "stream",
     "text": [
      "Hoja 191\n"
     ]
    },
    {
     "name": "stderr",
     "output_type": "stream",
     "text": [
      "/Users/edu/Desktop/Github/Efectos-IA-Empleo/.venv/lib/python3.12/site-packages/openpyxl/styles/stylesheet.py:237: UserWarning: Workbook contains no default style, apply openpyxl's default\n",
      "  warn(\"Workbook contains no default style, apply openpyxl's default\")\n"
     ]
    },
    {
     "name": "stdout",
     "output_type": "stream",
     "text": [
      "Hoja 192\n"
     ]
    },
    {
     "name": "stderr",
     "output_type": "stream",
     "text": [
      "/Users/edu/Desktop/Github/Efectos-IA-Empleo/.venv/lib/python3.12/site-packages/openpyxl/styles/stylesheet.py:237: UserWarning: Workbook contains no default style, apply openpyxl's default\n",
      "  warn(\"Workbook contains no default style, apply openpyxl's default\")\n"
     ]
    },
    {
     "name": "stdout",
     "output_type": "stream",
     "text": [
      "Hoja 193\n"
     ]
    },
    {
     "name": "stderr",
     "output_type": "stream",
     "text": [
      "/Users/edu/Desktop/Github/Efectos-IA-Empleo/.venv/lib/python3.12/site-packages/openpyxl/styles/stylesheet.py:237: UserWarning: Workbook contains no default style, apply openpyxl's default\n",
      "  warn(\"Workbook contains no default style, apply openpyxl's default\")\n"
     ]
    },
    {
     "name": "stdout",
     "output_type": "stream",
     "text": [
      "Hoja 194\n",
      "Hoja 195\n"
     ]
    },
    {
     "name": "stderr",
     "output_type": "stream",
     "text": [
      "/Users/edu/Desktop/Github/Efectos-IA-Empleo/.venv/lib/python3.12/site-packages/openpyxl/styles/stylesheet.py:237: UserWarning: Workbook contains no default style, apply openpyxl's default\n",
      "  warn(\"Workbook contains no default style, apply openpyxl's default\")\n",
      "/Users/edu/Desktop/Github/Efectos-IA-Empleo/.venv/lib/python3.12/site-packages/openpyxl/styles/stylesheet.py:237: UserWarning: Workbook contains no default style, apply openpyxl's default\n",
      "  warn(\"Workbook contains no default style, apply openpyxl's default\")\n"
     ]
    },
    {
     "name": "stdout",
     "output_type": "stream",
     "text": [
      "Hoja 196\n"
     ]
    },
    {
     "name": "stderr",
     "output_type": "stream",
     "text": [
      "/Users/edu/Desktop/Github/Efectos-IA-Empleo/.venv/lib/python3.12/site-packages/openpyxl/styles/stylesheet.py:237: UserWarning: Workbook contains no default style, apply openpyxl's default\n",
      "  warn(\"Workbook contains no default style, apply openpyxl's default\")\n"
     ]
    },
    {
     "name": "stdout",
     "output_type": "stream",
     "text": [
      "Hoja 197\n"
     ]
    },
    {
     "name": "stderr",
     "output_type": "stream",
     "text": [
      "/Users/edu/Desktop/Github/Efectos-IA-Empleo/.venv/lib/python3.12/site-packages/openpyxl/styles/stylesheet.py:237: UserWarning: Workbook contains no default style, apply openpyxl's default\n",
      "  warn(\"Workbook contains no default style, apply openpyxl's default\")\n"
     ]
    },
    {
     "name": "stdout",
     "output_type": "stream",
     "text": [
      "Hoja 198\n"
     ]
    },
    {
     "name": "stderr",
     "output_type": "stream",
     "text": [
      "/Users/edu/Desktop/Github/Efectos-IA-Empleo/.venv/lib/python3.12/site-packages/openpyxl/styles/stylesheet.py:237: UserWarning: Workbook contains no default style, apply openpyxl's default\n",
      "  warn(\"Workbook contains no default style, apply openpyxl's default\")\n"
     ]
    },
    {
     "name": "stdout",
     "output_type": "stream",
     "text": [
      "Hoja 199\n"
     ]
    },
    {
     "name": "stderr",
     "output_type": "stream",
     "text": [
      "/Users/edu/Desktop/Github/Efectos-IA-Empleo/.venv/lib/python3.12/site-packages/openpyxl/styles/stylesheet.py:237: UserWarning: Workbook contains no default style, apply openpyxl's default\n",
      "  warn(\"Workbook contains no default style, apply openpyxl's default\")\n"
     ]
    },
    {
     "name": "stdout",
     "output_type": "stream",
     "text": [
      "Hoja 200\n"
     ]
    },
    {
     "name": "stderr",
     "output_type": "stream",
     "text": [
      "/Users/edu/Desktop/Github/Efectos-IA-Empleo/.venv/lib/python3.12/site-packages/openpyxl/styles/stylesheet.py:237: UserWarning: Workbook contains no default style, apply openpyxl's default\n",
      "  warn(\"Workbook contains no default style, apply openpyxl's default\")\n"
     ]
    },
    {
     "name": "stdout",
     "output_type": "stream",
     "text": [
      "Hoja 201\n"
     ]
    },
    {
     "name": "stderr",
     "output_type": "stream",
     "text": [
      "/Users/edu/Desktop/Github/Efectos-IA-Empleo/.venv/lib/python3.12/site-packages/openpyxl/styles/stylesheet.py:237: UserWarning: Workbook contains no default style, apply openpyxl's default\n",
      "  warn(\"Workbook contains no default style, apply openpyxl's default\")\n"
     ]
    },
    {
     "name": "stdout",
     "output_type": "stream",
     "text": [
      "Hoja 202\n"
     ]
    },
    {
     "name": "stderr",
     "output_type": "stream",
     "text": [
      "/Users/edu/Desktop/Github/Efectos-IA-Empleo/.venv/lib/python3.12/site-packages/openpyxl/styles/stylesheet.py:237: UserWarning: Workbook contains no default style, apply openpyxl's default\n",
      "  warn(\"Workbook contains no default style, apply openpyxl's default\")\n"
     ]
    },
    {
     "name": "stdout",
     "output_type": "stream",
     "text": [
      "Hoja 203\n",
      "Hoja 204\n"
     ]
    },
    {
     "name": "stderr",
     "output_type": "stream",
     "text": [
      "/Users/edu/Desktop/Github/Efectos-IA-Empleo/.venv/lib/python3.12/site-packages/openpyxl/styles/stylesheet.py:237: UserWarning: Workbook contains no default style, apply openpyxl's default\n",
      "  warn(\"Workbook contains no default style, apply openpyxl's default\")\n",
      "/Users/edu/Desktop/Github/Efectos-IA-Empleo/.venv/lib/python3.12/site-packages/openpyxl/styles/stylesheet.py:237: UserWarning: Workbook contains no default style, apply openpyxl's default\n",
      "  warn(\"Workbook contains no default style, apply openpyxl's default\")\n",
      "/Users/edu/Desktop/Github/Efectos-IA-Empleo/.venv/lib/python3.12/site-packages/openpyxl/styles/stylesheet.py:237: UserWarning: Workbook contains no default style, apply openpyxl's default\n",
      "  warn(\"Workbook contains no default style, apply openpyxl's default\")\n"
     ]
    },
    {
     "name": "stdout",
     "output_type": "stream",
     "text": [
      "Hoja 205\n",
      "Hoja 206\n"
     ]
    },
    {
     "name": "stderr",
     "output_type": "stream",
     "text": [
      "/Users/edu/Desktop/Github/Efectos-IA-Empleo/.venv/lib/python3.12/site-packages/openpyxl/styles/stylesheet.py:237: UserWarning: Workbook contains no default style, apply openpyxl's default\n",
      "  warn(\"Workbook contains no default style, apply openpyxl's default\")\n"
     ]
    },
    {
     "name": "stdout",
     "output_type": "stream",
     "text": [
      "Hoja 207\n"
     ]
    },
    {
     "name": "stderr",
     "output_type": "stream",
     "text": [
      "/Users/edu/Desktop/Github/Efectos-IA-Empleo/.venv/lib/python3.12/site-packages/openpyxl/styles/stylesheet.py:237: UserWarning: Workbook contains no default style, apply openpyxl's default\n",
      "  warn(\"Workbook contains no default style, apply openpyxl's default\")\n"
     ]
    },
    {
     "name": "stdout",
     "output_type": "stream",
     "text": [
      "Hoja 208\n"
     ]
    },
    {
     "name": "stderr",
     "output_type": "stream",
     "text": [
      "/Users/edu/Desktop/Github/Efectos-IA-Empleo/.venv/lib/python3.12/site-packages/openpyxl/styles/stylesheet.py:237: UserWarning: Workbook contains no default style, apply openpyxl's default\n",
      "  warn(\"Workbook contains no default style, apply openpyxl's default\")\n"
     ]
    },
    {
     "name": "stdout",
     "output_type": "stream",
     "text": [
      "Hoja 209\n"
     ]
    },
    {
     "name": "stderr",
     "output_type": "stream",
     "text": [
      "/Users/edu/Desktop/Github/Efectos-IA-Empleo/.venv/lib/python3.12/site-packages/openpyxl/styles/stylesheet.py:237: UserWarning: Workbook contains no default style, apply openpyxl's default\n",
      "  warn(\"Workbook contains no default style, apply openpyxl's default\")\n"
     ]
    },
    {
     "name": "stdout",
     "output_type": "stream",
     "text": [
      "Hoja 210\n"
     ]
    },
    {
     "name": "stderr",
     "output_type": "stream",
     "text": [
      "/Users/edu/Desktop/Github/Efectos-IA-Empleo/.venv/lib/python3.12/site-packages/openpyxl/styles/stylesheet.py:237: UserWarning: Workbook contains no default style, apply openpyxl's default\n",
      "  warn(\"Workbook contains no default style, apply openpyxl's default\")\n"
     ]
    },
    {
     "name": "stdout",
     "output_type": "stream",
     "text": [
      "Hoja 211\n"
     ]
    }
   ],
   "source": [
    "# Iterate to extract values from sheets:\n",
    "\n",
    "dataset = None\n",
    "sheet_num = 2\n",
    "\n",
    "while sheet_num < 212:\n",
    "    df = pd.read_excel(path, sheet_num, header=None)\n",
    "    sheet_num += 1\n",
    "    print(f\"Hoja {sheet_num-1}\")\n",
    "\n",
    "    # — FIND ISCO —\n",
    "    for key, value in ISCO_Id.items():\n",
    "        if df[2].astype(str).str.contains(key, na=False, case=True, regex=False).any():\n",
    "            df['ISCO_08'] = value\n",
    "            break\n",
    "\n",
    "    # — FIND NACE —\n",
    "    for key, value in NACE_Id.items():\n",
    "        if df[2].astype(str).str.contains(key, na=False, case=False, regex=False).any():\n",
    "            df['NACE'] = value\n",
    "            break\n",
    "\n",
    "    # — RENAME AND CLEAN COLUMN —\n",
    "    df.rename(columns={0: \"Country\", 1: \"23\", 3: \"24\"}, inplace=True)\n",
    "    df.drop(columns=[2, 4], errors='ignore', inplace=True)\n",
    "\n",
    "    # — FILTER ROWS OF INTEREST —\n",
    "    df = df.iloc[13:49].reset_index(drop=True)\n",
    "\n",
    "    # — CONCAT TO DATASET —\n",
    "    if dataset is None:\n",
    "        dataset = df.copy()\n",
    "    else:\n",
    "        dataset = pd.concat([dataset, df], ignore_index=True)"
   ]
  },
  {
   "cell_type": "code",
   "execution_count": 25,
   "id": "7a4c691d-4fda-45d0-a322-10ee39630c42",
   "metadata": {},
   "outputs": [
    {
     "data": {
      "text/html": [
       "<div>\n",
       "<style scoped>\n",
       "    .dataframe tbody tr th:only-of-type {\n",
       "        vertical-align: middle;\n",
       "    }\n",
       "\n",
       "    .dataframe tbody tr th {\n",
       "        vertical-align: top;\n",
       "    }\n",
       "\n",
       "    .dataframe thead th {\n",
       "        text-align: right;\n",
       "    }\n",
       "</style>\n",
       "<table border=\"1\" class=\"dataframe\">\n",
       "  <thead>\n",
       "    <tr style=\"text-align: right;\">\n",
       "      <th></th>\n",
       "      <th>Country</th>\n",
       "      <th>ISCO_08</th>\n",
       "      <th>NACE</th>\n",
       "      <th>IdYear</th>\n",
       "      <th>occ</th>\n",
       "    </tr>\n",
       "  </thead>\n",
       "  <tbody>\n",
       "    <tr>\n",
       "      <th>0</th>\n",
       "      <td>Belgium</td>\n",
       "      <td>OC1</td>\n",
       "      <td>A</td>\n",
       "      <td>23</td>\n",
       "      <td>2.7</td>\n",
       "    </tr>\n",
       "    <tr>\n",
       "      <th>1</th>\n",
       "      <td>Bulgaria</td>\n",
       "      <td>OC1</td>\n",
       "      <td>A</td>\n",
       "      <td>23</td>\n",
       "      <td>5.1</td>\n",
       "    </tr>\n",
       "    <tr>\n",
       "      <th>2</th>\n",
       "      <td>Czechia</td>\n",
       "      <td>OC1</td>\n",
       "      <td>A</td>\n",
       "      <td>23</td>\n",
       "      <td>5.6</td>\n",
       "    </tr>\n",
       "    <tr>\n",
       "      <th>3</th>\n",
       "      <td>Denmark</td>\n",
       "      <td>OC1</td>\n",
       "      <td>A</td>\n",
       "      <td>23</td>\n",
       "      <td>:</td>\n",
       "    </tr>\n",
       "    <tr>\n",
       "      <th>4</th>\n",
       "      <td>Germany</td>\n",
       "      <td>OC1</td>\n",
       "      <td>A</td>\n",
       "      <td>23</td>\n",
       "      <td>:</td>\n",
       "    </tr>\n",
       "  </tbody>\n",
       "</table>\n",
       "</div>"
      ],
      "text/plain": [
       "    Country ISCO_08 NACE IdYear  occ\n",
       "0   Belgium     OC1    A     23  2.7\n",
       "1  Bulgaria     OC1    A     23  5.1\n",
       "2   Czechia     OC1    A     23  5.6\n",
       "3   Denmark     OC1    A     23    :\n",
       "4   Germany     OC1    A     23    :"
      ]
     },
     "execution_count": 25,
     "metadata": {},
     "output_type": "execute_result"
    }
   ],
   "source": [
    "# Melt function (create columns IdYear y occ, from columns 23, 24):\n",
    "id_vars2= ['Country','ISCO_08', 'NACE']\n",
    "year_cols = [\"23\",\"24\"] \n",
    "data_ISCO = dataset.melt(id_vars=id_vars2,value_vars=year_cols,var_name='IdYear',value_name='occ')\n",
    "data_ISCO.head()"
   ]
  },
  {
   "cell_type": "code",
   "execution_count": 26,
   "id": "f6fd4377-9505-4f88-826b-39cef2b9f811",
   "metadata": {},
   "outputs": [
    {
     "name": "stderr",
     "output_type": "stream",
     "text": [
      "/var/folders/jd/z2fjh1_11qq8pyp05ldmsvz00000gn/T/ipykernel_57948/1692706965.py:2: FutureWarning: Downcasting behavior in `replace` is deprecated and will be removed in a future version. To retain the old behavior, explicitly call `result.infer_objects(copy=False)`. To opt-in to the future behavior, set `pd.set_option('future.no_silent_downcasting', True)`\n",
      "  data_ISCO.replace(':',0, inplace=True)\n"
     ]
    }
   ],
   "source": [
    "# Establecer datos NA a valores cero\n",
    "data_ISCO.replace(':',0, inplace=True)"
   ]
  },
  {
   "cell_type": "code",
   "execution_count": 27,
   "id": "868b3878-23dc-4976-8801-5faa6c34b1a5",
   "metadata": {},
   "outputs": [
    {
     "data": {
      "text/html": [
       "<div>\n",
       "<style scoped>\n",
       "    .dataframe tbody tr th:only-of-type {\n",
       "        vertical-align: middle;\n",
       "    }\n",
       "\n",
       "    .dataframe tbody tr th {\n",
       "        vertical-align: top;\n",
       "    }\n",
       "\n",
       "    .dataframe thead th {\n",
       "        text-align: right;\n",
       "    }\n",
       "</style>\n",
       "<table border=\"1\" class=\"dataframe\">\n",
       "  <thead>\n",
       "    <tr style=\"text-align: right;\">\n",
       "      <th></th>\n",
       "      <th>Country</th>\n",
       "      <th>NACE</th>\n",
       "      <th>IdYear</th>\n",
       "      <th>occ_sector</th>\n",
       "    </tr>\n",
       "  </thead>\n",
       "  <tbody>\n",
       "    <tr>\n",
       "      <th>0</th>\n",
       "      <td>Austria</td>\n",
       "      <td>A</td>\n",
       "      <td>23</td>\n",
       "      <td>133.4</td>\n",
       "    </tr>\n",
       "    <tr>\n",
       "      <th>1</th>\n",
       "      <td>Austria</td>\n",
       "      <td>A</td>\n",
       "      <td>24</td>\n",
       "      <td>120.1</td>\n",
       "    </tr>\n",
       "    <tr>\n",
       "      <th>2</th>\n",
       "      <td>Austria</td>\n",
       "      <td>B</td>\n",
       "      <td>23</td>\n",
       "      <td>0.0</td>\n",
       "    </tr>\n",
       "    <tr>\n",
       "      <th>3</th>\n",
       "      <td>Austria</td>\n",
       "      <td>B</td>\n",
       "      <td>24</td>\n",
       "      <td>0.0</td>\n",
       "    </tr>\n",
       "    <tr>\n",
       "      <th>4</th>\n",
       "      <td>Austria</td>\n",
       "      <td>C</td>\n",
       "      <td>23</td>\n",
       "      <td>743.5</td>\n",
       "    </tr>\n",
       "  </tbody>\n",
       "</table>\n",
       "</div>"
      ],
      "text/plain": [
       "   Country NACE IdYear  occ_sector\n",
       "0  Austria    A     23       133.4\n",
       "1  Austria    A     24       120.1\n",
       "2  Austria    B     23         0.0\n",
       "3  Austria    B     24         0.0\n",
       "4  Austria    C     23       743.5"
      ]
     },
     "execution_count": 27,
     "metadata": {},
     "output_type": "execute_result"
    }
   ],
   "source": [
    "# Transformación de datos:\n",
    "total_sector = data_ISCO.groupby(['Country', 'NACE','IdYear'])['occ'].sum().reset_index()\n",
    "total_sector = total_sector.rename(columns={'occ': 'occ_sector'})\n",
    "total_sector.head()"
   ]
  },
  {
   "cell_type": "code",
   "execution_count": 28,
   "id": "b981a070-ed89-4efe-9263-3314f4d53baa",
   "metadata": {},
   "outputs": [
    {
     "data": {
      "text/html": [
       "<div>\n",
       "<style scoped>\n",
       "    .dataframe tbody tr th:only-of-type {\n",
       "        vertical-align: middle;\n",
       "    }\n",
       "\n",
       "    .dataframe tbody tr th {\n",
       "        vertical-align: top;\n",
       "    }\n",
       "\n",
       "    .dataframe thead th {\n",
       "        text-align: right;\n",
       "    }\n",
       "</style>\n",
       "<table border=\"1\" class=\"dataframe\">\n",
       "  <thead>\n",
       "    <tr style=\"text-align: right;\">\n",
       "      <th></th>\n",
       "      <th>Country</th>\n",
       "      <th>ISCO_08</th>\n",
       "      <th>NACE</th>\n",
       "      <th>IdYear</th>\n",
       "      <th>occ</th>\n",
       "      <th>occ_sector</th>\n",
       "      <th>Share_Occupation</th>\n",
       "    </tr>\n",
       "  </thead>\n",
       "  <tbody>\n",
       "    <tr>\n",
       "      <th>0</th>\n",
       "      <td>Belgium</td>\n",
       "      <td>OC1</td>\n",
       "      <td>A</td>\n",
       "      <td>23</td>\n",
       "      <td>2.7</td>\n",
       "      <td>49.1</td>\n",
       "      <td>0.054990</td>\n",
       "    </tr>\n",
       "    <tr>\n",
       "      <th>1</th>\n",
       "      <td>Bulgaria</td>\n",
       "      <td>OC1</td>\n",
       "      <td>A</td>\n",
       "      <td>23</td>\n",
       "      <td>5.1</td>\n",
       "      <td>163.5</td>\n",
       "      <td>0.031193</td>\n",
       "    </tr>\n",
       "    <tr>\n",
       "      <th>2</th>\n",
       "      <td>Czechia</td>\n",
       "      <td>OC1</td>\n",
       "      <td>A</td>\n",
       "      <td>23</td>\n",
       "      <td>5.6</td>\n",
       "      <td>139.1</td>\n",
       "      <td>0.040259</td>\n",
       "    </tr>\n",
       "    <tr>\n",
       "      <th>3</th>\n",
       "      <td>Denmark</td>\n",
       "      <td>OC1</td>\n",
       "      <td>A</td>\n",
       "      <td>23</td>\n",
       "      <td>0.0</td>\n",
       "      <td>53.7</td>\n",
       "      <td>0.000000</td>\n",
       "    </tr>\n",
       "    <tr>\n",
       "      <th>4</th>\n",
       "      <td>Germany</td>\n",
       "      <td>OC1</td>\n",
       "      <td>A</td>\n",
       "      <td>23</td>\n",
       "      <td>0.0</td>\n",
       "      <td>497.7</td>\n",
       "      <td>0.000000</td>\n",
       "    </tr>\n",
       "  </tbody>\n",
       "</table>\n",
       "</div>"
      ],
      "text/plain": [
       "    Country ISCO_08 NACE IdYear  occ  occ_sector  Share_Occupation\n",
       "0   Belgium     OC1    A     23  2.7        49.1          0.054990\n",
       "1  Bulgaria     OC1    A     23  5.1       163.5          0.031193\n",
       "2   Czechia     OC1    A     23  5.6       139.1          0.040259\n",
       "3   Denmark     OC1    A     23  0.0        53.7          0.000000\n",
       "4   Germany     OC1    A     23  0.0       497.7          0.000000"
      ]
     },
     "execution_count": 28,
     "metadata": {},
     "output_type": "execute_result"
    }
   ],
   "source": [
    "data_ISCO = data_ISCO.merge(total_sector, on=['Country', 'NACE','IdYear'], how='left')\n",
    "data_ISCO['Share_Occupation'] = data_ISCO['occ']/data_ISCO['occ_sector']\n",
    "data_ISCO.head()"
   ]
  },
  {
   "cell_type": "code",
   "execution_count": 29,
   "id": "b1537447-a443-4162-af65-fd03f9a94a16",
   "metadata": {},
   "outputs": [
    {
     "data": {
      "text/html": [
       "<div>\n",
       "<style scoped>\n",
       "    .dataframe tbody tr th:only-of-type {\n",
       "        vertical-align: middle;\n",
       "    }\n",
       "\n",
       "    .dataframe tbody tr th {\n",
       "        vertical-align: top;\n",
       "    }\n",
       "\n",
       "    .dataframe thead th {\n",
       "        text-align: right;\n",
       "    }\n",
       "</style>\n",
       "<table border=\"1\" class=\"dataframe\">\n",
       "  <thead>\n",
       "    <tr style=\"text-align: right;\">\n",
       "      <th></th>\n",
       "      <th>Country</th>\n",
       "      <th>ISCO_08</th>\n",
       "      <th>NACE</th>\n",
       "      <th>IdYear</th>\n",
       "      <th>occ</th>\n",
       "      <th>occ_sector</th>\n",
       "      <th>Share_Occupation</th>\n",
       "      <th>occ_total</th>\n",
       "      <th>Share_Sector</th>\n",
       "    </tr>\n",
       "  </thead>\n",
       "  <tbody>\n",
       "    <tr>\n",
       "      <th>0</th>\n",
       "      <td>Belgium</td>\n",
       "      <td>OC1</td>\n",
       "      <td>A</td>\n",
       "      <td>23</td>\n",
       "      <td>2.7</td>\n",
       "      <td>49.1</td>\n",
       "      <td>0.054990</td>\n",
       "      <td>4998.5</td>\n",
       "      <td>0.009823</td>\n",
       "    </tr>\n",
       "    <tr>\n",
       "      <th>1</th>\n",
       "      <td>Bulgaria</td>\n",
       "      <td>OC1</td>\n",
       "      <td>A</td>\n",
       "      <td>23</td>\n",
       "      <td>5.1</td>\n",
       "      <td>163.5</td>\n",
       "      <td>0.031193</td>\n",
       "      <td>2869.2</td>\n",
       "      <td>0.056985</td>\n",
       "    </tr>\n",
       "    <tr>\n",
       "      <th>2</th>\n",
       "      <td>Czechia</td>\n",
       "      <td>OC1</td>\n",
       "      <td>A</td>\n",
       "      <td>23</td>\n",
       "      <td>5.6</td>\n",
       "      <td>139.1</td>\n",
       "      <td>0.040259</td>\n",
       "      <td>5058.4</td>\n",
       "      <td>0.027499</td>\n",
       "    </tr>\n",
       "    <tr>\n",
       "      <th>3</th>\n",
       "      <td>Denmark</td>\n",
       "      <td>OC1</td>\n",
       "      <td>A</td>\n",
       "      <td>23</td>\n",
       "      <td>0.0</td>\n",
       "      <td>53.7</td>\n",
       "      <td>0.000000</td>\n",
       "      <td>2900.9</td>\n",
       "      <td>0.018511</td>\n",
       "    </tr>\n",
       "    <tr>\n",
       "      <th>4</th>\n",
       "      <td>Germany</td>\n",
       "      <td>OC1</td>\n",
       "      <td>A</td>\n",
       "      <td>23</td>\n",
       "      <td>0.0</td>\n",
       "      <td>497.7</td>\n",
       "      <td>0.000000</td>\n",
       "      <td>42418.7</td>\n",
       "      <td>0.011733</td>\n",
       "    </tr>\n",
       "  </tbody>\n",
       "</table>\n",
       "</div>"
      ],
      "text/plain": [
       "    Country ISCO_08 NACE IdYear  occ  occ_sector  Share_Occupation  occ_total  \\\n",
       "0   Belgium     OC1    A     23  2.7        49.1          0.054990     4998.5   \n",
       "1  Bulgaria     OC1    A     23  5.1       163.5          0.031193     2869.2   \n",
       "2   Czechia     OC1    A     23  5.6       139.1          0.040259     5058.4   \n",
       "3   Denmark     OC1    A     23  0.0        53.7          0.000000     2900.9   \n",
       "4   Germany     OC1    A     23  0.0       497.7          0.000000    42418.7   \n",
       "\n",
       "   Share_Sector  \n",
       "0      0.009823  \n",
       "1      0.056985  \n",
       "2      0.027499  \n",
       "3      0.018511  \n",
       "4      0.011733  "
      ]
     },
     "execution_count": 29,
     "metadata": {},
     "output_type": "execute_result"
    }
   ],
   "source": [
    "total_occupation = data_ISCO.groupby(['Country','IdYear'])['occ'].sum().reset_index()\n",
    "total_occupation = total_occupation.rename(columns={'occ':'occ_total'})\n",
    "\n",
    "data_ISCO = data_ISCO.merge(total_occupation,on=['Country','IdYear'], how=\"left\")\n",
    "data_ISCO['Share_Sector'] = data_ISCO['occ_sector']/data_ISCO['occ_total']\n",
    "data_ISCO.head()"
   ]
  },
  {
   "cell_type": "code",
   "execution_count": 30,
   "id": "5b602daa-028b-4371-9306-38b5ce867a62",
   "metadata": {},
   "outputs": [],
   "source": [
    "# Limpieza de datos:\n",
    "data_ISCO =data_ISCO[data_ISCO['Country']!='Montenegro']\n",
    "data_ISCO =data_ISCO[data_ISCO['Country']!='United Kingdom']\n",
    "data_ISCO =data_ISCO[data_ISCO['Country']!='North Macedonia']\n",
    "data_ISCO.replace(\"Bosnia and Herzegovina\",\"Bosnia\",inplace=True)\n",
    "data_ISCO.drop(['occ','occ_sector','occ_total'], axis=1, inplace=True)\n",
    "data_ISCO = data_ISCO.dropna()"
   ]
  },
  {
   "cell_type": "code",
   "execution_count": 31,
   "id": "422e0b30-038f-4424-9418-96f0b8328dfa",
   "metadata": {},
   "outputs": [
    {
     "data": {
      "text/plain": [
       "array(['Belgium', 'Bulgaria', 'Czechia', 'Denmark', 'Germany', 'Estonia',\n",
       "       'Ireland', 'Greece', 'Spain', 'France', 'Croatia', 'Italy',\n",
       "       'Cyprus', 'Latvia', 'Lithuania', 'Luxembourg', 'Hungary', 'Malta',\n",
       "       'Netherlands', 'Austria', 'Poland', 'Portugal', 'Romania',\n",
       "       'Slovenia', 'Slovakia', 'Finland', 'Sweden', 'Iceland', 'Norway',\n",
       "       'Switzerland', 'Bosnia', 'Serbia', 'Türkiye'], dtype=object)"
      ]
     },
     "execution_count": 31,
     "metadata": {},
     "output_type": "execute_result"
    }
   ],
   "source": [
    "# Comprovamos datos correctos:\n",
    "data_ISCO['Country'].unique()"
   ]
  },
  {
   "cell_type": "code",
   "execution_count": 32,
   "id": "2028f1ad-afc7-4d64-8ee5-ba2f2b5cc338",
   "metadata": {},
   "outputs": [
    {
     "data": {
      "text/plain": [
       "array(['OC1', 'OC2', 'OC3', 'OC4', 'OC5', 'OC6', 'OC7', 'OC8', 'OC9',\n",
       "       'OC0'], dtype=object)"
      ]
     },
     "execution_count": 32,
     "metadata": {},
     "output_type": "execute_result"
    }
   ],
   "source": [
    "data_ISCO['ISCO_08'].unique()"
   ]
  },
  {
   "cell_type": "code",
   "execution_count": 33,
   "id": "868c5c7f-bd6a-4aae-b94d-f35fe8f54449",
   "metadata": {},
   "outputs": [
    {
     "data": {
      "text/plain": [
       "array(['A', 'B', 'C', 'D', 'E', 'F', 'G', 'H', 'I', 'J', 'K', 'L', 'M',\n",
       "       'N', 'O', 'P', 'Q', 'R', 'S', 'T', 'U'], dtype=object)"
      ]
     },
     "execution_count": 33,
     "metadata": {},
     "output_type": "execute_result"
    }
   ],
   "source": [
    "data_ISCO['NACE'].unique()"
   ]
  },
  {
   "cell_type": "code",
   "execution_count": 34,
   "id": "140d7507-816e-4673-8667-5c256bce0fbd",
   "metadata": {},
   "outputs": [
    {
     "data": {
      "text/html": [
       "<div>\n",
       "<style scoped>\n",
       "    .dataframe tbody tr th:only-of-type {\n",
       "        vertical-align: middle;\n",
       "    }\n",
       "\n",
       "    .dataframe tbody tr th {\n",
       "        vertical-align: top;\n",
       "    }\n",
       "\n",
       "    .dataframe thead th {\n",
       "        text-align: right;\n",
       "    }\n",
       "</style>\n",
       "<table border=\"1\" class=\"dataframe\">\n",
       "  <thead>\n",
       "    <tr style=\"text-align: right;\">\n",
       "      <th></th>\n",
       "      <th>Country</th>\n",
       "      <th>ISCO_08</th>\n",
       "      <th>NACE</th>\n",
       "      <th>IdYear</th>\n",
       "      <th>Share_Occupation</th>\n",
       "      <th>Share_Sector</th>\n",
       "    </tr>\n",
       "  </thead>\n",
       "  <tbody>\n",
       "    <tr>\n",
       "      <th>0</th>\n",
       "      <td>Belgium</td>\n",
       "      <td>OC1</td>\n",
       "      <td>A</td>\n",
       "      <td>23</td>\n",
       "      <td>0.054990</td>\n",
       "      <td>0.009823</td>\n",
       "    </tr>\n",
       "    <tr>\n",
       "      <th>1</th>\n",
       "      <td>Bulgaria</td>\n",
       "      <td>OC1</td>\n",
       "      <td>A</td>\n",
       "      <td>23</td>\n",
       "      <td>0.031193</td>\n",
       "      <td>0.056985</td>\n",
       "    </tr>\n",
       "    <tr>\n",
       "      <th>2</th>\n",
       "      <td>Czechia</td>\n",
       "      <td>OC1</td>\n",
       "      <td>A</td>\n",
       "      <td>23</td>\n",
       "      <td>0.040259</td>\n",
       "      <td>0.027499</td>\n",
       "    </tr>\n",
       "    <tr>\n",
       "      <th>3</th>\n",
       "      <td>Denmark</td>\n",
       "      <td>OC1</td>\n",
       "      <td>A</td>\n",
       "      <td>23</td>\n",
       "      <td>0.000000</td>\n",
       "      <td>0.018511</td>\n",
       "    </tr>\n",
       "    <tr>\n",
       "      <th>4</th>\n",
       "      <td>Germany</td>\n",
       "      <td>OC1</td>\n",
       "      <td>A</td>\n",
       "      <td>23</td>\n",
       "      <td>0.000000</td>\n",
       "      <td>0.011733</td>\n",
       "    </tr>\n",
       "  </tbody>\n",
       "</table>\n",
       "</div>"
      ],
      "text/plain": [
       "    Country ISCO_08 NACE IdYear  Share_Occupation  Share_Sector\n",
       "0   Belgium     OC1    A     23          0.054990      0.009823\n",
       "1  Bulgaria     OC1    A     23          0.031193      0.056985\n",
       "2   Czechia     OC1    A     23          0.040259      0.027499\n",
       "3   Denmark     OC1    A     23          0.000000      0.018511\n",
       "4   Germany     OC1    A     23          0.000000      0.011733"
      ]
     },
     "execution_count": 34,
     "metadata": {},
     "output_type": "execute_result"
    }
   ],
   "source": [
    "data_ISCO.head()"
   ]
  },
  {
   "cell_type": "code",
   "execution_count": 35,
   "id": "b518daa7-b8dd-4ce1-a101-2e37b5f2467d",
   "metadata": {},
   "outputs": [
    {
     "data": {
      "text/plain": [
       "np.float64(2.0)"
      ]
     },
     "execution_count": 35,
     "metadata": {},
     "output_type": "execute_result"
    }
   ],
   "source": [
    "# Agrupamos por Sector:\n",
    "data_NACE = data_ISCO.groupby(['Country','IdYear','NACE'])['Share_Sector'].mean().reset_index()\n",
    "\n",
    "# Corregimos formato:\n",
    "data_NACE['IdYear'] = data_NACE['IdYear'].astype(int)\n",
    "data_ISCO['IdYear'] = data_ISCO['IdYear'].astype(int)\n",
    "\n",
    "# Comprovamos datos correctos:\n",
    "data_NACE[data_NACE['Country']=='Germany']['Share_Sector'].sum() #ejemplo"
   ]
  },
  {
   "cell_type": "code",
   "execution_count": 36,
   "id": "65efae05-10f4-4f6d-b621-607ba5e543ed",
   "metadata": {},
   "outputs": [
    {
     "data": {
      "text/html": [
       "<div>\n",
       "<style scoped>\n",
       "    .dataframe tbody tr th:only-of-type {\n",
       "        vertical-align: middle;\n",
       "    }\n",
       "\n",
       "    .dataframe tbody tr th {\n",
       "        vertical-align: top;\n",
       "    }\n",
       "\n",
       "    .dataframe thead th {\n",
       "        text-align: right;\n",
       "    }\n",
       "</style>\n",
       "<table border=\"1\" class=\"dataframe\">\n",
       "  <thead>\n",
       "    <tr style=\"text-align: right;\">\n",
       "      <th></th>\n",
       "      <th>Country</th>\n",
       "      <th>IdYear</th>\n",
       "      <th>NACE</th>\n",
       "      <th>Share_Sector</th>\n",
       "    </tr>\n",
       "  </thead>\n",
       "  <tbody>\n",
       "    <tr>\n",
       "      <th>0</th>\n",
       "      <td>Austria</td>\n",
       "      <td>23</td>\n",
       "      <td>A</td>\n",
       "      <td>0.030219</td>\n",
       "    </tr>\n",
       "    <tr>\n",
       "      <th>1</th>\n",
       "      <td>Austria</td>\n",
       "      <td>23</td>\n",
       "      <td>C</td>\n",
       "      <td>0.168422</td>\n",
       "    </tr>\n",
       "    <tr>\n",
       "      <th>2</th>\n",
       "      <td>Austria</td>\n",
       "      <td>23</td>\n",
       "      <td>D</td>\n",
       "      <td>0.006026</td>\n",
       "    </tr>\n",
       "    <tr>\n",
       "      <th>3</th>\n",
       "      <td>Austria</td>\n",
       "      <td>23</td>\n",
       "      <td>E</td>\n",
       "      <td>0.004145</td>\n",
       "    </tr>\n",
       "    <tr>\n",
       "      <th>4</th>\n",
       "      <td>Austria</td>\n",
       "      <td>23</td>\n",
       "      <td>F</td>\n",
       "      <td>0.079080</td>\n",
       "    </tr>\n",
       "    <tr>\n",
       "      <th>...</th>\n",
       "      <td>...</td>\n",
       "      <td>...</td>\n",
       "      <td>...</td>\n",
       "      <td>...</td>\n",
       "    </tr>\n",
       "    <tr>\n",
       "      <th>1264</th>\n",
       "      <td>Türkiye</td>\n",
       "      <td>24</td>\n",
       "      <td>Q</td>\n",
       "      <td>0.063372</td>\n",
       "    </tr>\n",
       "    <tr>\n",
       "      <th>1265</th>\n",
       "      <td>Türkiye</td>\n",
       "      <td>24</td>\n",
       "      <td>R</td>\n",
       "      <td>0.005843</td>\n",
       "    </tr>\n",
       "    <tr>\n",
       "      <th>1266</th>\n",
       "      <td>Türkiye</td>\n",
       "      <td>24</td>\n",
       "      <td>S</td>\n",
       "      <td>0.026186</td>\n",
       "    </tr>\n",
       "    <tr>\n",
       "      <th>1267</th>\n",
       "      <td>Türkiye</td>\n",
       "      <td>24</td>\n",
       "      <td>T</td>\n",
       "      <td>0.004339</td>\n",
       "    </tr>\n",
       "    <tr>\n",
       "      <th>1268</th>\n",
       "      <td>Türkiye</td>\n",
       "      <td>24</td>\n",
       "      <td>U</td>\n",
       "      <td>0.000132</td>\n",
       "    </tr>\n",
       "  </tbody>\n",
       "</table>\n",
       "<p>1269 rows × 4 columns</p>\n",
       "</div>"
      ],
      "text/plain": [
       "      Country  IdYear NACE  Share_Sector\n",
       "0     Austria      23    A      0.030219\n",
       "1     Austria      23    C      0.168422\n",
       "2     Austria      23    D      0.006026\n",
       "3     Austria      23    E      0.004145\n",
       "4     Austria      23    F      0.079080\n",
       "...       ...     ...  ...           ...\n",
       "1264  Türkiye      24    Q      0.063372\n",
       "1265  Türkiye      24    R      0.005843\n",
       "1266  Türkiye      24    S      0.026186\n",
       "1267  Türkiye      24    T      0.004339\n",
       "1268  Türkiye      24    U      0.000132\n",
       "\n",
       "[1269 rows x 4 columns]"
      ]
     },
     "execution_count": 36,
     "metadata": {},
     "output_type": "execute_result"
    }
   ],
   "source": [
    "data_NACE #datos agrupados por sectores"
   ]
  },
  {
   "cell_type": "code",
   "execution_count": 37,
   "id": "7fe77fc7-8a53-460a-ba70-565da701c151",
   "metadata": {},
   "outputs": [
    {
     "data": {
      "text/html": [
       "<div>\n",
       "<style scoped>\n",
       "    .dataframe tbody tr th:only-of-type {\n",
       "        vertical-align: middle;\n",
       "    }\n",
       "\n",
       "    .dataframe tbody tr th {\n",
       "        vertical-align: top;\n",
       "    }\n",
       "\n",
       "    .dataframe thead th {\n",
       "        text-align: right;\n",
       "    }\n",
       "</style>\n",
       "<table border=\"1\" class=\"dataframe\">\n",
       "  <thead>\n",
       "    <tr style=\"text-align: right;\">\n",
       "      <th></th>\n",
       "      <th>Country</th>\n",
       "      <th>ISCO_08</th>\n",
       "      <th>NACE</th>\n",
       "      <th>IdYear</th>\n",
       "      <th>Share_Occupation</th>\n",
       "      <th>Share_Sector</th>\n",
       "    </tr>\n",
       "  </thead>\n",
       "  <tbody>\n",
       "    <tr>\n",
       "      <th>0</th>\n",
       "      <td>Belgium</td>\n",
       "      <td>OC1</td>\n",
       "      <td>A</td>\n",
       "      <td>23</td>\n",
       "      <td>0.054990</td>\n",
       "      <td>0.009823</td>\n",
       "    </tr>\n",
       "    <tr>\n",
       "      <th>1</th>\n",
       "      <td>Bulgaria</td>\n",
       "      <td>OC1</td>\n",
       "      <td>A</td>\n",
       "      <td>23</td>\n",
       "      <td>0.031193</td>\n",
       "      <td>0.056985</td>\n",
       "    </tr>\n",
       "    <tr>\n",
       "      <th>2</th>\n",
       "      <td>Czechia</td>\n",
       "      <td>OC1</td>\n",
       "      <td>A</td>\n",
       "      <td>23</td>\n",
       "      <td>0.040259</td>\n",
       "      <td>0.027499</td>\n",
       "    </tr>\n",
       "    <tr>\n",
       "      <th>3</th>\n",
       "      <td>Denmark</td>\n",
       "      <td>OC1</td>\n",
       "      <td>A</td>\n",
       "      <td>23</td>\n",
       "      <td>0.000000</td>\n",
       "      <td>0.018511</td>\n",
       "    </tr>\n",
       "    <tr>\n",
       "      <th>4</th>\n",
       "      <td>Germany</td>\n",
       "      <td>OC1</td>\n",
       "      <td>A</td>\n",
       "      <td>23</td>\n",
       "      <td>0.000000</td>\n",
       "      <td>0.011733</td>\n",
       "    </tr>\n",
       "    <tr>\n",
       "      <th>...</th>\n",
       "      <td>...</td>\n",
       "      <td>...</td>\n",
       "      <td>...</td>\n",
       "      <td>...</td>\n",
       "      <td>...</td>\n",
       "      <td>...</td>\n",
       "    </tr>\n",
       "    <tr>\n",
       "      <th>15096</th>\n",
       "      <td>Cyprus</td>\n",
       "      <td>OC0</td>\n",
       "      <td>U</td>\n",
       "      <td>24</td>\n",
       "      <td>0.000000</td>\n",
       "      <td>0.001473</td>\n",
       "    </tr>\n",
       "    <tr>\n",
       "      <th>15099</th>\n",
       "      <td>Luxembourg</td>\n",
       "      <td>OC0</td>\n",
       "      <td>U</td>\n",
       "      <td>24</td>\n",
       "      <td>0.000000</td>\n",
       "      <td>0.095390</td>\n",
       "    </tr>\n",
       "    <tr>\n",
       "      <th>15113</th>\n",
       "      <td>Switzerland</td>\n",
       "      <td>OC0</td>\n",
       "      <td>U</td>\n",
       "      <td>24</td>\n",
       "      <td>0.000000</td>\n",
       "      <td>0.000845</td>\n",
       "    </tr>\n",
       "    <tr>\n",
       "      <th>15115</th>\n",
       "      <td>Bosnia</td>\n",
       "      <td>OC0</td>\n",
       "      <td>U</td>\n",
       "      <td>24</td>\n",
       "      <td>0.000000</td>\n",
       "      <td>0.001985</td>\n",
       "    </tr>\n",
       "    <tr>\n",
       "      <th>15119</th>\n",
       "      <td>Türkiye</td>\n",
       "      <td>OC0</td>\n",
       "      <td>U</td>\n",
       "      <td>24</td>\n",
       "      <td>0.000000</td>\n",
       "      <td>0.000132</td>\n",
       "    </tr>\n",
       "  </tbody>\n",
       "</table>\n",
       "<p>12690 rows × 6 columns</p>\n",
       "</div>"
      ],
      "text/plain": [
       "           Country ISCO_08 NACE  IdYear  Share_Occupation  Share_Sector\n",
       "0          Belgium     OC1    A      23          0.054990      0.009823\n",
       "1         Bulgaria     OC1    A      23          0.031193      0.056985\n",
       "2          Czechia     OC1    A      23          0.040259      0.027499\n",
       "3          Denmark     OC1    A      23          0.000000      0.018511\n",
       "4          Germany     OC1    A      23          0.000000      0.011733\n",
       "...            ...     ...  ...     ...               ...           ...\n",
       "15096       Cyprus     OC0    U      24          0.000000      0.001473\n",
       "15099   Luxembourg     OC0    U      24          0.000000      0.095390\n",
       "15113  Switzerland     OC0    U      24          0.000000      0.000845\n",
       "15115       Bosnia     OC0    U      24          0.000000      0.001985\n",
       "15119      Türkiye     OC0    U      24          0.000000      0.000132\n",
       "\n",
       "[12690 rows x 6 columns]"
      ]
     },
     "execution_count": 37,
     "metadata": {},
     "output_type": "execute_result"
    }
   ],
   "source": [
    "data_ISCO #1269*10 ocupaciones = 12690 obs"
   ]
  },
  {
   "cell_type": "markdown",
   "id": "a27224d4-e2fa-4449-ad2c-67eead5eee19",
   "metadata": {},
   "source": [
    "## DATA: Macro data + Merging"
   ]
  },
  {
   "cell_type": "code",
   "execution_count": 38,
   "id": "c391a5ff-9b2e-4e53-a47e-5a96781ca8c8",
   "metadata": {},
   "outputs": [
    {
     "data": {
      "text/html": [
       "<div>\n",
       "<style scoped>\n",
       "    .dataframe tbody tr th:only-of-type {\n",
       "        vertical-align: middle;\n",
       "    }\n",
       "\n",
       "    .dataframe tbody tr th {\n",
       "        vertical-align: top;\n",
       "    }\n",
       "\n",
       "    .dataframe thead th {\n",
       "        text-align: right;\n",
       "    }\n",
       "</style>\n",
       "<table border=\"1\" class=\"dataframe\">\n",
       "  <thead>\n",
       "    <tr style=\"text-align: right;\">\n",
       "      <th></th>\n",
       "      <th>Country</th>\n",
       "      <th>IdYear</th>\n",
       "      <th>GDPCap</th>\n",
       "      <th>Educ_Rate</th>\n",
       "      <th>RD_exp</th>\n",
       "      <th>Unempl_rate</th>\n",
       "    </tr>\n",
       "  </thead>\n",
       "  <tbody>\n",
       "    <tr>\n",
       "      <th>0</th>\n",
       "      <td>Belgium</td>\n",
       "      <td>23</td>\n",
       "      <td>44120.0</td>\n",
       "      <td>0.503583</td>\n",
       "      <td>0.0246</td>\n",
       "      <td>0.055</td>\n",
       "    </tr>\n",
       "    <tr>\n",
       "      <th>1</th>\n",
       "      <td>Bulgaria</td>\n",
       "      <td>23</td>\n",
       "      <td>10970.0</td>\n",
       "      <td>0.340256</td>\n",
       "      <td>0.0051</td>\n",
       "      <td>0.043</td>\n",
       "    </tr>\n",
       "    <tr>\n",
       "      <th>2</th>\n",
       "      <td>Czechia</td>\n",
       "      <td>23</td>\n",
       "      <td>21660.0</td>\n",
       "      <td>0.270515</td>\n",
       "      <td>0.0119</td>\n",
       "      <td>0.026</td>\n",
       "    </tr>\n",
       "    <tr>\n",
       "      <th>3</th>\n",
       "      <td>Denmark</td>\n",
       "      <td>23</td>\n",
       "      <td>58640.0</td>\n",
       "      <td>0.408531</td>\n",
       "      <td>0.0183</td>\n",
       "      <td>0.051</td>\n",
       "    </tr>\n",
       "    <tr>\n",
       "      <th>4</th>\n",
       "      <td>Germany</td>\n",
       "      <td>23</td>\n",
       "      <td>42780.0</td>\n",
       "      <td>0.331712</td>\n",
       "      <td>0.0212</td>\n",
       "      <td>0.031</td>\n",
       "    </tr>\n",
       "  </tbody>\n",
       "</table>\n",
       "</div>"
      ],
      "text/plain": [
       "    Country  IdYear   GDPCap  Educ_Rate  RD_exp  Unempl_rate\n",
       "0   Belgium      23  44120.0   0.503583  0.0246        0.055\n",
       "1  Bulgaria      23  10970.0   0.340256  0.0051        0.043\n",
       "2   Czechia      23  21660.0   0.270515  0.0119        0.026\n",
       "3   Denmark      23  58640.0   0.408531  0.0183        0.051\n",
       "4   Germany      23  42780.0   0.331712  0.0212        0.031"
      ]
     },
     "execution_count": 38,
     "metadata": {},
     "output_type": "execute_result"
    }
   ],
   "source": [
    "file_path = \"../data/macro data.xlsx\"\n",
    "df_agreggdata = pd.read_excel(file_path, sheet_name=0)\n",
    "df_agreggdata.head()"
   ]
  },
  {
   "cell_type": "markdown",
   "id": "d857d7b4-9674-48e9-97ef-a8131310e09c",
   "metadata": {},
   "source": [
    "#                          -- MODELO 1 - SECTORIAL --"
   ]
  },
  {
   "cell_type": "code",
   "execution_count": 39,
   "id": "8dda495a-13d9-4e82-adcf-0e8ba9b80ef6",
   "metadata": {},
   "outputs": [
    {
     "data": {
      "text/html": [
       "<div>\n",
       "<style scoped>\n",
       "    .dataframe tbody tr th:only-of-type {\n",
       "        vertical-align: middle;\n",
       "    }\n",
       "\n",
       "    .dataframe tbody tr th {\n",
       "        vertical-align: top;\n",
       "    }\n",
       "\n",
       "    .dataframe thead th {\n",
       "        text-align: right;\n",
       "    }\n",
       "</style>\n",
       "<table border=\"1\" class=\"dataframe\">\n",
       "  <thead>\n",
       "    <tr style=\"text-align: right;\">\n",
       "      <th></th>\n",
       "      <th>Country</th>\n",
       "      <th>IdYear</th>\n",
       "      <th>NACE</th>\n",
       "      <th>Value</th>\n",
       "    </tr>\n",
       "  </thead>\n",
       "  <tbody>\n",
       "    <tr>\n",
       "      <th>0</th>\n",
       "      <td>Austria</td>\n",
       "      <td>23</td>\n",
       "      <td>C</td>\n",
       "      <td>0.055203</td>\n",
       "    </tr>\n",
       "    <tr>\n",
       "      <th>1</th>\n",
       "      <td>Austria</td>\n",
       "      <td>23</td>\n",
       "      <td>D</td>\n",
       "      <td>0.126754</td>\n",
       "    </tr>\n",
       "    <tr>\n",
       "      <th>2</th>\n",
       "      <td>Austria</td>\n",
       "      <td>23</td>\n",
       "      <td>E</td>\n",
       "      <td>0.014525</td>\n",
       "    </tr>\n",
       "    <tr>\n",
       "      <th>3</th>\n",
       "      <td>Austria</td>\n",
       "      <td>23</td>\n",
       "      <td>F</td>\n",
       "      <td>0.010688</td>\n",
       "    </tr>\n",
       "    <tr>\n",
       "      <th>4</th>\n",
       "      <td>Austria</td>\n",
       "      <td>23</td>\n",
       "      <td>G</td>\n",
       "      <td>0.030139</td>\n",
       "    </tr>\n",
       "    <tr>\n",
       "      <th>...</th>\n",
       "      <td>...</td>\n",
       "      <td>...</td>\n",
       "      <td>...</td>\n",
       "      <td>...</td>\n",
       "    </tr>\n",
       "    <tr>\n",
       "      <th>682</th>\n",
       "      <td>Sweden</td>\n",
       "      <td>24</td>\n",
       "      <td>J</td>\n",
       "      <td>0.139043</td>\n",
       "    </tr>\n",
       "    <tr>\n",
       "      <th>683</th>\n",
       "      <td>Sweden</td>\n",
       "      <td>24</td>\n",
       "      <td>L</td>\n",
       "      <td>0.038415</td>\n",
       "    </tr>\n",
       "    <tr>\n",
       "      <th>684</th>\n",
       "      <td>Sweden</td>\n",
       "      <td>24</td>\n",
       "      <td>M</td>\n",
       "      <td>0.117257</td>\n",
       "    </tr>\n",
       "    <tr>\n",
       "      <th>685</th>\n",
       "      <td>Sweden</td>\n",
       "      <td>24</td>\n",
       "      <td>N</td>\n",
       "      <td>0.049761</td>\n",
       "    </tr>\n",
       "    <tr>\n",
       "      <th>686</th>\n",
       "      <td>Sweden</td>\n",
       "      <td>24</td>\n",
       "      <td>S</td>\n",
       "      <td>0.000000</td>\n",
       "    </tr>\n",
       "  </tbody>\n",
       "</table>\n",
       "<p>687 rows × 4 columns</p>\n",
       "</div>"
      ],
      "text/plain": [
       "     Country  IdYear NACE     Value\n",
       "0    Austria      23    C  0.055203\n",
       "1    Austria      23    D  0.126754\n",
       "2    Austria      23    E  0.014525\n",
       "3    Austria      23    F  0.010688\n",
       "4    Austria      23    G  0.030139\n",
       "..       ...     ...  ...       ...\n",
       "682   Sweden      24    J  0.139043\n",
       "683   Sweden      24    L  0.038415\n",
       "684   Sweden      24    M  0.117257\n",
       "685   Sweden      24    N  0.049761\n",
       "686   Sweden      24    S  0.000000\n",
       "\n",
       "[687 rows x 4 columns]"
      ]
     },
     "execution_count": 39,
     "metadata": {},
     "output_type": "execute_result"
    }
   ],
   "source": [
    "data_sector"
   ]
  },
  {
   "cell_type": "code",
   "execution_count": 40,
   "id": "5738ac32-20cf-46c3-ad17-21160cc71fc3",
   "metadata": {},
   "outputs": [],
   "source": [
    "# Combinamos con datos macroeconomicos:\n",
    "data_sector = data_sector.merge(df_agreggdata, on=[\"Country\", \"IdYear\"], how=\"left\")\n",
    "data_sector.drop('RD_exp',axis=1,inplace=True)\n",
    "data_sector = data_sector.dropna()\n",
    "\n",
    "# Creamos copia:\n",
    "data_occupation = data_sector.copy()"
   ]
  },
  {
   "cell_type": "code",
   "execution_count": 41,
   "id": "20c0c02c-556d-408d-a6a0-3d36f08b3c2b",
   "metadata": {},
   "outputs": [
    {
     "data": {
      "text/html": [
       "<div>\n",
       "<style scoped>\n",
       "    .dataframe tbody tr th:only-of-type {\n",
       "        vertical-align: middle;\n",
       "    }\n",
       "\n",
       "    .dataframe tbody tr th {\n",
       "        vertical-align: top;\n",
       "    }\n",
       "\n",
       "    .dataframe thead th {\n",
       "        text-align: right;\n",
       "    }\n",
       "</style>\n",
       "<table border=\"1\" class=\"dataframe\">\n",
       "  <thead>\n",
       "    <tr style=\"text-align: right;\">\n",
       "      <th></th>\n",
       "      <th>Country</th>\n",
       "      <th>IdYear</th>\n",
       "      <th>NACE</th>\n",
       "      <th>Value</th>\n",
       "      <th>GDPCap</th>\n",
       "      <th>Educ_Rate</th>\n",
       "      <th>Unempl_rate</th>\n",
       "      <th>Share_Sector</th>\n",
       "    </tr>\n",
       "  </thead>\n",
       "  <tbody>\n",
       "    <tr>\n",
       "      <th>0</th>\n",
       "      <td>Austria</td>\n",
       "      <td>23</td>\n",
       "      <td>C</td>\n",
       "      <td>0.055203</td>\n",
       "      <td>45510.0</td>\n",
       "      <td>0.387912</td>\n",
       "      <td>0.051</td>\n",
       "      <td>0.168422</td>\n",
       "    </tr>\n",
       "    <tr>\n",
       "      <th>1</th>\n",
       "      <td>Austria</td>\n",
       "      <td>23</td>\n",
       "      <td>D</td>\n",
       "      <td>0.126754</td>\n",
       "      <td>45510.0</td>\n",
       "      <td>0.387912</td>\n",
       "      <td>0.051</td>\n",
       "      <td>0.006026</td>\n",
       "    </tr>\n",
       "    <tr>\n",
       "      <th>2</th>\n",
       "      <td>Austria</td>\n",
       "      <td>23</td>\n",
       "      <td>E</td>\n",
       "      <td>0.014525</td>\n",
       "      <td>45510.0</td>\n",
       "      <td>0.387912</td>\n",
       "      <td>0.051</td>\n",
       "      <td>0.004145</td>\n",
       "    </tr>\n",
       "    <tr>\n",
       "      <th>3</th>\n",
       "      <td>Austria</td>\n",
       "      <td>23</td>\n",
       "      <td>F</td>\n",
       "      <td>0.010688</td>\n",
       "      <td>45510.0</td>\n",
       "      <td>0.387912</td>\n",
       "      <td>0.051</td>\n",
       "      <td>0.079080</td>\n",
       "    </tr>\n",
       "    <tr>\n",
       "      <th>4</th>\n",
       "      <td>Austria</td>\n",
       "      <td>23</td>\n",
       "      <td>G</td>\n",
       "      <td>0.030139</td>\n",
       "      <td>45510.0</td>\n",
       "      <td>0.387912</td>\n",
       "      <td>0.051</td>\n",
       "      <td>0.142621</td>\n",
       "    </tr>\n",
       "    <tr>\n",
       "      <th>...</th>\n",
       "      <td>...</td>\n",
       "      <td>...</td>\n",
       "      <td>...</td>\n",
       "      <td>...</td>\n",
       "      <td>...</td>\n",
       "      <td>...</td>\n",
       "      <td>...</td>\n",
       "      <td>...</td>\n",
       "    </tr>\n",
       "    <tr>\n",
       "      <th>648</th>\n",
       "      <td>Sweden</td>\n",
       "      <td>24</td>\n",
       "      <td>J</td>\n",
       "      <td>0.139043</td>\n",
       "      <td>48810.0</td>\n",
       "      <td>0.489769</td>\n",
       "      <td>0.084</td>\n",
       "      <td>0.057350</td>\n",
       "    </tr>\n",
       "    <tr>\n",
       "      <th>649</th>\n",
       "      <td>Sweden</td>\n",
       "      <td>24</td>\n",
       "      <td>L</td>\n",
       "      <td>0.038415</td>\n",
       "      <td>48810.0</td>\n",
       "      <td>0.489769</td>\n",
       "      <td>0.084</td>\n",
       "      <td>0.016682</td>\n",
       "    </tr>\n",
       "    <tr>\n",
       "      <th>650</th>\n",
       "      <td>Sweden</td>\n",
       "      <td>24</td>\n",
       "      <td>M</td>\n",
       "      <td>0.117257</td>\n",
       "      <td>48810.0</td>\n",
       "      <td>0.489769</td>\n",
       "      <td>0.084</td>\n",
       "      <td>0.108474</td>\n",
       "    </tr>\n",
       "    <tr>\n",
       "      <th>651</th>\n",
       "      <td>Sweden</td>\n",
       "      <td>24</td>\n",
       "      <td>N</td>\n",
       "      <td>0.049761</td>\n",
       "      <td>48810.0</td>\n",
       "      <td>0.489769</td>\n",
       "      <td>0.084</td>\n",
       "      <td>0.046280</td>\n",
       "    </tr>\n",
       "    <tr>\n",
       "      <th>652</th>\n",
       "      <td>Sweden</td>\n",
       "      <td>24</td>\n",
       "      <td>S</td>\n",
       "      <td>0.000000</td>\n",
       "      <td>48810.0</td>\n",
       "      <td>0.489769</td>\n",
       "      <td>0.084</td>\n",
       "      <td>0.024485</td>\n",
       "    </tr>\n",
       "  </tbody>\n",
       "</table>\n",
       "<p>644 rows × 8 columns</p>\n",
       "</div>"
      ],
      "text/plain": [
       "     Country  IdYear NACE     Value   GDPCap  Educ_Rate  Unempl_rate  \\\n",
       "0    Austria      23    C  0.055203  45510.0   0.387912        0.051   \n",
       "1    Austria      23    D  0.126754  45510.0   0.387912        0.051   \n",
       "2    Austria      23    E  0.014525  45510.0   0.387912        0.051   \n",
       "3    Austria      23    F  0.010688  45510.0   0.387912        0.051   \n",
       "4    Austria      23    G  0.030139  45510.0   0.387912        0.051   \n",
       "..       ...     ...  ...       ...      ...        ...          ...   \n",
       "648   Sweden      24    J  0.139043  48810.0   0.489769        0.084   \n",
       "649   Sweden      24    L  0.038415  48810.0   0.489769        0.084   \n",
       "650   Sweden      24    M  0.117257  48810.0   0.489769        0.084   \n",
       "651   Sweden      24    N  0.049761  48810.0   0.489769        0.084   \n",
       "652   Sweden      24    S  0.000000  48810.0   0.489769        0.084   \n",
       "\n",
       "     Share_Sector  \n",
       "0        0.168422  \n",
       "1        0.006026  \n",
       "2        0.004145  \n",
       "3        0.079080  \n",
       "4        0.142621  \n",
       "..            ...  \n",
       "648      0.057350  \n",
       "649      0.016682  \n",
       "650      0.108474  \n",
       "651      0.046280  \n",
       "652      0.024485  \n",
       "\n",
       "[644 rows x 8 columns]"
      ]
     },
     "execution_count": 41,
     "metadata": {},
     "output_type": "execute_result"
    }
   ],
   "source": [
    "# Combinamos con datos de empleo:\n",
    "data_sector = data_sector.merge(data_NACE, on=[\"Country\", \"IdYear\",\"NACE\"], how=\"left\")\n",
    "data_sector = data_sector.dropna()\n",
    "data_sector #644"
   ]
  },
  {
   "cell_type": "markdown",
   "id": "c3fb666f-6015-48b6-9515-173a81db93ff",
   "metadata": {},
   "source": [
    "##                          -- MODELO 2 - OCUPACIONAL --"
   ]
  },
  {
   "cell_type": "code",
   "execution_count": 42,
   "id": "c556cc26-10aa-4948-b05e-64cf5ff345c8",
   "metadata": {},
   "outputs": [
    {
     "data": {
      "text/html": [
       "<div>\n",
       "<style scoped>\n",
       "    .dataframe tbody tr th:only-of-type {\n",
       "        vertical-align: middle;\n",
       "    }\n",
       "\n",
       "    .dataframe tbody tr th {\n",
       "        vertical-align: top;\n",
       "    }\n",
       "\n",
       "    .dataframe thead th {\n",
       "        text-align: right;\n",
       "    }\n",
       "</style>\n",
       "<table border=\"1\" class=\"dataframe\">\n",
       "  <thead>\n",
       "    <tr style=\"text-align: right;\">\n",
       "      <th></th>\n",
       "      <th>Country</th>\n",
       "      <th>IdYear</th>\n",
       "      <th>NACE</th>\n",
       "      <th>Value</th>\n",
       "      <th>GDPCap</th>\n",
       "      <th>Educ_Rate</th>\n",
       "      <th>Unempl_rate</th>\n",
       "    </tr>\n",
       "  </thead>\n",
       "  <tbody>\n",
       "    <tr>\n",
       "      <th>0</th>\n",
       "      <td>Austria</td>\n",
       "      <td>23</td>\n",
       "      <td>C</td>\n",
       "      <td>0.055203</td>\n",
       "      <td>45510.0</td>\n",
       "      <td>0.387912</td>\n",
       "      <td>0.051</td>\n",
       "    </tr>\n",
       "    <tr>\n",
       "      <th>1</th>\n",
       "      <td>Austria</td>\n",
       "      <td>23</td>\n",
       "      <td>D</td>\n",
       "      <td>0.126754</td>\n",
       "      <td>45510.0</td>\n",
       "      <td>0.387912</td>\n",
       "      <td>0.051</td>\n",
       "    </tr>\n",
       "    <tr>\n",
       "      <th>2</th>\n",
       "      <td>Austria</td>\n",
       "      <td>23</td>\n",
       "      <td>E</td>\n",
       "      <td>0.014525</td>\n",
       "      <td>45510.0</td>\n",
       "      <td>0.387912</td>\n",
       "      <td>0.051</td>\n",
       "    </tr>\n",
       "    <tr>\n",
       "      <th>3</th>\n",
       "      <td>Austria</td>\n",
       "      <td>23</td>\n",
       "      <td>F</td>\n",
       "      <td>0.010688</td>\n",
       "      <td>45510.0</td>\n",
       "      <td>0.387912</td>\n",
       "      <td>0.051</td>\n",
       "    </tr>\n",
       "    <tr>\n",
       "      <th>4</th>\n",
       "      <td>Austria</td>\n",
       "      <td>23</td>\n",
       "      <td>G</td>\n",
       "      <td>0.030139</td>\n",
       "      <td>45510.0</td>\n",
       "      <td>0.387912</td>\n",
       "      <td>0.051</td>\n",
       "    </tr>\n",
       "    <tr>\n",
       "      <th>...</th>\n",
       "      <td>...</td>\n",
       "      <td>...</td>\n",
       "      <td>...</td>\n",
       "      <td>...</td>\n",
       "      <td>...</td>\n",
       "      <td>...</td>\n",
       "      <td>...</td>\n",
       "    </tr>\n",
       "    <tr>\n",
       "      <th>682</th>\n",
       "      <td>Sweden</td>\n",
       "      <td>24</td>\n",
       "      <td>J</td>\n",
       "      <td>0.139043</td>\n",
       "      <td>48810.0</td>\n",
       "      <td>0.489769</td>\n",
       "      <td>0.084</td>\n",
       "    </tr>\n",
       "    <tr>\n",
       "      <th>683</th>\n",
       "      <td>Sweden</td>\n",
       "      <td>24</td>\n",
       "      <td>L</td>\n",
       "      <td>0.038415</td>\n",
       "      <td>48810.0</td>\n",
       "      <td>0.489769</td>\n",
       "      <td>0.084</td>\n",
       "    </tr>\n",
       "    <tr>\n",
       "      <th>684</th>\n",
       "      <td>Sweden</td>\n",
       "      <td>24</td>\n",
       "      <td>M</td>\n",
       "      <td>0.117257</td>\n",
       "      <td>48810.0</td>\n",
       "      <td>0.489769</td>\n",
       "      <td>0.084</td>\n",
       "    </tr>\n",
       "    <tr>\n",
       "      <th>685</th>\n",
       "      <td>Sweden</td>\n",
       "      <td>24</td>\n",
       "      <td>N</td>\n",
       "      <td>0.049761</td>\n",
       "      <td>48810.0</td>\n",
       "      <td>0.489769</td>\n",
       "      <td>0.084</td>\n",
       "    </tr>\n",
       "    <tr>\n",
       "      <th>686</th>\n",
       "      <td>Sweden</td>\n",
       "      <td>24</td>\n",
       "      <td>S</td>\n",
       "      <td>0.000000</td>\n",
       "      <td>48810.0</td>\n",
       "      <td>0.489769</td>\n",
       "      <td>0.084</td>\n",
       "    </tr>\n",
       "  </tbody>\n",
       "</table>\n",
       "<p>653 rows × 7 columns</p>\n",
       "</div>"
      ],
      "text/plain": [
       "     Country  IdYear NACE     Value   GDPCap  Educ_Rate  Unempl_rate\n",
       "0    Austria      23    C  0.055203  45510.0   0.387912        0.051\n",
       "1    Austria      23    D  0.126754  45510.0   0.387912        0.051\n",
       "2    Austria      23    E  0.014525  45510.0   0.387912        0.051\n",
       "3    Austria      23    F  0.010688  45510.0   0.387912        0.051\n",
       "4    Austria      23    G  0.030139  45510.0   0.387912        0.051\n",
       "..       ...     ...  ...       ...      ...        ...          ...\n",
       "682   Sweden      24    J  0.139043  48810.0   0.489769        0.084\n",
       "683   Sweden      24    L  0.038415  48810.0   0.489769        0.084\n",
       "684   Sweden      24    M  0.117257  48810.0   0.489769        0.084\n",
       "685   Sweden      24    N  0.049761  48810.0   0.489769        0.084\n",
       "686   Sweden      24    S  0.000000  48810.0   0.489769        0.084\n",
       "\n",
       "[653 rows x 7 columns]"
      ]
     },
     "execution_count": 42,
     "metadata": {},
     "output_type": "execute_result"
    }
   ],
   "source": [
    "data_occupation"
   ]
  },
  {
   "cell_type": "code",
   "execution_count": 43,
   "id": "4077bc43-edb1-46f8-ad4c-23ba0359bf3c",
   "metadata": {},
   "outputs": [
    {
     "data": {
      "text/html": [
       "<div>\n",
       "<style scoped>\n",
       "    .dataframe tbody tr th:only-of-type {\n",
       "        vertical-align: middle;\n",
       "    }\n",
       "\n",
       "    .dataframe tbody tr th {\n",
       "        vertical-align: top;\n",
       "    }\n",
       "\n",
       "    .dataframe thead th {\n",
       "        text-align: right;\n",
       "    }\n",
       "</style>\n",
       "<table border=\"1\" class=\"dataframe\">\n",
       "  <thead>\n",
       "    <tr style=\"text-align: right;\">\n",
       "      <th></th>\n",
       "      <th>Country</th>\n",
       "      <th>IdYear</th>\n",
       "      <th>NACE</th>\n",
       "      <th>Value</th>\n",
       "      <th>GDPCap</th>\n",
       "      <th>Educ_Rate</th>\n",
       "      <th>Unempl_rate</th>\n",
       "      <th>ISCO_08</th>\n",
       "      <th>Share_Occupation</th>\n",
       "      <th>Share_Sector</th>\n",
       "    </tr>\n",
       "  </thead>\n",
       "  <tbody>\n",
       "    <tr>\n",
       "      <th>0</th>\n",
       "      <td>Austria</td>\n",
       "      <td>23</td>\n",
       "      <td>C</td>\n",
       "      <td>0.055203</td>\n",
       "      <td>45510.0</td>\n",
       "      <td>0.387912</td>\n",
       "      <td>0.051</td>\n",
       "      <td>OC1</td>\n",
       "      <td>0.069536</td>\n",
       "      <td>0.168422</td>\n",
       "    </tr>\n",
       "    <tr>\n",
       "      <th>1</th>\n",
       "      <td>Austria</td>\n",
       "      <td>23</td>\n",
       "      <td>C</td>\n",
       "      <td>0.055203</td>\n",
       "      <td>45510.0</td>\n",
       "      <td>0.387912</td>\n",
       "      <td>0.051</td>\n",
       "      <td>OC2</td>\n",
       "      <td>0.113248</td>\n",
       "      <td>0.168422</td>\n",
       "    </tr>\n",
       "    <tr>\n",
       "      <th>2</th>\n",
       "      <td>Austria</td>\n",
       "      <td>23</td>\n",
       "      <td>C</td>\n",
       "      <td>0.055203</td>\n",
       "      <td>45510.0</td>\n",
       "      <td>0.387912</td>\n",
       "      <td>0.051</td>\n",
       "      <td>OC3</td>\n",
       "      <td>0.196638</td>\n",
       "      <td>0.168422</td>\n",
       "    </tr>\n",
       "    <tr>\n",
       "      <th>3</th>\n",
       "      <td>Austria</td>\n",
       "      <td>23</td>\n",
       "      <td>C</td>\n",
       "      <td>0.055203</td>\n",
       "      <td>45510.0</td>\n",
       "      <td>0.387912</td>\n",
       "      <td>0.051</td>\n",
       "      <td>OC4</td>\n",
       "      <td>0.084062</td>\n",
       "      <td>0.168422</td>\n",
       "    </tr>\n",
       "    <tr>\n",
       "      <th>4</th>\n",
       "      <td>Austria</td>\n",
       "      <td>23</td>\n",
       "      <td>C</td>\n",
       "      <td>0.055203</td>\n",
       "      <td>45510.0</td>\n",
       "      <td>0.387912</td>\n",
       "      <td>0.051</td>\n",
       "      <td>OC5</td>\n",
       "      <td>0.053127</td>\n",
       "      <td>0.168422</td>\n",
       "    </tr>\n",
       "    <tr>\n",
       "      <th>...</th>\n",
       "      <td>...</td>\n",
       "      <td>...</td>\n",
       "      <td>...</td>\n",
       "      <td>...</td>\n",
       "      <td>...</td>\n",
       "      <td>...</td>\n",
       "      <td>...</td>\n",
       "      <td>...</td>\n",
       "      <td>...</td>\n",
       "      <td>...</td>\n",
       "    </tr>\n",
       "    <tr>\n",
       "      <th>6444</th>\n",
       "      <td>Sweden</td>\n",
       "      <td>24</td>\n",
       "      <td>S</td>\n",
       "      <td>0.000000</td>\n",
       "      <td>48810.0</td>\n",
       "      <td>0.489769</td>\n",
       "      <td>0.084</td>\n",
       "      <td>OC6</td>\n",
       "      <td>0.044741</td>\n",
       "      <td>0.024485</td>\n",
       "    </tr>\n",
       "    <tr>\n",
       "      <th>6445</th>\n",
       "      <td>Sweden</td>\n",
       "      <td>24</td>\n",
       "      <td>S</td>\n",
       "      <td>0.000000</td>\n",
       "      <td>48810.0</td>\n",
       "      <td>0.489769</td>\n",
       "      <td>0.084</td>\n",
       "      <td>OC7</td>\n",
       "      <td>0.043171</td>\n",
       "      <td>0.024485</td>\n",
       "    </tr>\n",
       "    <tr>\n",
       "      <th>6446</th>\n",
       "      <td>Sweden</td>\n",
       "      <td>24</td>\n",
       "      <td>S</td>\n",
       "      <td>0.000000</td>\n",
       "      <td>48810.0</td>\n",
       "      <td>0.489769</td>\n",
       "      <td>0.084</td>\n",
       "      <td>OC8</td>\n",
       "      <td>0.025903</td>\n",
       "      <td>0.024485</td>\n",
       "    </tr>\n",
       "    <tr>\n",
       "      <th>6447</th>\n",
       "      <td>Sweden</td>\n",
       "      <td>24</td>\n",
       "      <td>S</td>\n",
       "      <td>0.000000</td>\n",
       "      <td>48810.0</td>\n",
       "      <td>0.489769</td>\n",
       "      <td>0.084</td>\n",
       "      <td>OC9</td>\n",
       "      <td>0.054945</td>\n",
       "      <td>0.024485</td>\n",
       "    </tr>\n",
       "    <tr>\n",
       "      <th>6448</th>\n",
       "      <td>Sweden</td>\n",
       "      <td>24</td>\n",
       "      <td>S</td>\n",
       "      <td>0.000000</td>\n",
       "      <td>48810.0</td>\n",
       "      <td>0.489769</td>\n",
       "      <td>0.084</td>\n",
       "      <td>OC0</td>\n",
       "      <td>0.000000</td>\n",
       "      <td>0.024485</td>\n",
       "    </tr>\n",
       "  </tbody>\n",
       "</table>\n",
       "<p>6440 rows × 10 columns</p>\n",
       "</div>"
      ],
      "text/plain": [
       "      Country  IdYear NACE     Value   GDPCap  Educ_Rate  Unempl_rate ISCO_08  \\\n",
       "0     Austria      23    C  0.055203  45510.0   0.387912        0.051     OC1   \n",
       "1     Austria      23    C  0.055203  45510.0   0.387912        0.051     OC2   \n",
       "2     Austria      23    C  0.055203  45510.0   0.387912        0.051     OC3   \n",
       "3     Austria      23    C  0.055203  45510.0   0.387912        0.051     OC4   \n",
       "4     Austria      23    C  0.055203  45510.0   0.387912        0.051     OC5   \n",
       "...       ...     ...  ...       ...      ...        ...          ...     ...   \n",
       "6444   Sweden      24    S  0.000000  48810.0   0.489769        0.084     OC6   \n",
       "6445   Sweden      24    S  0.000000  48810.0   0.489769        0.084     OC7   \n",
       "6446   Sweden      24    S  0.000000  48810.0   0.489769        0.084     OC8   \n",
       "6447   Sweden      24    S  0.000000  48810.0   0.489769        0.084     OC9   \n",
       "6448   Sweden      24    S  0.000000  48810.0   0.489769        0.084     OC0   \n",
       "\n",
       "      Share_Occupation  Share_Sector  \n",
       "0             0.069536      0.168422  \n",
       "1             0.113248      0.168422  \n",
       "2             0.196638      0.168422  \n",
       "3             0.084062      0.168422  \n",
       "4             0.053127      0.168422  \n",
       "...                ...           ...  \n",
       "6444          0.044741      0.024485  \n",
       "6445          0.043171      0.024485  \n",
       "6446          0.025903      0.024485  \n",
       "6447          0.054945      0.024485  \n",
       "6448          0.000000      0.024485  \n",
       "\n",
       "[6440 rows x 10 columns]"
      ]
     },
     "execution_count": 43,
     "metadata": {},
     "output_type": "execute_result"
    }
   ],
   "source": [
    "# Combinamos con datos de empleo\n",
    "data_occupation = data_occupation.merge(data_ISCO, on=[\"Country\", \"IdYear\",'NACE'], how=\"left\")\n",
    "data_occupation = data_occupation.dropna()\n",
    "data_occupation #6440"
   ]
  },
  {
   "cell_type": "markdown",
   "id": "ea1a916b-544f-44eb-b901-35b0f324a51d",
   "metadata": {},
   "source": [
    "##                                                                       --- REGRESIONES ---\n",
    "# MODELO 1 - SECTORIAL"
   ]
  },
  {
   "cell_type": "code",
   "execution_count": 44,
   "id": "6a6f8929-b712-405d-99b7-ad40a0b6f35e",
   "metadata": {},
   "outputs": [
    {
     "data": {
      "text/html": [
       "<div>\n",
       "<style scoped>\n",
       "    .dataframe tbody tr th:only-of-type {\n",
       "        vertical-align: middle;\n",
       "    }\n",
       "\n",
       "    .dataframe tbody tr th {\n",
       "        vertical-align: top;\n",
       "    }\n",
       "\n",
       "    .dataframe thead th {\n",
       "        text-align: right;\n",
       "    }\n",
       "</style>\n",
       "<table border=\"1\" class=\"dataframe\">\n",
       "  <thead>\n",
       "    <tr style=\"text-align: right;\">\n",
       "      <th></th>\n",
       "      <th>Country</th>\n",
       "      <th>IdYear</th>\n",
       "      <th>NACE</th>\n",
       "      <th>Value</th>\n",
       "      <th>GDPCap</th>\n",
       "      <th>Educ_Rate</th>\n",
       "      <th>Unempl_rate</th>\n",
       "      <th>Share_Sector</th>\n",
       "    </tr>\n",
       "  </thead>\n",
       "  <tbody>\n",
       "    <tr>\n",
       "      <th>0</th>\n",
       "      <td>Austria</td>\n",
       "      <td>23</td>\n",
       "      <td>C</td>\n",
       "      <td>0.055203</td>\n",
       "      <td>45510.0</td>\n",
       "      <td>0.387912</td>\n",
       "      <td>0.051</td>\n",
       "      <td>0.168422</td>\n",
       "    </tr>\n",
       "    <tr>\n",
       "      <th>1</th>\n",
       "      <td>Austria</td>\n",
       "      <td>23</td>\n",
       "      <td>D</td>\n",
       "      <td>0.126754</td>\n",
       "      <td>45510.0</td>\n",
       "      <td>0.387912</td>\n",
       "      <td>0.051</td>\n",
       "      <td>0.006026</td>\n",
       "    </tr>\n",
       "    <tr>\n",
       "      <th>2</th>\n",
       "      <td>Austria</td>\n",
       "      <td>23</td>\n",
       "      <td>E</td>\n",
       "      <td>0.014525</td>\n",
       "      <td>45510.0</td>\n",
       "      <td>0.387912</td>\n",
       "      <td>0.051</td>\n",
       "      <td>0.004145</td>\n",
       "    </tr>\n",
       "    <tr>\n",
       "      <th>3</th>\n",
       "      <td>Austria</td>\n",
       "      <td>23</td>\n",
       "      <td>F</td>\n",
       "      <td>0.010688</td>\n",
       "      <td>45510.0</td>\n",
       "      <td>0.387912</td>\n",
       "      <td>0.051</td>\n",
       "      <td>0.079080</td>\n",
       "    </tr>\n",
       "    <tr>\n",
       "      <th>4</th>\n",
       "      <td>Austria</td>\n",
       "      <td>23</td>\n",
       "      <td>G</td>\n",
       "      <td>0.030139</td>\n",
       "      <td>45510.0</td>\n",
       "      <td>0.387912</td>\n",
       "      <td>0.051</td>\n",
       "      <td>0.142621</td>\n",
       "    </tr>\n",
       "    <tr>\n",
       "      <th>...</th>\n",
       "      <td>...</td>\n",
       "      <td>...</td>\n",
       "      <td>...</td>\n",
       "      <td>...</td>\n",
       "      <td>...</td>\n",
       "      <td>...</td>\n",
       "      <td>...</td>\n",
       "      <td>...</td>\n",
       "    </tr>\n",
       "    <tr>\n",
       "      <th>648</th>\n",
       "      <td>Sweden</td>\n",
       "      <td>24</td>\n",
       "      <td>J</td>\n",
       "      <td>0.139043</td>\n",
       "      <td>48810.0</td>\n",
       "      <td>0.489769</td>\n",
       "      <td>0.084</td>\n",
       "      <td>0.057350</td>\n",
       "    </tr>\n",
       "    <tr>\n",
       "      <th>649</th>\n",
       "      <td>Sweden</td>\n",
       "      <td>24</td>\n",
       "      <td>L</td>\n",
       "      <td>0.038415</td>\n",
       "      <td>48810.0</td>\n",
       "      <td>0.489769</td>\n",
       "      <td>0.084</td>\n",
       "      <td>0.016682</td>\n",
       "    </tr>\n",
       "    <tr>\n",
       "      <th>650</th>\n",
       "      <td>Sweden</td>\n",
       "      <td>24</td>\n",
       "      <td>M</td>\n",
       "      <td>0.117257</td>\n",
       "      <td>48810.0</td>\n",
       "      <td>0.489769</td>\n",
       "      <td>0.084</td>\n",
       "      <td>0.108474</td>\n",
       "    </tr>\n",
       "    <tr>\n",
       "      <th>651</th>\n",
       "      <td>Sweden</td>\n",
       "      <td>24</td>\n",
       "      <td>N</td>\n",
       "      <td>0.049761</td>\n",
       "      <td>48810.0</td>\n",
       "      <td>0.489769</td>\n",
       "      <td>0.084</td>\n",
       "      <td>0.046280</td>\n",
       "    </tr>\n",
       "    <tr>\n",
       "      <th>652</th>\n",
       "      <td>Sweden</td>\n",
       "      <td>24</td>\n",
       "      <td>S</td>\n",
       "      <td>0.000000</td>\n",
       "      <td>48810.0</td>\n",
       "      <td>0.489769</td>\n",
       "      <td>0.084</td>\n",
       "      <td>0.024485</td>\n",
       "    </tr>\n",
       "  </tbody>\n",
       "</table>\n",
       "<p>644 rows × 8 columns</p>\n",
       "</div>"
      ],
      "text/plain": [
       "     Country  IdYear NACE     Value   GDPCap  Educ_Rate  Unempl_rate  \\\n",
       "0    Austria      23    C  0.055203  45510.0   0.387912        0.051   \n",
       "1    Austria      23    D  0.126754  45510.0   0.387912        0.051   \n",
       "2    Austria      23    E  0.014525  45510.0   0.387912        0.051   \n",
       "3    Austria      23    F  0.010688  45510.0   0.387912        0.051   \n",
       "4    Austria      23    G  0.030139  45510.0   0.387912        0.051   \n",
       "..       ...     ...  ...       ...      ...        ...          ...   \n",
       "648   Sweden      24    J  0.139043  48810.0   0.489769        0.084   \n",
       "649   Sweden      24    L  0.038415  48810.0   0.489769        0.084   \n",
       "650   Sweden      24    M  0.117257  48810.0   0.489769        0.084   \n",
       "651   Sweden      24    N  0.049761  48810.0   0.489769        0.084   \n",
       "652   Sweden      24    S  0.000000  48810.0   0.489769        0.084   \n",
       "\n",
       "     Share_Sector  \n",
       "0        0.168422  \n",
       "1        0.006026  \n",
       "2        0.004145  \n",
       "3        0.079080  \n",
       "4        0.142621  \n",
       "..            ...  \n",
       "648      0.057350  \n",
       "649      0.016682  \n",
       "650      0.108474  \n",
       "651      0.046280  \n",
       "652      0.024485  \n",
       "\n",
       "[644 rows x 8 columns]"
      ]
     },
     "execution_count": 44,
     "metadata": {},
     "output_type": "execute_result"
    }
   ],
   "source": [
    "data_sector"
   ]
  },
  {
   "cell_type": "code",
   "execution_count": 45,
   "id": "dd4784cf-c4af-4bb3-91db-19ed5493e3c5",
   "metadata": {},
   "outputs": [
    {
     "data": {
      "text/plain": [
       "0      C\n",
       "1      D\n",
       "2      E\n",
       "3      F\n",
       "4      G\n",
       "      ..\n",
       "648    J\n",
       "649    L\n",
       "650    M\n",
       "651    N\n",
       "652    S\n",
       "Name: NACE, Length: 644, dtype: category\n",
       "Categories (12, object): ['M' < 'C' < 'D' < 'E' ... 'J' < 'L' < 'N' < 'S']"
      ]
     },
     "execution_count": 45,
     "metadata": {},
     "output_type": "execute_result"
    }
   ],
   "source": [
    "# Algunas correcciones:\n",
    "data_sector.rename(columns={'Value':\"IA_Adoption\",'Unempl_rate':'Unemp_Rate'},inplace=True)\n",
    "\n",
    "# Establecer 'M' como la categoría base:\n",
    "categorias = list(data_sector['NACE'].unique())\n",
    "categorias.remove('M')\n",
    "nueva_orden = ['M'] + sorted(categorias)  # Poner 'M' al inicio, luego el resto ordenado\n",
    "data_sector['NACE'] = pd.Categorical(data_sector['NACE'], categories=nueva_orden, ordered=True)\n",
    "data_sector['NACE']"
   ]
  },
  {
   "cell_type": "markdown",
   "id": "a1bdd0c4-92a6-4c14-a095-af4add239d41",
   "metadata": {},
   "source": [
    "## PANEL SECTOR"
   ]
  },
  {
   "cell_type": "code",
   "execution_count": 46,
   "id": "63a106ac-ceb4-455a-b1eb-83e91e10d28e",
   "metadata": {},
   "outputs": [
    {
     "name": "stdout",
     "output_type": "stream",
     "text": [
      "                          PanelOLS Estimation Summary                           \n",
      "================================================================================\n",
      "Dep. Variable:           Share_Sector   R-squared:                        0.8412\n",
      "Estimator:                   PanelOLS   R-squared (Between):              0.3228\n",
      "No. Observations:                 644   R-squared (Within):               0.8412\n",
      "Date:                Thu, Sep 25 2025   R-squared (Overall):              0.8347\n",
      "Time:                        00:04:20   Log-likelihood                    1620.7\n",
      "Cov. Estimator:             Clustered                                           \n",
      "                                        F-statistic:                      119.79\n",
      "Entities:                          29   P-value                           0.0000\n",
      "Avg Obs:                       22.207   Distribution:                  F(26,588)\n",
      "Min Obs:                       16.000                                           \n",
      "Max Obs:                       24.000   F-statistic (robust):          2.338e+05\n",
      "                                        P-value                           0.0000\n",
      "Time periods:                       2   Distribution:                  F(26,588)\n",
      "Avg Obs:                       322.00                                           \n",
      "Min Obs:                       318.00                                           \n",
      "Max Obs:                       326.00                                           \n",
      "                                                                                \n",
      "                                    Parameter Estimates                                     \n",
      "============================================================================================\n",
      "                          Parameter  Std. Err.     T-stat    P-value    Lower CI    Upper CI\n",
      "--------------------------------------------------------------------------------------------\n",
      "IA_Adoption                  0.2576     0.0775     3.3248     0.0009      0.1054      0.4097\n",
      "GDPCap                    3.693e-08  3.439e-07     0.1074     0.9145  -6.386e-07   7.124e-07\n",
      "Educ_Rate                   -0.0522     0.0276    -1.8897     0.0593     -0.1064      0.0021\n",
      "Unemp_Rate                  -0.0027     0.0542    -0.0502     0.9600     -0.1091      0.1037\n",
      "C(NACE)[M]                   0.0635     0.0170     3.7373     0.0002      0.0301      0.0968\n",
      "C(NACE)[C]                   0.1863     0.0251     7.4141     0.0000      0.1369      0.2356\n",
      "C(NACE)[D]                   0.0269     0.0155     1.7354     0.0832     -0.0035      0.0572\n",
      "C(NACE)[E]                   0.0271     0.0156     1.7420     0.0820     -0.0035      0.0577\n",
      "C(NACE)[F]                   0.0969     0.0160     6.0696     0.0000      0.0656      0.1283\n",
      "C(NACE)[G]                   0.1682     0.0168     10.009     0.0000      0.1352      0.2012\n",
      "C(NACE)[H]                   0.0814     0.0155     5.2481     0.0000      0.0510      0.1119\n",
      "C(NACE)[I]                   0.0637     0.0161     3.9619     0.0001      0.0321      0.0953\n",
      "C(NACE)[J]                   0.0529     0.0159     3.3166     0.0010      0.0216      0.0842\n",
      "C(NACE)[L]                   0.0235     0.0157     1.4926     0.1361     -0.0074      0.0544\n",
      "C(NACE)[N]                   0.0497     0.0165     3.0126     0.0027      0.0173      0.0821\n",
      "C(NACE)[S]                   0.0378     0.0156     2.4233     0.0157      0.0072      0.0685\n",
      "C(NACE)[T.C]:IA_Adoption    -0.7550     0.4196    -1.7995     0.0725     -1.5790      0.0690\n",
      "C(NACE)[T.D]:IA_Adoption    -0.2682     0.0768    -3.4924     0.0005     -0.4190     -0.1174\n",
      "C(NACE)[T.E]:IA_Adoption    -0.2484     0.0886    -2.8026     0.0052     -0.4225     -0.0743\n",
      "C(NACE)[T.F]:IA_Adoption    -0.6467     0.2517    -2.5691     0.0104     -1.1411     -0.1523\n",
      "C(NACE)[T.G]:IA_Adoption    -0.7006     0.2422    -2.8927     0.0040     -1.1763     -0.2249\n",
      "C(NACE)[T.H]:IA_Adoption    -0.5521     0.1515    -3.6443     0.0003     -0.8497     -0.2546\n",
      "C(NACE)[T.I]:IA_Adoption    -0.0900     0.1518    -0.5929     0.5535     -0.3882      0.2082\n",
      "C(NACE)[T.J]:IA_Adoption    -0.1601     0.0658    -2.4326     0.0153     -0.2893     -0.0308\n",
      "C(NACE)[T.L]:IA_Adoption    -0.1149     0.0697    -1.6493     0.0996     -0.2517      0.0219\n",
      "C(NACE)[T.N]:IA_Adoption    -0.0687     0.0769    -0.8931     0.3721     -0.2197      0.0824\n",
      "C(NACE)[T.S]:IA_Adoption    -0.1862     0.0746    -2.4972     0.0128     -0.3327     -0.0398\n",
      "============================================================================================\n",
      "\n",
      "F-test for Poolability: 0.5168\n",
      "P-value: 0.9839\n",
      "Distribution: F(29,588)\n",
      "\n",
      "Included effects: Entity, Time\n"
     ]
    }
   ],
   "source": [
    "# Asegúrate de que tanto 'Country' como 'IdYear' estén en el índice\n",
    "data_panel_sector = data_sector.set_index(['Country', 'IdYear'])\n",
    "\n",
    "# Estimación con efectos fijos por entidad (país) y tiempo (año)\n",
    "modelo_panel = PanelOLS.from_formula(\n",
    "    'Share_Sector ~ IA_Adoption + GDPCap + Educ_Rate + Unemp_Rate + C(NACE)*IA_Adoption + EntityEffects + TimeEffects',\n",
    "    data=data_panel_sector\n",
    ")\n",
    "results_sector = modelo_panel.fit(cov_type='clustered', cluster_entity=True)\n",
    "print(results_sector.summary)"
   ]
  },
  {
   "cell_type": "markdown",
   "id": "67146f5f-4016-490f-9c71-ddf9545c7eec",
   "metadata": {},
   "source": [
    "## EFECTOS DIRECTOS SECTORIAL"
   ]
  },
  {
   "cell_type": "code",
   "execution_count": 47,
   "id": "d976aa94-2acc-477f-a517-d8c345939d26",
   "metadata": {},
   "outputs": [
    {
     "name": "stdout",
     "output_type": "stream",
     "text": [
      "Coef_base: 0.2575628761689497, Coef_sector: -0.7549758612303622\n",
      "Coef_base: 0.2575628761689497, Coef_sector: -0.26820594292923994\n",
      "Coef_base: 0.2575628761689497, Coef_sector: -0.2483994955730136\n",
      "Coef_base: 0.2575628761689497, Coef_sector: -0.646712373867692\n",
      "Coef_base: 0.2575628761689497, Coef_sector: -0.7006251032212949\n",
      "Coef_base: 0.2575628761689497, Coef_sector: -0.5521112072074279\n",
      "Coef_base: 0.2575628761689497, Coef_sector: -0.09001688193827068\n",
      "Coef_base: 0.2575628761689497, Coef_sector: -0.16006205143695038\n",
      "Coef_base: 0.2575628761689497, Coef_sector: -0.11490487707399515\n",
      "Coef_base: 0.2575628761689497, Coef_sector: -0.06869019358174847\n",
      "Coef_base: 0.2575628761689497, Coef_sector: -0.18623041868413906\n",
      "   Efecto Total  Error estándar         t   p-value\n",
      "C     -0.497413        0.407065 -1.221948  0.221727\n",
      "D     -0.010643        0.016146 -0.659189  0.509775\n",
      "E      0.009163        0.065527  0.139841  0.888786\n",
      "F     -0.389149        0.229912 -1.692601  0.090532\n",
      "G     -0.443062        0.212104 -2.088896  0.036717\n",
      "H     -0.294548        0.130074 -2.264469  0.023545\n",
      "I      0.167546        0.160355  1.044846  0.296094\n",
      "J      0.097501        0.042451  2.296792  0.021631\n",
      "L      0.142658        0.065834  2.166947  0.030239\n",
      "N      0.188873        0.080707  2.340230  0.019272\n",
      "S      0.071332        0.024619  2.897401  0.003763\n"
     ]
    }
   ],
   "source": [
    "sectores = ['C', 'D', 'E', 'F', 'G', 'H', 'I', 'J', 'L', 'N', 'S']\n",
    "resultados = {}\n",
    "\n",
    "for sector in sectores:\n",
    "    coef_interaccion = f'C(NACE)[T.{sector}]:IA_Adoption'\n",
    "    \n",
    "    if ('IA_Adoption' not in results_sector.params.index):\n",
    "        print(\"No existe coef_base\")\n",
    "    if (coef_interaccion not in results_sector.params.index):\n",
    "        print(f\"No existe coef_interaccion para sector {sector}\")\n",
    "        continue\n",
    "    coef_base = results_sector.params['IA_Adoption']\n",
    "    coef_sector = results_sector.params[coef_interaccion]\n",
    "    print(f\"Coef_base: {coef_base}, Coef_sector: {coef_sector}\")  # Debug\n",
    "    \n",
    "    efecto_total = coef_base + coef_sector\n",
    "\n",
    "    cov = results_sector.cov\n",
    "    se_total = np.sqrt(\n",
    "        cov.loc['IA_Adoption', 'IA_Adoption'] +\n",
    "        cov.loc[coef_interaccion, coef_interaccion] +\n",
    "        2 * cov.loc['IA_Adoption', coef_interaccion]\n",
    "    )\n",
    "    t_stat = efecto_total / se_total\n",
    "    p_value = 2 * (1 - norm.cdf(np.abs(t_stat)))\n",
    "    resultados[sector] = {\n",
    "        'Efecto Total': efecto_total,\n",
    "        'Error estándar': se_total,\n",
    "        't': t_stat,\n",
    "        'p-value': p_value\n",
    "    }\n",
    "\n",
    "df_resultados = pd.DataFrame(resultados).T\n",
    "print(df_resultados)"
   ]
  },
  {
   "cell_type": "markdown",
   "id": "ea033db3-a1f3-40b4-a1c9-e5e2f7805368",
   "metadata": {},
   "source": [
    "## MODELO 2 - OCUPACIONAL"
   ]
  },
  {
   "cell_type": "code",
   "execution_count": 48,
   "id": "4f59655e-641f-4d79-a36e-0c28610649fe",
   "metadata": {},
   "outputs": [
    {
     "data": {
      "text/html": [
       "<div>\n",
       "<style scoped>\n",
       "    .dataframe tbody tr th:only-of-type {\n",
       "        vertical-align: middle;\n",
       "    }\n",
       "\n",
       "    .dataframe tbody tr th {\n",
       "        vertical-align: top;\n",
       "    }\n",
       "\n",
       "    .dataframe thead th {\n",
       "        text-align: right;\n",
       "    }\n",
       "</style>\n",
       "<table border=\"1\" class=\"dataframe\">\n",
       "  <thead>\n",
       "    <tr style=\"text-align: right;\">\n",
       "      <th></th>\n",
       "      <th>Country</th>\n",
       "      <th>IdYear</th>\n",
       "      <th>NACE</th>\n",
       "      <th>Value</th>\n",
       "      <th>GDPCap</th>\n",
       "      <th>Educ_Rate</th>\n",
       "      <th>Unempl_rate</th>\n",
       "      <th>ISCO_08</th>\n",
       "      <th>Share_Occupation</th>\n",
       "      <th>Share_Sector</th>\n",
       "    </tr>\n",
       "  </thead>\n",
       "  <tbody>\n",
       "    <tr>\n",
       "      <th>0</th>\n",
       "      <td>Austria</td>\n",
       "      <td>23</td>\n",
       "      <td>C</td>\n",
       "      <td>0.055203</td>\n",
       "      <td>45510.0</td>\n",
       "      <td>0.387912</td>\n",
       "      <td>0.051</td>\n",
       "      <td>OC1</td>\n",
       "      <td>0.069536</td>\n",
       "      <td>0.168422</td>\n",
       "    </tr>\n",
       "    <tr>\n",
       "      <th>1</th>\n",
       "      <td>Austria</td>\n",
       "      <td>23</td>\n",
       "      <td>C</td>\n",
       "      <td>0.055203</td>\n",
       "      <td>45510.0</td>\n",
       "      <td>0.387912</td>\n",
       "      <td>0.051</td>\n",
       "      <td>OC2</td>\n",
       "      <td>0.113248</td>\n",
       "      <td>0.168422</td>\n",
       "    </tr>\n",
       "    <tr>\n",
       "      <th>2</th>\n",
       "      <td>Austria</td>\n",
       "      <td>23</td>\n",
       "      <td>C</td>\n",
       "      <td>0.055203</td>\n",
       "      <td>45510.0</td>\n",
       "      <td>0.387912</td>\n",
       "      <td>0.051</td>\n",
       "      <td>OC3</td>\n",
       "      <td>0.196638</td>\n",
       "      <td>0.168422</td>\n",
       "    </tr>\n",
       "    <tr>\n",
       "      <th>3</th>\n",
       "      <td>Austria</td>\n",
       "      <td>23</td>\n",
       "      <td>C</td>\n",
       "      <td>0.055203</td>\n",
       "      <td>45510.0</td>\n",
       "      <td>0.387912</td>\n",
       "      <td>0.051</td>\n",
       "      <td>OC4</td>\n",
       "      <td>0.084062</td>\n",
       "      <td>0.168422</td>\n",
       "    </tr>\n",
       "    <tr>\n",
       "      <th>4</th>\n",
       "      <td>Austria</td>\n",
       "      <td>23</td>\n",
       "      <td>C</td>\n",
       "      <td>0.055203</td>\n",
       "      <td>45510.0</td>\n",
       "      <td>0.387912</td>\n",
       "      <td>0.051</td>\n",
       "      <td>OC5</td>\n",
       "      <td>0.053127</td>\n",
       "      <td>0.168422</td>\n",
       "    </tr>\n",
       "    <tr>\n",
       "      <th>...</th>\n",
       "      <td>...</td>\n",
       "      <td>...</td>\n",
       "      <td>...</td>\n",
       "      <td>...</td>\n",
       "      <td>...</td>\n",
       "      <td>...</td>\n",
       "      <td>...</td>\n",
       "      <td>...</td>\n",
       "      <td>...</td>\n",
       "      <td>...</td>\n",
       "    </tr>\n",
       "    <tr>\n",
       "      <th>6444</th>\n",
       "      <td>Sweden</td>\n",
       "      <td>24</td>\n",
       "      <td>S</td>\n",
       "      <td>0.000000</td>\n",
       "      <td>48810.0</td>\n",
       "      <td>0.489769</td>\n",
       "      <td>0.084</td>\n",
       "      <td>OC6</td>\n",
       "      <td>0.044741</td>\n",
       "      <td>0.024485</td>\n",
       "    </tr>\n",
       "    <tr>\n",
       "      <th>6445</th>\n",
       "      <td>Sweden</td>\n",
       "      <td>24</td>\n",
       "      <td>S</td>\n",
       "      <td>0.000000</td>\n",
       "      <td>48810.0</td>\n",
       "      <td>0.489769</td>\n",
       "      <td>0.084</td>\n",
       "      <td>OC7</td>\n",
       "      <td>0.043171</td>\n",
       "      <td>0.024485</td>\n",
       "    </tr>\n",
       "    <tr>\n",
       "      <th>6446</th>\n",
       "      <td>Sweden</td>\n",
       "      <td>24</td>\n",
       "      <td>S</td>\n",
       "      <td>0.000000</td>\n",
       "      <td>48810.0</td>\n",
       "      <td>0.489769</td>\n",
       "      <td>0.084</td>\n",
       "      <td>OC8</td>\n",
       "      <td>0.025903</td>\n",
       "      <td>0.024485</td>\n",
       "    </tr>\n",
       "    <tr>\n",
       "      <th>6447</th>\n",
       "      <td>Sweden</td>\n",
       "      <td>24</td>\n",
       "      <td>S</td>\n",
       "      <td>0.000000</td>\n",
       "      <td>48810.0</td>\n",
       "      <td>0.489769</td>\n",
       "      <td>0.084</td>\n",
       "      <td>OC9</td>\n",
       "      <td>0.054945</td>\n",
       "      <td>0.024485</td>\n",
       "    </tr>\n",
       "    <tr>\n",
       "      <th>6448</th>\n",
       "      <td>Sweden</td>\n",
       "      <td>24</td>\n",
       "      <td>S</td>\n",
       "      <td>0.000000</td>\n",
       "      <td>48810.0</td>\n",
       "      <td>0.489769</td>\n",
       "      <td>0.084</td>\n",
       "      <td>OC0</td>\n",
       "      <td>0.000000</td>\n",
       "      <td>0.024485</td>\n",
       "    </tr>\n",
       "  </tbody>\n",
       "</table>\n",
       "<p>6440 rows × 10 columns</p>\n",
       "</div>"
      ],
      "text/plain": [
       "      Country  IdYear NACE     Value   GDPCap  Educ_Rate  Unempl_rate ISCO_08  \\\n",
       "0     Austria      23    C  0.055203  45510.0   0.387912        0.051     OC1   \n",
       "1     Austria      23    C  0.055203  45510.0   0.387912        0.051     OC2   \n",
       "2     Austria      23    C  0.055203  45510.0   0.387912        0.051     OC3   \n",
       "3     Austria      23    C  0.055203  45510.0   0.387912        0.051     OC4   \n",
       "4     Austria      23    C  0.055203  45510.0   0.387912        0.051     OC5   \n",
       "...       ...     ...  ...       ...      ...        ...          ...     ...   \n",
       "6444   Sweden      24    S  0.000000  48810.0   0.489769        0.084     OC6   \n",
       "6445   Sweden      24    S  0.000000  48810.0   0.489769        0.084     OC7   \n",
       "6446   Sweden      24    S  0.000000  48810.0   0.489769        0.084     OC8   \n",
       "6447   Sweden      24    S  0.000000  48810.0   0.489769        0.084     OC9   \n",
       "6448   Sweden      24    S  0.000000  48810.0   0.489769        0.084     OC0   \n",
       "\n",
       "      Share_Occupation  Share_Sector  \n",
       "0             0.069536      0.168422  \n",
       "1             0.113248      0.168422  \n",
       "2             0.196638      0.168422  \n",
       "3             0.084062      0.168422  \n",
       "4             0.053127      0.168422  \n",
       "...                ...           ...  \n",
       "6444          0.044741      0.024485  \n",
       "6445          0.043171      0.024485  \n",
       "6446          0.025903      0.024485  \n",
       "6447          0.054945      0.024485  \n",
       "6448          0.000000      0.024485  \n",
       "\n",
       "[6440 rows x 10 columns]"
      ]
     },
     "execution_count": 48,
     "metadata": {},
     "output_type": "execute_result"
    }
   ],
   "source": [
    "data_occupation = data_occupation.dropna()\n",
    "data_occupation"
   ]
  },
  {
   "cell_type": "code",
   "execution_count": 49,
   "id": "df8dbf21-2c33-4c98-a882-8aa9f022da09",
   "metadata": {},
   "outputs": [],
   "source": [
    "# Establecer la categoría base\n",
    "categorias = list(data_occupation['ISCO_08'].unique())\n",
    "categorias.remove('OC2')\n",
    "nueva_orden = ['OC2'] + sorted(categorias)\n",
    "data_occupation['ISCO_08'] = pd.Categorical(data_occupation['ISCO_08'], categories=nueva_orden, ordered=True)\n",
    "data_occupation['ISCO_08']\n",
    "\n",
    "data_occupation.rename(columns={'Value':\"IA_Adoption\",'Unempl_rate':'Unemp_Rate'},inplace=True)"
   ]
  },
  {
   "cell_type": "markdown",
   "id": "a4a0cb32-aae2-48c1-af43-bdace1ea6011",
   "metadata": {},
   "source": [
    "##               PANEL OCUPACIONAL"
   ]
  },
  {
   "cell_type": "code",
   "execution_count": 50,
   "id": "5934ac7c-2205-4a75-a3ff-3288b0b45c51",
   "metadata": {},
   "outputs": [
    {
     "name": "stdout",
     "output_type": "stream",
     "text": [
      "                          PanelOLS Estimation Summary                           \n",
      "================================================================================\n",
      "Dep. Variable:       Share_Occupation   R-squared:                        0.2661\n",
      "Estimator:                   PanelOLS   R-squared (Between):          -5.179e+06\n",
      "No. Observations:                6440   R-squared (Within):               0.2661\n",
      "Date:                Thu, Sep 25 2025   R-squared (Overall):              0.2661\n",
      "Time:                        00:04:20   Log-likelihood                    3753.6\n",
      "Cov. Estimator:             Clustered                                           \n",
      "                                        F-statistic:                      70.064\n",
      "Entities:                          29   P-value                           0.0000\n",
      "Avg Obs:                       222.07   Distribution:                 F(33,6377)\n",
      "Min Obs:                       160.00                                           \n",
      "Max Obs:                       240.00   F-statistic (robust):         -2.326e+18\n",
      "                                        P-value                           1.0000\n",
      "Time periods:                       2   Distribution:                 F(33,6377)\n",
      "Avg Obs:                       3220.0                                           \n",
      "Min Obs:                       3180.0                                           \n",
      "Max Obs:                       3260.0                                           \n",
      "                                                                                \n",
      "                                       Parameter Estimates                                       \n",
      "=================================================================================================\n",
      "                               Parameter  Std. Err.     T-stat    P-value    Lower CI    Upper CI\n",
      "-------------------------------------------------------------------------------------------------\n",
      "IA_Adoption                       3.7070     0.3058     12.123     0.0000      3.1076      4.3064\n",
      "GDPCap                         2.758e-18  2.095e-16     0.0132     0.9895  -4.079e-16   4.134e-16\n",
      "Educ_Rate                      5.735e-14  8.543e-12     0.0067     0.9946  -1.669e-11    1.68e-11\n",
      "Unemp_Rate                     4.089e-14  4.486e-12     0.0091     0.9927  -8.752e-12   8.834e-12\n",
      "C(NACE)[C]                        0.0486     0.0105     4.6335     0.0000      0.0280      0.0691\n",
      "C(NACE)[D]                        0.0486     0.0105     4.6335     0.0000      0.0280      0.0691\n",
      "C(NACE)[E]                        0.0486     0.0105     4.6335     0.0000      0.0280      0.0691\n",
      "C(NACE)[F]                        0.0486     0.0105     4.6335     0.0000      0.0280      0.0691\n",
      "C(NACE)[G]                        0.0486     0.0105     4.6335     0.0000      0.0280      0.0691\n",
      "C(NACE)[H]                        0.0486     0.0105     4.6335     0.0000      0.0280      0.0691\n",
      "C(NACE)[I]                        0.0486     0.0105     4.6335     0.0000      0.0280      0.0691\n",
      "C(NACE)[J]                        0.0486     0.0105     4.6335     0.0000      0.0280      0.0691\n",
      "C(NACE)[L]                        0.0486     0.0105     4.6335     0.0000      0.0280      0.0691\n",
      "C(NACE)[M]                        0.0486     0.0105     4.6335     0.0000      0.0280      0.0691\n",
      "C(NACE)[N]                        0.0486     0.0105     4.6335     0.0000      0.0280      0.0691\n",
      "C(NACE)[S]                        0.0486     0.0105     4.6335     0.0000      0.0280      0.0691\n",
      "C(ISCO_08)[T.OC0]                -0.0485     0.0105    -4.6277     0.0000     -0.0691     -0.0280\n",
      "C(ISCO_08)[T.OC1]                 0.0108     0.0105     1.0317     0.3023     -0.0098      0.0314\n",
      "C(ISCO_08)[T.OC3]                 0.1151     0.0149     7.7053     0.0000      0.0858      0.1444\n",
      "C(ISCO_08)[T.OC4]                 0.0453     0.0124     3.6598     0.0003      0.0210      0.0696\n",
      "C(ISCO_08)[T.OC5]                 0.1604     0.0185     8.6784     0.0000      0.1242      0.1967\n",
      "C(ISCO_08)[T.OC6]                -0.0454     0.0105    -4.3207     0.0000     -0.0659     -0.0248\n",
      "C(ISCO_08)[T.OC7]                 0.1115     0.0174     6.4114     0.0000      0.0774      0.1456\n",
      "C(ISCO_08)[T.OC8]                 0.0759     0.0146     5.1968     0.0000      0.0473      0.1045\n",
      "C(ISCO_08)[T.OC9]                 0.0891     0.0140     6.3768     0.0000      0.0617      0.1165\n",
      "C(ISCO_08)[T.OC0]:IA_Adoption    -3.7071     0.3058    -12.123     0.0000     -4.3065     -3.1076\n",
      "C(ISCO_08)[T.OC1]:IA_Adoption    -3.6667     0.2931    -12.511     0.0000     -4.2412     -3.0921\n",
      "C(ISCO_08)[T.OC3]:IA_Adoption    -3.2168     0.3464    -9.2863     0.0000     -3.8959     -2.5377\n",
      "C(ISCO_08)[T.OC4]:IA_Adoption    -3.8067     0.3552    -10.717     0.0000     -4.5029     -3.1104\n",
      "C(ISCO_08)[T.OC5]:IA_Adoption    -5.0329     0.4149    -12.129     0.0000     -5.8462     -4.2195\n",
      "C(ISCO_08)[T.OC6]:IA_Adoption    -3.7063     0.3064    -12.098     0.0000     -4.3069     -3.1058\n",
      "C(ISCO_08)[T.OC7]:IA_Adoption    -4.7219     0.4540    -10.402     0.0000     -5.6118     -3.8320\n",
      "C(ISCO_08)[T.OC8]:IA_Adoption    -4.6392     0.3546    -13.083     0.0000     -5.3343     -3.9441\n",
      "C(ISCO_08)[T.OC9]:IA_Adoption    -4.5724     0.3500    -13.066     0.0000     -5.2584     -3.8864\n",
      "=================================================================================================\n",
      "\n",
      "F-test for Poolability: 5.318e-14\n",
      "P-value: 1.0000\n",
      "Distribution: F(29,6377)\n",
      "\n",
      "Included effects: Entity, Time\n"
     ]
    }
   ],
   "source": [
    "# Asegúrate de que la base YA está agregada a nivel sector-país-año-ocupación\n",
    "# y de que Country, NACE y IdYear están en columnas.\n",
    "\n",
    "data_panel_occ = data_occupation.set_index(['Country', 'IdYear'])\n",
    "\n",
    "# data_panel_occ ya tiene MultiIndex (Country, IdYear) y columna NACE\n",
    "\n",
    "# 1) Captura los niveles del índice\n",
    "paises = data_panel_occ.index.get_level_values('Country')\n",
    "años   = data_panel_occ.index.get_level_values('IdYear')\n",
    "\n",
    "# 2) Crea el vector de cluster concatenando Country, NACE y IdYear\n",
    "clusters = paises.astype(str) + '_' + \\\n",
    "           data_panel_occ['NACE'].astype(str) + '_' + \\\n",
    "           años.astype(str)\n",
    "\n",
    "# 3) Estima el modelo, pasando clusters como cluster_entity\n",
    "\n",
    "formula = (\n",
    "    'Share_Occupation ~ IA_Adoption + GDPCap + Educ_Rate + Unemp_Rate + C(NACE) + C(ISCO_08)*IA_Adoption + EntityEffects + TimeEffects'\n",
    ")\n",
    "modelo_occ = PanelOLS.from_formula(formula, data=data_panel_occ)\n",
    "\n",
    "results_occ = modelo_occ.fit(\n",
    "    cov_type='clustered',\n",
    "    clusters=clusters\n",
    ")\n",
    "print(results_occ.summary)"
   ]
  },
  {
   "cell_type": "markdown",
   "id": "3f9df3e4-cd9c-470b-ae36-3db5c7cb90bf",
   "metadata": {},
   "source": [
    "##        EFECTOS DIRECTOS OCUPACIONAL"
   ]
  },
  {
   "cell_type": "code",
   "execution_count": 51,
   "id": "3fbdc84a-8d1c-4663-acea-86b490f6e365",
   "metadata": {},
   "outputs": [
    {
     "name": "stdout",
     "output_type": "stream",
     "text": [
      "      Efecto Total  Error estándar          t       p-value\n",
      "ISCO                                                       \n",
      "OC0      -0.000067        0.000541  -0.124804  9.006790e-01\n",
      "OC1       0.040317        0.053020   0.760409  4.470099e-01\n",
      "OC2       3.706992        0.305779  12.123127  0.000000e+00\n",
      "OC3       0.490175        0.142945   3.429129  6.055207e-04\n",
      "OC4      -0.099665        0.079349  -1.256034  2.091035e-01\n",
      "OC5      -1.325858        0.185349  -7.153318  8.471002e-13\n",
      "OC6       0.000644        0.010626   0.060576  9.516969e-01\n",
      "OC7      -1.014896        0.188188  -5.392982  6.929785e-08\n",
      "OC8      -0.932223        0.100642  -9.262771  0.000000e+00\n",
      "OC9      -0.865419        0.088340  -9.796409  0.000000e+00\n"
     ]
    }
   ],
   "source": [
    "# Supongamos que tu resultado de PanelOLS está en la variable results_occ\n",
    "# y que las categorías ISCO-08 están en la lista siguiente (incluyendo la base 'OC2'):\n",
    "ocupaciones = ['OC0', 'OC1', 'OC2', 'OC3', 'OC4', 'OC5', 'OC6', 'OC7', 'OC8', 'OC9']\n",
    "\n",
    "# Extraemos coeficiente base de IA_Adoption y la matriz var-cov\n",
    "beta_base = results_occ.params['IA_Adoption']\n",
    "vcov = results_occ.cov\n",
    "\n",
    "# Prepara lista para guardar resultados\n",
    "filas = []\n",
    "\n",
    "for oc in ocupaciones:\n",
    "    if oc == 'OC2':\n",
    "        # Para la categoría base, el efecto total es simplemente beta_base\n",
    "        total = beta_base\n",
    "        var_total = vcov.loc['IA_Adoption','IA_Adoption']\n",
    "    else:\n",
    "        term = f'C(ISCO_08)[T.{oc}]:IA_Adoption'\n",
    "        beta_int = results_occ.params[term]\n",
    "        # var(total) = var(base) + var(int) + 2 cov(base,int)\n",
    "        var_total = (\n",
    "            vcov.loc['IA_Adoption','IA_Adoption'] +\n",
    "            vcov.loc[term,term] +\n",
    "            2 * vcov.loc['IA_Adoption',term]\n",
    "        )\n",
    "        total = beta_base + beta_int\n",
    "\n",
    "    se = np.sqrt(var_total)\n",
    "    t_stat = total / se\n",
    "    # gls approx: con muchos grados, usamos normal aprox o t con df large\n",
    "    p_val = 2 * (1 - stats.norm.cdf(abs(t_stat)))\n",
    "\n",
    "    filas.append({\n",
    "        'ISCO': oc,\n",
    "        'Efecto Total': total,\n",
    "        'Error estándar': se,\n",
    "        't': t_stat,\n",
    "        'p-value': p_val\n",
    "    })\n",
    "\n",
    "df_effects_isco = pd.DataFrame(filas).set_index('ISCO')\n",
    "print(df_effects_isco)"
   ]
  },
  {
   "cell_type": "markdown",
   "id": "1a406098-b1eb-467c-9fd7-20ae53e7640b",
   "metadata": {},
   "source": [
    "##  MODELO 3 - TEORICO:"
   ]
  },
  {
   "cell_type": "code",
   "execution_count": 52,
   "id": "053e2935-3c5f-4145-83a3-4522b3a22388",
   "metadata": {},
   "outputs": [],
   "source": [
    "# 1. Carga el Excel\n",
    "path = \"../data/RTI_ISCO08_major_groups.xlsx\""
   ]
  },
  {
   "cell_type": "code",
   "execution_count": 53,
   "id": "f3eeb143-ca2b-486f-bf4f-455b2ab77df3",
   "metadata": {},
   "outputs": [
    {
     "data": {
      "text/html": [
       "<div>\n",
       "<style scoped>\n",
       "    .dataframe tbody tr th:only-of-type {\n",
       "        vertical-align: middle;\n",
       "    }\n",
       "\n",
       "    .dataframe tbody tr th {\n",
       "        vertical-align: top;\n",
       "    }\n",
       "\n",
       "    .dataframe thead th {\n",
       "        text-align: right;\n",
       "    }\n",
       "</style>\n",
       "<table border=\"1\" class=\"dataframe\">\n",
       "  <thead>\n",
       "    <tr style=\"text-align: right;\">\n",
       "      <th></th>\n",
       "      <th>Country</th>\n",
       "      <th>IdYear</th>\n",
       "      <th>NACE</th>\n",
       "      <th>IA_Adoption</th>\n",
       "      <th>GDPCap</th>\n",
       "      <th>Educ_Rate</th>\n",
       "      <th>Unemp_Rate</th>\n",
       "      <th>Share_Sector</th>\n",
       "      <th>RTI</th>\n",
       "      <th>NRA</th>\n",
       "      <th>NRI</th>\n",
       "      <th>RC</th>\n",
       "      <th>RM</th>\n",
       "      <th>NRM</th>\n",
       "      <th>Mean_RTI</th>\n",
       "    </tr>\n",
       "  </thead>\n",
       "  <tbody>\n",
       "    <tr>\n",
       "      <th>0</th>\n",
       "      <td>Austria</td>\n",
       "      <td>23</td>\n",
       "      <td>C</td>\n",
       "      <td>0.055203</td>\n",
       "      <td>45510.0</td>\n",
       "      <td>0.387912</td>\n",
       "      <td>0.051</td>\n",
       "      <td>0.168422</td>\n",
       "      <td>-0.337260</td>\n",
       "      <td>0.195341</td>\n",
       "      <td>0.155809</td>\n",
       "      <td>0.192028</td>\n",
       "      <td>0.139387</td>\n",
       "      <td>0.316904</td>\n",
       "      <td>-0.389432</td>\n",
       "    </tr>\n",
       "    <tr>\n",
       "      <th>1</th>\n",
       "      <td>Austria</td>\n",
       "      <td>23</td>\n",
       "      <td>D</td>\n",
       "      <td>0.126754</td>\n",
       "      <td>45510.0</td>\n",
       "      <td>0.387912</td>\n",
       "      <td>0.051</td>\n",
       "      <td>0.006026</td>\n",
       "      <td>-0.369323</td>\n",
       "      <td>0.303459</td>\n",
       "      <td>0.235639</td>\n",
       "      <td>0.257143</td>\n",
       "      <td>0.060526</td>\n",
       "      <td>0.143233</td>\n",
       "      <td>-0.417631</td>\n",
       "    </tr>\n",
       "    <tr>\n",
       "      <th>2</th>\n",
       "      <td>Austria</td>\n",
       "      <td>23</td>\n",
       "      <td>E</td>\n",
       "      <td>0.014525</td>\n",
       "      <td>45510.0</td>\n",
       "      <td>0.387912</td>\n",
       "      <td>0.051</td>\n",
       "      <td>0.004145</td>\n",
       "      <td>-0.146393</td>\n",
       "      <td>0.074754</td>\n",
       "      <td>0.091803</td>\n",
       "      <td>0.248689</td>\n",
       "      <td>0.180000</td>\n",
       "      <td>0.404754</td>\n",
       "      <td>-0.180648</td>\n",
       "    </tr>\n",
       "    <tr>\n",
       "      <th>3</th>\n",
       "      <td>Austria</td>\n",
       "      <td>23</td>\n",
       "      <td>F</td>\n",
       "      <td>0.010688</td>\n",
       "      <td>45510.0</td>\n",
       "      <td>0.387912</td>\n",
       "      <td>0.051</td>\n",
       "      <td>0.079080</td>\n",
       "      <td>-0.275242</td>\n",
       "      <td>0.151862</td>\n",
       "      <td>0.112970</td>\n",
       "      <td>0.193807</td>\n",
       "      <td>0.167600</td>\n",
       "      <td>0.373612</td>\n",
       "      <td>-0.354525</td>\n",
       "    </tr>\n",
       "    <tr>\n",
       "      <th>4</th>\n",
       "      <td>Austria</td>\n",
       "      <td>23</td>\n",
       "      <td>G</td>\n",
       "      <td>0.030139</td>\n",
       "      <td>45510.0</td>\n",
       "      <td>0.387912</td>\n",
       "      <td>0.051</td>\n",
       "      <td>0.142621</td>\n",
       "      <td>-0.438181</td>\n",
       "      <td>0.148415</td>\n",
       "      <td>0.207513</td>\n",
       "      <td>0.216860</td>\n",
       "      <td>0.062908</td>\n",
       "      <td>0.360133</td>\n",
       "      <td>-0.452825</td>\n",
       "    </tr>\n",
       "    <tr>\n",
       "      <th>...</th>\n",
       "      <td>...</td>\n",
       "      <td>...</td>\n",
       "      <td>...</td>\n",
       "      <td>...</td>\n",
       "      <td>...</td>\n",
       "      <td>...</td>\n",
       "      <td>...</td>\n",
       "      <td>...</td>\n",
       "      <td>...</td>\n",
       "      <td>...</td>\n",
       "      <td>...</td>\n",
       "      <td>...</td>\n",
       "      <td>...</td>\n",
       "      <td>...</td>\n",
       "      <td>...</td>\n",
       "    </tr>\n",
       "    <tr>\n",
       "      <th>639</th>\n",
       "      <td>Sweden</td>\n",
       "      <td>24</td>\n",
       "      <td>J</td>\n",
       "      <td>0.139043</td>\n",
       "      <td>48810.0</td>\n",
       "      <td>0.489769</td>\n",
       "      <td>0.084</td>\n",
       "      <td>0.057350</td>\n",
       "      <td>-0.770359</td>\n",
       "      <td>0.524219</td>\n",
       "      <td>0.326756</td>\n",
       "      <td>0.111461</td>\n",
       "      <td>0.004725</td>\n",
       "      <td>0.032838</td>\n",
       "      <td>-0.775385</td>\n",
       "    </tr>\n",
       "    <tr>\n",
       "      <th>640</th>\n",
       "      <td>Sweden</td>\n",
       "      <td>24</td>\n",
       "      <td>L</td>\n",
       "      <td>0.038415</td>\n",
       "      <td>48810.0</td>\n",
       "      <td>0.489769</td>\n",
       "      <td>0.084</td>\n",
       "      <td>0.016682</td>\n",
       "      <td>-0.482339</td>\n",
       "      <td>0.270472</td>\n",
       "      <td>0.263859</td>\n",
       "      <td>0.242696</td>\n",
       "      <td>0.017753</td>\n",
       "      <td>0.202753</td>\n",
       "      <td>-0.499202</td>\n",
       "    </tr>\n",
       "    <tr>\n",
       "      <th>641</th>\n",
       "      <td>Sweden</td>\n",
       "      <td>24</td>\n",
       "      <td>M</td>\n",
       "      <td>0.117257</td>\n",
       "      <td>48810.0</td>\n",
       "      <td>0.489769</td>\n",
       "      <td>0.084</td>\n",
       "      <td>0.108474</td>\n",
       "      <td>-0.640546</td>\n",
       "      <td>0.450916</td>\n",
       "      <td>0.301347</td>\n",
       "      <td>0.163701</td>\n",
       "      <td>0.017954</td>\n",
       "      <td>0.065948</td>\n",
       "      <td>-0.656047</td>\n",
       "    </tr>\n",
       "    <tr>\n",
       "      <th>642</th>\n",
       "      <td>Sweden</td>\n",
       "      <td>24</td>\n",
       "      <td>N</td>\n",
       "      <td>0.049761</td>\n",
       "      <td>48810.0</td>\n",
       "      <td>0.489769</td>\n",
       "      <td>0.084</td>\n",
       "      <td>0.046280</td>\n",
       "      <td>-0.412978</td>\n",
       "      <td>0.173904</td>\n",
       "      <td>0.171902</td>\n",
       "      <td>0.203248</td>\n",
       "      <td>0.090648</td>\n",
       "      <td>0.359007</td>\n",
       "      <td>-0.444455</td>\n",
       "    </tr>\n",
       "    <tr>\n",
       "      <th>643</th>\n",
       "      <td>Sweden</td>\n",
       "      <td>24</td>\n",
       "      <td>S</td>\n",
       "      <td>0.000000</td>\n",
       "      <td>48810.0</td>\n",
       "      <td>0.489769</td>\n",
       "      <td>0.084</td>\n",
       "      <td>0.024485</td>\n",
       "      <td>-0.583650</td>\n",
       "      <td>0.271068</td>\n",
       "      <td>0.247779</td>\n",
       "      <td>0.164474</td>\n",
       "      <td>0.043148</td>\n",
       "      <td>0.270714</td>\n",
       "      <td>-0.590672</td>\n",
       "    </tr>\n",
       "  </tbody>\n",
       "</table>\n",
       "<p>644 rows × 15 columns</p>\n",
       "</div>"
      ],
      "text/plain": [
       "     Country  IdYear NACE  IA_Adoption   GDPCap  Educ_Rate  Unemp_Rate  \\\n",
       "0    Austria      23    C     0.055203  45510.0   0.387912       0.051   \n",
       "1    Austria      23    D     0.126754  45510.0   0.387912       0.051   \n",
       "2    Austria      23    E     0.014525  45510.0   0.387912       0.051   \n",
       "3    Austria      23    F     0.010688  45510.0   0.387912       0.051   \n",
       "4    Austria      23    G     0.030139  45510.0   0.387912       0.051   \n",
       "..       ...     ...  ...          ...      ...        ...         ...   \n",
       "639   Sweden      24    J     0.139043  48810.0   0.489769       0.084   \n",
       "640   Sweden      24    L     0.038415  48810.0   0.489769       0.084   \n",
       "641   Sweden      24    M     0.117257  48810.0   0.489769       0.084   \n",
       "642   Sweden      24    N     0.049761  48810.0   0.489769       0.084   \n",
       "643   Sweden      24    S     0.000000  48810.0   0.489769       0.084   \n",
       "\n",
       "     Share_Sector       RTI       NRA       NRI        RC        RM       NRM  \\\n",
       "0        0.168422 -0.337260  0.195341  0.155809  0.192028  0.139387  0.316904   \n",
       "1        0.006026 -0.369323  0.303459  0.235639  0.257143  0.060526  0.143233   \n",
       "2        0.004145 -0.146393  0.074754  0.091803  0.248689  0.180000  0.404754   \n",
       "3        0.079080 -0.275242  0.151862  0.112970  0.193807  0.167600  0.373612   \n",
       "4        0.142621 -0.438181  0.148415  0.207513  0.216860  0.062908  0.360133   \n",
       "..            ...       ...       ...       ...       ...       ...       ...   \n",
       "639      0.057350 -0.770359  0.524219  0.326756  0.111461  0.004725  0.032838   \n",
       "640      0.016682 -0.482339  0.270472  0.263859  0.242696  0.017753  0.202753   \n",
       "641      0.108474 -0.640546  0.450916  0.301347  0.163701  0.017954  0.065948   \n",
       "642      0.046280 -0.412978  0.173904  0.171902  0.203248  0.090648  0.359007   \n",
       "643      0.024485 -0.583650  0.271068  0.247779  0.164474  0.043148  0.270714   \n",
       "\n",
       "     Mean_RTI  \n",
       "0   -0.389432  \n",
       "1   -0.417631  \n",
       "2   -0.180648  \n",
       "3   -0.354525  \n",
       "4   -0.452825  \n",
       "..        ...  \n",
       "639 -0.775385  \n",
       "640 -0.499202  \n",
       "641 -0.656047  \n",
       "642 -0.444455  \n",
       "643 -0.590672  \n",
       "\n",
       "[644 rows x 15 columns]"
      ]
     },
     "execution_count": 53,
     "metadata": {},
     "output_type": "execute_result"
    }
   ],
   "source": [
    "# Asumimos que la hoja que contiene NRA, NRI, RC, RM, NRM y RTI es la segunda (index 1)\n",
    "df = pd.read_excel(path, sheet_name=1)\n",
    "df\n",
    "df_2 = pd.read_excel(path, sheet_name=0)\n",
    "df_2 = df_2[['Mean_RTI','ISCO_08']]\n",
    "df_2\n",
    "\n",
    "# 2. Agrupa y calcula medias\n",
    "agg = (\n",
    "    df\n",
    "    .groupby([\"ISCO_08\"], as_index=False)\n",
    "    .agg({\n",
    "        \"NRA\": \"mean\",\n",
    "        \"NRI\": \"mean\",\n",
    "        \"RC\" : \"mean\",\n",
    "        \"RM\" : \"mean\",\n",
    "        \"NRM\":\"mean\",\n",
    "        \"RTI\":\"mean\"\n",
    "    })\n",
    ")\n",
    "\n",
    "# 3. Formatea el código de grupo OC1…OC9 y las medias a 2 decimales con coma decimal\n",
    "agg[\"ISCO_08\"] = agg[\"ISCO_08\"].astype(str).apply(lambda x: f\"{x}\")\n",
    "for col in [\"NRA\",\"NRI\",\"RC\",\"RM\",\"NRM\",\"RTI\"]:\n",
    "    agg[col] = (\n",
    "        agg[col]\n",
    "        .round(2)                    # dos decimales\n",
    "        .astype(str)\n",
    "        .str.replace(\".\", \",\")       # coma decimal\n",
    "    )\n",
    "\n",
    "# 4. Ordena por código para que quede OC1…OC9\n",
    "agg = agg.sort_values(\"ISCO_08\").reset_index(drop=True)\n",
    "agg\n",
    "\n",
    "# 1) Convertir comas a puntos y a float en agg\n",
    "for col in ['NRA','NRI','RC','RM','NRM','RTI']:\n",
    "    agg[col] = agg[col].str.replace(',','.').astype(float)\n",
    "\n",
    "# 2) Hacer merge con data_occupation (10 filas por sector-país-año)\n",
    "data_occ = data_occupation.merge(agg, on='ISCO_08', how='left')\n",
    "data_occ = data_occ.merge(df_2,how='left', on=\"ISCO_08\")\n",
    "data_occ\n",
    "data_occ = data_occ.dropna()\n",
    "data_occ\n",
    "# 3) Agrupar para obtener un solo RTI ponderado por sector-país-año\n",
    "#    Usamos Share_Occupation como peso, y recuperamos los controles (tomamos el primero)\n",
    "data_theory = (\n",
    "    data_occ\n",
    "    .groupby(['Country','IdYear','NACE'], as_index=False)\n",
    "    .agg({\n",
    "        'IA_Adoption':    'first',\n",
    "        'GDPCap':         'first',\n",
    "        'Educ_Rate':      'first',\n",
    "        'Unemp_Rate':     'first',\n",
    "        'Share_Sector':   'first',\n",
    "        # Media ponderada:\n",
    "        'RTI':            lambda x: (x * data_occ.loc[x.index, 'Share_Occupation']).sum(),\n",
    "        # Si quieres también los componentes:\n",
    "        'NRA':            lambda x: (x * data_occ.loc[x.index, 'Share_Occupation']).sum(),\n",
    "        'NRI':            lambda x: (x * data_occ.loc[x.index, 'Share_Occupation']).sum(),\n",
    "        'RC':             lambda x: (x * data_occ.loc[x.index, 'Share_Occupation']).sum(),\n",
    "        'RM':             lambda x: (x * data_occ.loc[x.index, 'Share_Occupation']).sum(),\n",
    "        'NRM':            lambda x: (x * data_occ.loc[x.index, 'Share_Occupation']).sum(),\n",
    "        'Mean_RTI':       lambda x: (x * data_occ.loc[x.index, 'Share_Occupation']).sum()\n",
    "    })\n",
    ")\n",
    "data_theory #dataset para modelos teoricos"
   ]
  },
  {
   "cell_type": "markdown",
   "id": "3511d7f9-e9c7-4b0b-8bc3-4156bd69a5f5",
   "metadata": {},
   "source": [
    "##                               PANEL TEORICO 1"
   ]
  },
  {
   "cell_type": "code",
   "execution_count": 54,
   "id": "e19b74f7-e9a7-4f16-9765-bc05e0938935",
   "metadata": {},
   "outputs": [
    {
     "name": "stdout",
     "output_type": "stream",
     "text": [
      "                          PanelOLS Estimation Summary                           \n",
      "================================================================================\n",
      "Dep. Variable:           Share_Sector   R-squared:                        0.0240\n",
      "Estimator:                   PanelOLS   R-squared (Between):             -0.3278\n",
      "No. Observations:                 644   R-squared (Within):               0.0239\n",
      "Date:                Thu, Sep 25 2025   R-squared (Overall):             -0.1808\n",
      "Time:                        00:04:21   Log-likelihood                    1036.0\n",
      "Cov. Estimator:             Clustered                                           \n",
      "                                        F-statistic:                      2.4904\n",
      "Entities:                          29   P-value                           0.0218\n",
      "Avg Obs:                       22.207   Distribution:                   F(6,608)\n",
      "Min Obs:                       16.000                                           \n",
      "Max Obs:                       24.000   F-statistic (robust):             5.7286\n",
      "                                        P-value                           0.0000\n",
      "Time periods:                       2   Distribution:                   F(6,608)\n",
      "Avg Obs:                       322.00                                           \n",
      "Min Obs:                       318.00                                           \n",
      "Max Obs:                       326.00                                           \n",
      "                                                                                \n",
      "                                  Parameter Estimates                                   \n",
      "========================================================================================\n",
      "                      Parameter  Std. Err.     T-stat    P-value    Lower CI    Upper CI\n",
      "----------------------------------------------------------------------------------------\n",
      "IA_Adoption              0.0971     0.2785     0.3485     0.7276     -0.4499      0.6441\n",
      "Mean_RTI                 0.0331     0.0125     2.6573     0.0081      0.0086      0.0576\n",
      "GDPCap                9.259e-08  5.547e-07     0.1669     0.8675  -9.967e-07   1.182e-06\n",
      "Educ_Rate               -0.0064     0.0498    -0.1290     0.8974     -0.1041      0.0913\n",
      "Unemp_Rate               0.0845     0.0788     1.0719     0.2842     -0.0703      0.2393\n",
      "IA_Adoption:Mean_RTI     0.1467     0.3867     0.3793     0.7046     -0.6127      0.9061\n",
      "========================================================================================\n",
      "\n",
      "F-test for Poolability: 0.3156\n",
      "P-value: 0.9998\n",
      "Distribution: F(29,608)\n",
      "\n",
      "Included effects: Entity, Time\n"
     ]
    }
   ],
   "source": [
    "# 1. Prepara el panel con country y year como índice\n",
    "data_panel_theory = data_theory.set_index(['Country', 'IdYear'])\n",
    "\n",
    "# 2. Fórmula: IA, RTI y su interacción, más los controles y efectos fijos\n",
    "formula = (\n",
    "    'Share_Sector ~ IA_Adoption + Mean_RTI + IA_Adoption:Mean_RTI + GDPCap + Educ_Rate + Unemp_Rate+ EntityEffects + TimeEffects'\n",
    ")\n",
    "\n",
    "# 3. Estima con efectos fijos por entidad y tiempo, errores clusterizados\n",
    "modelo_theory = PanelOLS.from_formula(formula, data=data_panel_theory)\n",
    "results_theory = modelo_theory.fit(\n",
    "    cov_type='clustered',\n",
    "    cluster_entity=True\n",
    ")\n",
    "\n",
    "# 4. Muestra resultados\n",
    "print(results_theory.summary)"
   ]
  },
  {
   "cell_type": "markdown",
   "id": "85f7124c-31e5-4106-b12a-914c4e26bb8c",
   "metadata": {},
   "source": [
    "##                              PANEL TEORICO 2:"
   ]
  },
  {
   "cell_type": "code",
   "execution_count": 55,
   "id": "a1e4dea3-ee56-4f17-bba1-07c9954be856",
   "metadata": {},
   "outputs": [
    {
     "name": "stdout",
     "output_type": "stream",
     "text": [
      "                          PanelOLS Estimation Summary                           \n",
      "================================================================================\n",
      "Dep. Variable:           Share_Sector   R-squared:                        0.2036\n",
      "Estimator:                   PanelOLS   R-squared (Between):             -30.672\n",
      "No. Observations:                 644   R-squared (Within):               0.2008\n",
      "Date:                Thu, Sep 25 2025   R-squared (Overall):             -17.849\n",
      "Time:                        00:04:21   Log-likelihood                    1101.5\n",
      "Cov. Estimator:             Clustered                                           \n",
      "                                        F-statistic:                      12.827\n",
      "Entities:                          29   P-value                           0.0000\n",
      "Avg Obs:                       22.207   Distribution:                  F(12,602)\n",
      "Min Obs:                       16.000                                           \n",
      "Max Obs:                       24.000   F-statistic (robust):             21.181\n",
      "                                        P-value                           0.0000\n",
      "Time periods:                       2   Distribution:                  F(12,602)\n",
      "Avg Obs:                       322.00                                           \n",
      "Min Obs:                       318.00                                           \n",
      "Max Obs:                       326.00                                           \n",
      "                                                                                \n",
      "                                Parameter Estimates                                \n",
      "===================================================================================\n",
      "                 Parameter  Std. Err.     T-stat    P-value    Lower CI    Upper CI\n",
      "-----------------------------------------------------------------------------------\n",
      "IA_Adoption        -1.5088     0.9563    -1.5777     0.1152     -3.3870      0.3693\n",
      "NRA                 0.1630     0.0567     2.8727     0.0042      0.0516      0.2744\n",
      "NRI                 0.7514     0.2306     3.2586     0.0012      0.2986      1.2043\n",
      "RM                  0.5949     0.1597     3.7250     0.0002      0.2812      0.9085\n",
      "NRM                 0.3237     0.0468     6.9092     0.0000      0.2317      0.4157\n",
      "GDPCap          -5.481e-07  1.311e-06    -0.4180     0.6761  -3.123e-06   2.027e-06\n",
      "Educ_Rate           0.1303     0.0681     1.9122     0.0563     -0.0035      0.2642\n",
      "Unemp_Rate          0.1239     0.1167     1.0616     0.2888     -0.1053      0.3531\n",
      "IA_Adoption:NRA    -1.2431     1.4655    -0.8483     0.3966     -4.1213      1.6350\n",
      "IA_Adoption:NRI     6.3001     4.4038     1.4306     0.1531     -2.3486      14.949\n",
      "IA_Adoption:RM      7.6221     3.7066     2.0564     0.0402      0.3427      14.902\n",
      "IA_Adoption:NRM     0.2166     0.6198     0.3494     0.7269     -1.0007      1.4339\n",
      "===================================================================================\n",
      "\n",
      "F-test for Poolability: 0.6749\n",
      "P-value: 0.9023\n",
      "Distribution: F(29,602)\n",
      "\n",
      "Included effects: Entity, Time\n"
     ]
    }
   ],
   "source": [
    "# 1. Creamos el panel con Country y IdYear como índice\n",
    "data_panel = data_theory.set_index(['Country', 'IdYear'])\n",
    "\n",
    "# 2. Definimos la fórmula del modelo de sub-tareas (omitimos RC como categoría base)\n",
    "formula_sub = (\n",
    "    'Share_Sector ~ IA_Adoption '\n",
    "    '+ IA_Adoption:NRA + IA_Adoption:NRI '\n",
    "    '+ IA_Adoption:RM  + IA_Adoption:NRM '\n",
    "    '+ NRA + NRI + RM + NRM '\n",
    "    '+ GDPCap + Educ_Rate + Unemp_Rate '\n",
    "    '+ EntityEffects + TimeEffects'\n",
    ")\n",
    "\n",
    "# 3. Estimamos con PanelOLS y errores estándar clusterizados por entidad (país)\n",
    "modelo_sub = PanelOLS.from_formula(formula_sub, data=data_panel)\n",
    "results_sub = modelo_sub.fit(\n",
    "    cov_type='clustered',\n",
    "    cluster_entity=True\n",
    ")\n",
    "\n",
    "# 4. Imprimimos el resumen de resultados\n",
    "print(results_sub.summary)"
   ]
  },
  {
   "cell_type": "markdown",
   "id": "13a00998-d755-4a37-bc2c-195abce3a94a",
   "metadata": {},
   "source": [
    "## EFECTOS DIRECTOS TEORICO SUB-TAREAS"
   ]
  },
  {
   "cell_type": "code",
   "execution_count": 56,
   "id": "7b65a005-7f77-498e-bc9d-1ffe681fd9bd",
   "metadata": {},
   "outputs": [
    {
     "name": "stdout",
     "output_type": "stream",
     "text": [
      "     Efecto_total      SE       t  p-value\n",
      "RC        -1.5088  0.9563 -1.5777   0.1146\n",
      "NRA       -2.7520  2.0720 -1.3282   0.1841\n",
      "NRI        4.7913  3.5896  1.3348   0.1820\n",
      "RM         6.1133  2.8184  2.1691   0.0301\n",
      "NRM       -1.2922  0.8511 -1.5183   0.1289\n"
     ]
    }
   ],
   "source": [
    "# Lista de subtareas y la categoría base (RC)\n",
    "subtareas = ['RC', 'NRA', 'NRI', 'RM', 'NRM']\n",
    "\n",
    "# Extraemos parámetros y matriz de var-cov\n",
    "b = results_sub.params\n",
    "V = results_sub.cov\n",
    "\n",
    "resultados = {}\n",
    "\n",
    "# Función helper para cada subtarea\n",
    "for tarea in subtareas:\n",
    "    if tarea == 'RC':\n",
    "        # Efecto puro IA en la categoría omitida (RC=1)\n",
    "        efecto = b['IA_Adoption']\n",
    "        var = V.loc['IA_Adoption','IA_Adoption']\n",
    "    else:\n",
    "        # Interacción IA × tarea\n",
    "        inter = f'IA_Adoption:{tarea}'\n",
    "        coef_int = b.get(inter, 0.0)\n",
    "        efecto = b['IA_Adoption'] + coef_int\n",
    "\n",
    "        # var(β1 + β_int) = var(β1) + var(β_int) + 2 cov(β1, β_int)\n",
    "        var = (\n",
    "            V.loc['IA_Adoption','IA_Adoption']\n",
    "            + V.loc[inter, inter]\n",
    "            + 2 * V.loc['IA_Adoption', inter]\n",
    "        )\n",
    "\n",
    "    se = np.sqrt(var)\n",
    "    t  = efecto / se\n",
    "    p  = 2 * (1 - norm.cdf(abs(t)))\n",
    "\n",
    "    resultados[tarea] = {\n",
    "        'Efecto_total': efecto,\n",
    "        'SE':            se,\n",
    "        't':             t,\n",
    "        'p-value':       p\n",
    "    }\n",
    "\n",
    "df_ef = pd.DataFrame(resultados).T\n",
    "print(df_ef.round(4))"
   ]
  },
  {
   "cell_type": "markdown",
   "id": "edc7fb85-8135-4397-9f45-40bdb28818f5",
   "metadata": {},
   "source": [
    "##                                                                      --- PRUEBA DE ROBUSTEZ ---\n"
   ]
  },
  {
   "cell_type": "markdown",
   "id": "de8f52ff-07a6-4b18-8f20-b22649731de9",
   "metadata": {},
   "source": [
    "# --MODELO 1 - SECTORIAL --"
   ]
  },
  {
   "cell_type": "code",
   "execution_count": 57,
   "id": "f80993da-18af-4ddc-89c0-30962838a371",
   "metadata": {},
   "outputs": [
    {
     "name": "stdout",
     "output_type": "stream",
     "text": [
      "       Variable        VIF\n",
      "0         const  81.995129\n",
      "1   IA_Adoption  14.740148\n",
      "2        GDPCap   2.128643\n",
      "3     Educ_Rate   1.792428\n",
      "4    Unemp_Rate   1.142535\n",
      "5        NACE_C   8.326376\n",
      "6        NACE_D   5.631709\n",
      "7        NACE_E   5.524543\n",
      "8        NACE_F   6.992427\n",
      "9        NACE_G   7.899199\n",
      "10       NACE_H   7.715439\n",
      "11       NACE_I   6.991144\n",
      "12       NACE_J  10.252530\n",
      "13       NACE_L   6.551559\n",
      "14       NACE_N   7.917726\n",
      "15       NACE_S   4.908736\n",
      "16    NACE_C_IA   5.570891\n",
      "17    NACE_D_IA   6.566965\n",
      "18    NACE_E_IA   2.656118\n",
      "19    NACE_F_IA   2.781183\n",
      "20    NACE_G_IA   4.240057\n",
      "21    NACE_H_IA   3.666605\n",
      "22    NACE_I_IA   3.044826\n",
      "23    NACE_J_IA  16.152085\n",
      "24    NACE_L_IA   3.131546\n",
      "25    NACE_N_IA   4.844024\n",
      "26    NACE_S_IA   3.071753\n"
     ]
    }
   ],
   "source": [
    "# - VIF\n",
    "\n",
    "# 1. Reset índice y limpiar NAs\n",
    "df = data_panel_sector.reset_index()\n",
    "vars_reg = ['IA_Adoption', 'GDPCap', 'Educ_Rate', 'Unemp_Rate', 'NACE']\n",
    "df = df.dropna(subset=vars_reg)\n",
    "\n",
    "# 2. Dummies NACE e interacciones\n",
    "nace_dummies = pd.get_dummies(df['NACE'], prefix='NACE', drop_first=True)\n",
    "df_vif = pd.concat([df, nace_dummies], axis=1)\n",
    "interaction_cols = []\n",
    "for col in nace_dummies.columns:\n",
    "    inter = f\"{col}_IA\"\n",
    "    df_vif[inter] = df_vif['IA_Adoption'] * df_vif[col]\n",
    "    interaction_cols.append(inter)\n",
    "\n",
    "# 3. Montar X con solo numéricas\n",
    "exog_cols = ['IA_Adoption', 'GDPCap', 'Educ_Rate', 'Unemp_Rate'] + nace_dummies.columns.tolist() + interaction_cols\n",
    "X = df_vif[exog_cols]\n",
    "\n",
    "# 4. Convertir todo a float y eliminar columnas que no se puedan convertir\n",
    "X = X.apply(pd.to_numeric, errors='coerce')\n",
    "X = X.dropna(axis=1, how='all')  # elimina cols que quedaron NaN completo\n",
    "X = X.astype(float)\n",
    "\n",
    "# 5. Añadir constante\n",
    "X_const = sm.add_constant(X, has_constant='add')\n",
    "\n",
    "# 6. Calcular VIF\n",
    "vif_data = []\n",
    "for i, col in enumerate(X_const.columns):\n",
    "    vif = variance_inflation_factor(X_const.values, i)\n",
    "    vif_data.append({'Variable': col, 'VIF': vif})\n",
    "vif_df = pd.DataFrame(vif_data)\n",
    "\n",
    "print(vif_df)"
   ]
  },
  {
   "cell_type": "code",
   "execution_count": 58,
   "id": "0a6b99e0-8ea4-49b9-b3b3-400d4dcd3b5c",
   "metadata": {},
   "outputs": [
    {
     "name": "stdout",
     "output_type": "stream",
     "text": [
      "Breusch–Pagan LM statistic: 215.108, p-value: 0.000\n"
     ]
    }
   ],
   "source": [
    "# - Breusch-Pagan en panel (residuos FE)\n",
    "\n",
    "# 1. Extrae residuos como array 1D\n",
    "resid = results_sector.resids.values\n",
    "\n",
    "# 2. Extrae exógenas como array 2D (sin constante)\n",
    "exog_raw = results_sector.model.exog.values2d\n",
    "\n",
    "# 3. Añade manualmente una columna de unos al principio\n",
    "ones = np.ones((exog_raw.shape[0], 1))\n",
    "exog_bp = np.hstack([ones, exog_raw])\n",
    "\n",
    "# 4. Ejecuta la prueba de Breusch–Pagan\n",
    "bp_stat, bp_pvalue, f_stat, f_pvalue = het_breuschpagan(resid, exog_bp)\n",
    "\n",
    "print(f\"Breusch–Pagan LM statistic: {bp_stat:.3f}, p-value: {bp_pvalue:.3f}\")"
   ]
  },
  {
   "cell_type": "markdown",
   "id": "f06712f2-085d-4f45-9c15-5918437a099d",
   "metadata": {},
   "source": [
    "# --MODELO 2 - OCUPACIONAL --"
   ]
  },
  {
   "cell_type": "code",
   "execution_count": 59,
   "id": "b449bfb9-1cc4-4b80-89cd-468b91d8a36a",
   "metadata": {},
   "outputs": [
    {
     "name": "stdout",
     "output_type": "stream",
     "text": [
      "       Variable        VIF\n",
      "0         const  46.564962\n",
      "1   IA_Adoption  10.102559\n",
      "2        GDPCap   1.853157\n",
      "3     Educ_Rate   1.768007\n",
      "4    Unemp_Rate   1.128229\n",
      "5      ISCO_OC0   3.631463\n",
      "6      ISCO_OC1   3.631463\n",
      "7      ISCO_OC3   3.631463\n",
      "8      ISCO_OC4   3.631463\n",
      "9      ISCO_OC5   3.631463\n",
      "10     ISCO_OC6   3.631463\n",
      "11     ISCO_OC7   3.631463\n",
      "12     ISCO_OC8   3.631463\n",
      "13     ISCO_OC9   3.631463\n",
      "14  ISCO_OC0_IA   3.831463\n",
      "15  ISCO_OC1_IA   3.831463\n",
      "16  ISCO_OC3_IA   3.831463\n",
      "17  ISCO_OC4_IA   3.831463\n",
      "18  ISCO_OC5_IA   3.831463\n",
      "19  ISCO_OC6_IA   3.831463\n",
      "20  ISCO_OC7_IA   3.831463\n",
      "21  ISCO_OC8_IA   3.831463\n",
      "22  ISCO_OC9_IA   3.831463\n"
     ]
    }
   ],
   "source": [
    "# - VIF\n",
    "\n",
    "# 1. Reset del índice para tener Country, IdYear e ISCO_08 como columnas\n",
    "df = data_occupation.reset_index()\n",
    "\n",
    "# 2. Eliminar filas con NA en las variables base\n",
    "vars_reg = ['IA_Adoption', 'GDPCap', 'Educ_Rate', 'Unemp_Rate', 'ISCO_08']\n",
    "df = df.dropna(subset=vars_reg)\n",
    "\n",
    "# 3. Crear dummies para ISCO_08 (sin la primera categoría)\n",
    "isco_dummies = pd.get_dummies(df['ISCO_08'], prefix='ISCO', drop_first=True)\n",
    "\n",
    "# 4. Unir esas dummies al DataFrame\n",
    "df_vif = pd.concat([df, isco_dummies], axis=1)\n",
    "\n",
    "# 5. Construir la lista de dummies efectivas\n",
    "isco_cols = isco_dummies.columns.tolist()\n",
    "\n",
    "# 6. Crear interacciones IA × cada dummy de ISCO\n",
    "interaction_cols = []\n",
    "for col in isco_cols:\n",
    "    inter = f'{col}_IA'\n",
    "    df_vif[inter] = df_vif[col] * df_vif['IA_Adoption']\n",
    "    interaction_cols.append(inter)\n",
    "\n",
    "# 7. Definir todas las variables explicativas\n",
    "exog_cols = (\n",
    "    ['IA_Adoption', 'GDPCap', 'Educ_Rate', 'Unemp_Rate']\n",
    "    + isco_cols\n",
    "    + interaction_cols\n",
    ")\n",
    "\n",
    "# 8. Construir la matriz X y convertir todo a float\n",
    "X = df_vif[exog_cols].apply(pd.to_numeric, errors='coerce')\n",
    "X = X.dropna(axis=1, how='all').astype(float)\n",
    "\n",
    "# 9. Añadir constante\n",
    "X_const = sm.add_constant(X, has_constant='add')\n",
    "\n",
    "# 10. Calcular VIF para cada variable\n",
    "vif_data = []\n",
    "for i, col in enumerate(X_const.columns):\n",
    "    vif = variance_inflation_factor(X_const.values, i)\n",
    "    vif_data.append({'Variable': col, 'VIF': vif})\n",
    "vif_df = pd.DataFrame(vif_data)\n",
    "\n",
    "print(vif_df)"
   ]
  },
  {
   "cell_type": "code",
   "execution_count": 60,
   "id": "a93c0907-74ad-4c18-ae8b-844c92b5f5e1",
   "metadata": {},
   "outputs": [
    {
     "name": "stdout",
     "output_type": "stream",
     "text": [
      "BP ocupacional:  LM=731.838,  p=0.000\n"
     ]
    }
   ],
   "source": [
    "# - Breusch-Pagan en panel (residuos FE)\n",
    "\n",
    "resid_occ = results_occ.resids.values\n",
    "exog_occ  = np.hstack([np.ones((results_occ.model.exog.values2d.shape[0], 1)),\n",
    "                       results_occ.model.exog.values2d])\n",
    "\n",
    "bp_stat_occ, bp_pvalue_occ, _, _ = het_breuschpagan(resid_occ, exog_occ)\n",
    "print(f\"BP ocupacional:  LM={bp_stat_occ:.3f},  p={bp_pvalue_occ:.3f}\")"
   ]
  },
  {
   "cell_type": "markdown",
   "id": "c1c78ddd-246d-4643-9516-43a281c6e147",
   "metadata": {},
   "source": [
    "#                                                                       --- ANALISIS DESCRIPTIVO ---"
   ]
  },
  {
   "cell_type": "markdown",
   "id": "354a7831-8d3f-4839-babc-4fc813f3eb77",
   "metadata": {},
   "source": [
    "#                          --MODELO 1 - SECTORIAL --"
   ]
  },
  {
   "cell_type": "code",
   "execution_count": 61,
   "id": "29bba7ba-d336-433c-9ef6-c3259c6bc2bf",
   "metadata": {},
   "outputs": [
    {
     "name": "stdout",
     "output_type": "stream",
     "text": [
      "                     Media    Desv. Est.       Mínimo         Máximo\n",
      "IA_Adoption       0.038135      0.037836     0.000000       0.250000\n",
      "Share_Sector      0.056873      0.049397     0.001212       0.252787\n",
      "GDPCap        33140.590062  20743.583129  8520.000000  101450.000000\n",
      "Educ_Rate         0.399093      0.084905     0.228817       0.581068\n",
      "Unemp_Rate        0.057921      0.022146     0.026000       0.122000\n"
     ]
    }
   ],
   "source": [
    "# Selecciona las variables clave para el descriptivo\n",
    "variables = ['IA_Adoption', 'Share_Sector', 'GDPCap', 'Educ_Rate', 'Unemp_Rate']\n",
    "\n",
    "# Calcula los estadísticos descriptivos básicos (media, desv. estándar, mínimo, máximo)\n",
    "tabla_descriptiva = data_sector[variables].describe().T[['mean', 'std', 'min', 'max']]\n",
    "tabla_descriptiva = tabla_descriptiva.rename(columns={\n",
    "    'mean': 'Media',\n",
    "    'std': 'Desv. Est.',\n",
    "    'min': 'Mínimo',\n",
    "    'max': 'Máximo'\n",
    "})\n",
    "print(tabla_descriptiva)"
   ]
  },
  {
   "cell_type": "code",
   "execution_count": 62,
   "id": "78bdaca4-d527-4b6b-910a-c96d2395f3a0",
   "metadata": {},
   "outputs": [
    {
     "data": {
      "image/png": "[encoded data removed]",
      "text/plain": [
       "<Figure size 600x400 with 1 Axes>"
      ]
     },
     "metadata": {},
     "output_type": "display_data"
    }
   ],
   "source": [
    "# Histograma de IA_Adoption\n",
    "plt.figure(figsize=(6,4))\n",
    "sns.histplot(data_sector['IA_Adoption'], bins=20, kde=True)\n",
    "plt.title('Distribución de IA_Adoption (Sectorial)')\n",
    "plt.xlabel('IA_Adoption')\n",
    "plt.ylabel('Frecuencia')\n",
    "plt.tight_layout()\n",
    "plt.show()\n"
   ]
  },
  {
   "cell_type": "code",
   "execution_count": 63,
   "id": "dad9de3d-18bc-4ab1-85d0-193c811c3332",
   "metadata": {},
   "outputs": [
    {
     "data": {
      "image/png": "[encoded data removed]",
      "text/plain": [
       "<Figure size 600x400 with 1 Axes>"
      ]
     },
     "metadata": {},
     "output_type": "display_data"
    }
   ],
   "source": [
    "# Histograma de Share_Sector (variable dependiente)\n",
    "plt.figure(figsize=(6,4))\n",
    "sns.histplot(data_sector['Share_Sector'], bins=20, kde=True)\n",
    "plt.title('Distribución de Share_Sector')\n",
    "plt.xlabel('Share_Sector')\n",
    "plt.ylabel('Frecuencia')\n",
    "plt.tight_layout()\n",
    "plt.show()\n"
   ]
  },
  {
   "cell_type": "code",
   "execution_count": 64,
   "id": "a58cc115-52d2-4b83-b438-751ddce62fde",
   "metadata": {},
   "outputs": [
    {
     "data": {
      "image/png": "[encoded data removed]",
      "text/plain": [
       "<Figure size 800x500 with 1 Axes>"
      ]
     },
     "metadata": {},
     "output_type": "display_data"
    }
   ],
   "source": [
    "# Observaciones por sector\n",
    "\n",
    "counts = data_sector['NACE'].value_counts().sort_index()\n",
    "\n",
    "fig, ax = plt.subplots(figsize=(8, 5))\n",
    "ax.bar(counts.index, counts.values)\n",
    "ax.set_title('Número de Observaciones por Sector Agregado (NACE)')\n",
    "ax.set_xlabel('Sector (NACE)')\n",
    "ax.set_ylabel('Número de Observaciones')\n",
    "plt.tight_layout()\n",
    "plt.show()"
   ]
  },
  {
   "cell_type": "code",
   "execution_count": 65,
   "id": "df7716e9-ea2a-4b52-9fa3-8687651e5192",
   "metadata": {},
   "outputs": [
    {
     "data": {
      "image/png": "[encoded data removed]",
      "text/plain": [
       "<Figure size 800x500 with 1 Axes>"
      ]
     },
     "metadata": {},
     "output_type": "display_data"
    }
   ],
   "source": [
    "counts = data_IA['NACE'].value_counts().sort_index()\n",
    "\n",
    "fig, ax = plt.subplots(figsize=(8, 5))\n",
    "ax.bar(counts.index, counts.values)\n",
    "ax.set_title('Número de Observaciones por Sector (NACE)')\n",
    "ax.set_xlabel('Sector (NACE)')\n",
    "ax.set_ylabel('Número de Observaciones')\n",
    "plt.tight_layout()\n",
    "plt.show()\n"
   ]
  },
  {
   "cell_type": "code",
   "execution_count": 66,
   "id": "8bb825b5-0ed4-40e0-b5e0-f6e0b1e31c6f",
   "metadata": {},
   "outputs": [
    {
     "name": "stderr",
     "output_type": "stream",
     "text": [
      "/var/folders/jd/z2fjh1_11qq8pyp05ldmsvz00000gn/T/ipykernel_57948/3665288327.py:6: FutureWarning: The default value of observed=False is deprecated and will change to observed=True in a future version of pandas. Specify observed=False to silence this warning and retain the current behavior\n",
      "  .pivot_table(index=['Country', 'NACE'],\n"
     ]
    },
    {
     "data": {
      "image/png": "[encoded data removed]",
      "text/plain": [
       "<Figure size 800x600 with 1 Axes>"
      ]
     },
     "metadata": {},
     "output_type": "display_data"
    }
   ],
   "source": [
    "# Crecimiento IA\n",
    "\n",
    "# 1. Pivot para tener columnas separadas de IA_Adoption en 2023 y 2024\n",
    "df_wide = (\n",
    "    data_sector\n",
    "    .pivot_table(index=['Country', 'NACE'],\n",
    "                 columns='IdYear',\n",
    "                 values='IA_Adoption',\n",
    "                 aggfunc='first')\n",
    "    .reset_index()\n",
    "    .rename(columns={23: 'IA_2023', 24: 'IA_2024'})\n",
    ")\n",
    "\n",
    "# 2. Eliminar filas con algún NA\n",
    "df_wide = df_wide.dropna(subset=['IA_2023', 'IA_2024'])\n",
    "\n",
    "# 3. Gráfica scatter mostrando cada observación\n",
    "fig, ax = plt.subplots(figsize=(8, 6))\n",
    "ax.scatter(df_wide['IA_2023'], df_wide['IA_2024'])\n",
    "# Línea 45° para ver crecimiento\n",
    "lim = max(df_wide['IA_2023'].max(), df_wide['IA_2024'].max())\n",
    "ax.plot([0, lim], [0, lim], linestyle='--')\n",
    "ax.set_title('IA_Adoption: 2023 vs 2024 por Sector')\n",
    "ax.set_xlabel('IA_Adoption 2023')\n",
    "ax.set_ylabel('IA_Adoption 2024')\n",
    "plt.tight_layout()\n",
    "plt.show()\n"
   ]
  },
  {
   "cell_type": "markdown",
   "id": "b0245be0-f3b8-4bb5-b3dc-04465502b648",
   "metadata": {},
   "source": [
    "#                          --MODELO 2 - OCUPACIONAL --"
   ]
  },
  {
   "cell_type": "code",
   "execution_count": 67,
   "id": "a5b532a0-48c1-4758-a546-09b752882516",
   "metadata": {},
   "outputs": [
    {
     "name": "stdout",
     "output_type": "stream",
     "text": [
      "                         Media    Desv. Est.       Mínimo         Máximo\n",
      "IA_Adoption           0.038135      0.037809     0.000000       0.250000\n",
      "Share_Occupation      0.100000      0.157704     0.000000       1.000000\n",
      "GDPCap            33140.590062  20729.081069  8520.000000  101450.000000\n",
      "Educ_Rate             0.399093      0.084846     0.228817       0.581068\n",
      "Unemp_Rate            0.057921      0.022131     0.026000       0.122000\n",
      "Share_Sector          0.056873      0.049362     0.001212       0.252787\n"
     ]
    }
   ],
   "source": [
    "# Selecciona las variables clave para el descriptivo\n",
    "variables_ocup = ['IA_Adoption', 'Share_Occupation', 'GDPCap', 'Educ_Rate', 'Unemp_Rate','Share_Sector']\n",
    "\n",
    "# Calcula los estadísticos descriptivos básicos (media, desv. estándar, mínimo, máximo)\n",
    "tabla_descriptiva_ocup = data_occupation[variables_ocup].describe().T[['mean', 'std', 'min', 'max']]\n",
    "tabla_descriptiva_ocup = tabla_descriptiva_ocup.rename(columns={\n",
    "    'mean': 'Media',\n",
    "    'std': 'Desv. Est.',\n",
    "    'min': 'Mínimo',\n",
    "    'max': 'Máximo'\n",
    "})\n",
    "print(tabla_descriptiva_ocup)"
   ]
  },
  {
   "cell_type": "code",
   "execution_count": 68,
   "id": "d862bf49-3c96-4827-8b4d-e19e7da0bd36",
   "metadata": {},
   "outputs": [
    {
     "data": {
      "image/png": "[encoded data removed]",
      "text/plain": [
       "<Figure size 600x400 with 1 Axes>"
      ]
     },
     "metadata": {},
     "output_type": "display_data"
    }
   ],
   "source": [
    "# Histograma de IA_Adoption\n",
    "plt.figure(figsize=(6,4))\n",
    "sns.histplot(data_occupation['IA_Adoption'], bins=20, kde=True)\n",
    "plt.title('Distribución de IA_Adoption (Ocupacional)')\n",
    "plt.xlabel('IA_Adoption')\n",
    "plt.ylabel('Frecuencia')\n",
    "plt.tight_layout()\n",
    "plt.show()"
   ]
  },
  {
   "cell_type": "code",
   "execution_count": 69,
   "id": "11939f01-2a5b-4821-984c-efc69ae24626",
   "metadata": {},
   "outputs": [
    {
     "data": {
      "image/png": "[encoded data removed]",
      "text/plain": [
       "<Figure size 600x400 with 1 Axes>"
      ]
     },
     "metadata": {},
     "output_type": "display_data"
    }
   ],
   "source": [
    "# Histograma de Share_Occupation (variable dependiente)\n",
    "plt.figure(figsize=(6,4))\n",
    "sns.histplot(data_occupation['Share_Occupation'], bins=20, kde=True)\n",
    "plt.title('Distribución de Share_Occupation')\n",
    "plt.xlabel('Share_Occupation')\n",
    "plt.ylabel('Frecuencia')\n",
    "plt.tight_layout()\n",
    "plt.show()"
   ]
  },
  {
   "cell_type": "code",
   "execution_count": 70,
   "id": "ce112f45-04ef-4ed2-8ee0-29e99eba291f",
   "metadata": {
    "scrolled": true
   },
   "outputs": [
    {
     "name": "stderr",
     "output_type": "stream",
     "text": [
      "/var/folders/jd/z2fjh1_11qq8pyp05ldmsvz00000gn/T/ipykernel_57948/1228239961.py:6: FutureWarning: The default of observed=False is deprecated and will be changed to True in a future version of pandas. Pass observed=False to retain current behavior or observed=True to adopt the future default and silence this warning.\n",
      "  .groupby(['NACE', 'ISCO_08'], as_index=False)['Share_Occupation']\n"
     ]
    },
    {
     "name": "stdout",
     "output_type": "stream",
     "text": [
      "ISCO_08   OC1   OC2   OC3   OC4   OC5   OC6   OC7   OC8   OC9  Total\n",
      "NACE                                                                \n",
      "C        0.06  0.15  0.14  0.07  0.03  0.00  0.28  0.21  0.07    1.0\n",
      "D        0.03  0.30  0.31  0.11  0.01  0.00  0.21  0.02  0.01    1.0\n",
      "E        0.02  0.07  0.17  0.09  0.01  0.00  0.10  0.22  0.32    1.0\n",
      "F        0.06  0.06  0.10  0.04  0.00  0.00  0.56  0.07  0.09    1.0\n",
      "G        0.08  0.09  0.12  0.09  0.43  0.00  0.10  0.03  0.06    1.0\n",
      "H        0.05  0.06  0.10  0.19  0.04  0.00  0.03  0.44  0.08    1.0\n",
      "I        0.09  0.01  0.05  0.06  0.57  0.00  0.01  0.01  0.20    1.0\n",
      "J        0.08  0.63  0.19  0.06  0.01  0.00  0.02  0.00  0.00    1.0\n",
      "L        0.08  0.06  0.61  0.10  0.07  0.00  0.02  0.00  0.06    1.0\n",
      "M        0.07  0.58  0.22  0.09  0.01  0.00  0.02  0.00  0.01    1.0\n",
      "N        0.05  0.08  0.10  0.13  0.23  0.03  0.03  0.03  0.32    1.0\n",
      "S        0.04  0.15  0.10  0.05  0.53  0.00  0.06  0.02  0.04    1.0\n"
     ]
    }
   ],
   "source": [
    "#Proporciones de ocupaciones\n",
    "\n",
    "# 1. Agrupa por sector (NACE) y ocupación (ISCO_08), calculando la media de Share_Occupation\n",
    "df_group = (\n",
    "    data_occupation\n",
    "    .groupby(['NACE', 'ISCO_08'], as_index=False)['Share_Occupation']\n",
    "    .mean()\n",
    ")\n",
    "\n",
    "# 2. Pivot a formato ancho: filas = NACE, columnas = OC1…OC9\n",
    "tabla = (\n",
    "    df_group\n",
    "    .pivot(index='NACE', columns='ISCO_08', values='Share_Occupation')\n",
    "    .fillna(0)\n",
    ")\n",
    "\n",
    "# 3. Asegura que las columnas estén en orden OC1…OC9\n",
    "cols = [f'OC{i}' for i in range(1, 10)]\n",
    "tabla = tabla.reindex(columns=cols, fill_value=0)\n",
    "\n",
    "# 4. Añade columna Total que suma las proporciones por fila\n",
    "tabla['Total'] = tabla.sum(axis=1)\n",
    "\n",
    "print(tabla.round(2))"
   ]
  },
  {
   "cell_type": "markdown",
   "id": "1e0682ca-f199-4804-9828-0f77be57e9c7",
   "metadata": {},
   "source": [
    "#                          --MODELO 3 - TEORICO --"
   ]
  },
  {
   "cell_type": "code",
   "execution_count": 71,
   "id": "da3e547a-dd59-4a59-8234-bf78e61b4a60",
   "metadata": {},
   "outputs": [
    {
     "name": "stdout",
     "output_type": "stream",
     "text": [
      "                     Media    Desv. Est.       Mínimo         Máximo\n",
      "IA_Adoption       0.038135      0.037836     0.000000       0.250000\n",
      "Share_Sector      0.056873      0.049397     0.001212       0.252787\n",
      "GDPCap        33140.590062  20743.583129  8520.000000  101450.000000\n",
      "Educ_Rate         0.399093      0.084905     0.228817       0.581068\n",
      "Unemp_Rate        0.057921      0.022146     0.026000       0.122000\n",
      "RTI              -0.422084      0.217866    -0.900000       0.420323\n",
      "NRA               0.224202      0.141192     0.000000       0.590000\n",
      "NRI               0.197311      0.077567     0.010000       0.341677\n",
      "RC                0.193943      0.055721     0.050000       0.395600\n",
      "RM                0.095239      0.087904     0.000000       0.520000\n",
      "NRM               0.287664      0.161073     0.020000       0.840000\n",
      "Mean_RTI         -0.449249      0.212180    -0.891105       0.428919\n"
     ]
    }
   ],
   "source": [
    "# Selecciona las variables clave para el descriptivo\n",
    "variables = ['IA_Adoption', 'Share_Sector', 'GDPCap', 'Educ_Rate', 'Unemp_Rate','RTI', 'NRA', 'NRI', 'RC', 'RM', 'NRM', 'Mean_RTI']\n",
    "\n",
    "# Calcula los estadísticos descriptivos básicos (media, desv. estándar, mínimo, máximo)\n",
    "tabla_descriptiva = data_theory[variables].describe().T[['mean', 'std', 'min', 'max']]\n",
    "tabla_descriptiva = tabla_descriptiva.rename(columns={\n",
    "    'mean': 'Media',\n",
    "    'std': 'Desv. Est.',\n",
    "    'min': 'Mínimo',\n",
    "    'max': 'Máximo'\n",
    "})\n",
    "print(tabla_descriptiva)"
   ]
  },
  {
   "cell_type": "code",
   "execution_count": 72,
   "id": "f1e09fbe-60d8-4cf7-953b-0905c36dc8fb",
   "metadata": {},
   "outputs": [
    {
     "data": {
      "image/png": "[encoded data removed]",
      "text/plain": [
       "<Figure size 600x400 with 1 Axes>"
      ]
     },
     "metadata": {},
     "output_type": "display_data"
    }
   ],
   "source": [
    "# Histograma de IA_Adoption\n",
    "plt.figure(figsize=(6,4))\n",
    "sns.histplot(data_sector['IA_Adoption'], bins=20, kde=True)\n",
    "plt.title('Distribución de IA_Adoption (Sectorial)')\n",
    "plt.xlabel('IA_Adoption')\n",
    "plt.ylabel('Frecuencia')\n",
    "plt.tight_layout()\n",
    "plt.show()"
   ]
  },
  {
   "cell_type": "code",
   "execution_count": 73,
   "id": "9d3dc438-acbc-431d-8e1d-4507b05c4955",
   "metadata": {},
   "outputs": [
    {
     "data": {
      "image/png": "[encoded data removed]",
      "text/plain": [
       "<Figure size 600x400 with 1 Axes>"
      ]
     },
     "metadata": {},
     "output_type": "display_data"
    }
   ],
   "source": [
    "# Histograma de Share_Sector (variable dependiente)\n",
    "plt.figure(figsize=(6,4))\n",
    "sns.histplot(data_sector['Share_Sector'], bins=20, kde=True)\n",
    "plt.title('Distribución de Share_Sector')\n",
    "plt.xlabel('Share_Sector')\n",
    "plt.ylabel('Frecuencia')\n",
    "plt.tight_layout()\n",
    "plt.show()"
   ]
  },
  {
   "cell_type": "code",
   "execution_count": 74,
   "id": "e1be3e16-9d44-4436-98e7-3af1e549c0e5",
   "metadata": {},
   "outputs": [
    {
     "name": "stdout",
     "output_type": "stream",
     "text": [
      "        Country  Observations\n",
      "0        Sweden            24\n",
      "1   Netherlands            24\n",
      "2        Poland            24\n",
      "3      Portugal            24\n",
      "4       Belgium            24\n",
      "5       Romania            24\n",
      "6       Hungary            24\n",
      "7        Greece            24\n",
      "8        France            24\n",
      "9        Serbia            24\n",
      "10     Slovakia            24\n",
      "11      Denmark            24\n",
      "12      Czechia            24\n",
      "13     Slovenia            24\n",
      "14     Bulgaria            24\n",
      "15      Germany            23\n",
      "16      Croatia            23\n",
      "17       Norway            22\n",
      "18      Austria            22\n",
      "19       Cyprus            22\n",
      "20    Lithuania            21\n",
      "21       Latvia            21\n",
      "22      Ireland            20\n",
      "23      Estonia            20\n",
      "24        Spain            20\n",
      "25        Malta            18\n",
      "26      Finland            18\n",
      "27        Italy            18\n",
      "28   Luxembourg            16\n"
     ]
    }
   ],
   "source": [
    "# Num observations by country\n",
    "df_counts = data_sector['Country'].value_counts() \\\n",
    "    .rename_axis('Country') \\\n",
    "    .reset_index(name='Observations')\n",
    "\n",
    "print(df_counts)"
   ]
  },
  {
   "cell_type": "code",
   "execution_count": 75,
   "id": "e9cb1746-0638-4547-b084-d389d3a65f87",
   "metadata": {},
   "outputs": [],
   "source": [
    "# Dowload csv:\n",
    "#data_sector.to_csv('data_sector.csv', index=True)\n",
    "#data_occupation.to_csv('data_occupation.csv',index=True)\n",
    "#data_theory.to_csv('data_theory.csv', index=True)"
   ]
  }
 ],
 "metadata": {
  "kernelspec": {
   "display_name": "Python 3 (ipykernel)",
   "language": "python",
   "name": "python3"
  },
  "language_info": {
   "codemirror_mode": {
    "name": "ipython",
    "version": 3
   },
   "file_extension": ".py",
   "mimetype": "text/x-python",
   "name": "python",
   "nbconvert_exporter": "python",
   "pygments_lexer": "ipython3",
   "version": "3.12.4"
  }
 },
 "nbformat": 4,
 "nbformat_minor": 5
}
